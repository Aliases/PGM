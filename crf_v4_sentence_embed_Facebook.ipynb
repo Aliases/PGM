{
 "cells": [
  {
   "cell_type": "code",
   "execution_count": 1,
   "metadata": {
    "collapsed": false,
    "deletable": true,
    "editable": true
   },
   "outputs": [
    {
     "name": "stderr",
     "output_type": "stream",
     "text": [
      "/home/aananya/Work/GenderBiasAnalysis/InferSent/.venvInferSent/lib/python3.6/site-packages/h5py/__init__.py:36: FutureWarning: Conversion of the second argument of issubdtype from `float` to `np.floating` is deprecated. In future, it will be treated as `np.float64 == np.dtype(float).type`.\n",
      "  from ._conv import register_converters as _register_converters\n"
     ]
    }
   ],
   "source": [
    "import pandas\n",
    "import numpy as np\n",
    "import tensorflow as tf\n",
    "import os\n",
    "import math\n",
    "import random as rand\n",
    "from random import random"
   ]
  },
  {
   "cell_type": "markdown",
   "metadata": {
    "deletable": true,
    "editable": true
   },
   "source": [
    "# Data Preparation"
   ]
  },
  {
   "cell_type": "code",
   "execution_count": 2,
   "metadata": {
    "collapsed": true,
    "deletable": true,
    "editable": true
   },
   "outputs": [],
   "source": [
    "trainDataFile = 'ijcnlp_dailydialog/train/dialogues_train.txt'\n",
    "trainLabelsFile = 'ijcnlp_dailydialog/train/dialogues_act_train.txt' "
   ]
  },
  {
   "cell_type": "code",
   "execution_count": 3,
   "metadata": {
    "collapsed": true,
    "deletable": true,
    "editable": true
   },
   "outputs": [],
   "source": [
    "testDataFile = 'ijcnlp_dailydialog/validation/dialogues_validation.txt'\n",
    "testLablesFile = 'ijcnlp_dailydialog/validation/dialogues_act_validation.txt'"
   ]
  },
  {
   "cell_type": "code",
   "execution_count": 4,
   "metadata": {
    "collapsed": true,
    "deletable": true,
    "editable": true
   },
   "outputs": [],
   "source": [
    "lineSeparator = '__eou__'"
   ]
  },
  {
   "cell_type": "code",
   "execution_count": 5,
   "metadata": {
    "collapsed": true,
    "deletable": true,
    "editable": true
   },
   "outputs": [],
   "source": [
    "def getData(dialogueFile, labelFile):\n",
    "    with open(dialogueFile) as f:\n",
    "        lines = f.readlines() \n",
    "    with open(labelFile) as f:\n",
    "        labels = f.readlines()    \n",
    "    \n",
    "    inputs = []\n",
    "    inputs_all = []\n",
    "    for line in lines:\n",
    "        line = line.rstrip()\n",
    "        line = line.split(lineSeparator)\n",
    "        inputs.append(line[:-1])\n",
    "        inputs_all.extend(line[:-1])\n",
    "    \n",
    "    acts = []\n",
    "    acts_all = []\n",
    "    for label in labels:\n",
    "        label = label.rstrip()\n",
    "        label = label.split()\n",
    "        \n",
    "        label = np.array(list(map(int, label))) - 1\n",
    "        acts.append(label)\n",
    "        acts_all.extend(label)\n",
    "        \n",
    "    return (inputs_all, inputs, acts_all, acts)"
   ]
  },
  {
   "cell_type": "code",
   "execution_count": 6,
   "metadata": {
    "collapsed": false,
    "deletable": true,
    "editable": true
   },
   "outputs": [],
   "source": [
    "trainX_all, trainX_data, trainY_all, trainY = getData(trainDataFile, trainLabelsFile)\n",
    "_, valX_data, valY_all, valY = getData(testDataFile, testLablesFile)"
   ]
  },
  {
   "cell_type": "code",
   "execution_count": 7,
   "metadata": {
    "collapsed": false,
    "deletable": true,
    "editable": true
   },
   "outputs": [],
   "source": [
    "from sklearn.feature_extraction.text import CountVectorizer, TfidfVectorizer\n",
    "count_vect = CountVectorizer()\n",
    "trainX_vocab = count_vect.fit(trainX_all)\n",
    "vocab_dict = trainX_vocab.vocabulary_\n",
    "\n",
    "# Might want to create a global vocabulary!!"
   ]
  },
  {
   "cell_type": "code",
   "execution_count": 8,
   "metadata": {
    "collapsed": false,
    "deletable": true,
    "editable": true
   },
   "outputs": [],
   "source": [
    "embed_size = 300;\n",
    "pad_token = '<pad>'\n",
    "unknown_token = '<unk>'\n",
    "embed_path = '../dataset/GloVe/glove.840B.300d.txt'"
   ]
  },
  {
   "cell_type": "code",
   "execution_count": 9,
   "metadata": {
    "collapsed": true,
    "deletable": true,
    "editable": true
   },
   "outputs": [],
   "source": [
    "%matplotlib inline\n",
    "\n",
    "from random import randint\n",
    "import matplotlib\n",
    "\n",
    "import numpy as np\n",
    "import torch\n",
    "\n",
    "torch.nn.Module.dump_patches = True"
   ]
  },
  {
   "cell_type": "code",
   "execution_count": 10,
   "metadata": {
    "collapsed": false,
    "deletable": true,
    "editable": true
   },
   "outputs": [
    {
     "name": "stderr",
     "output_type": "stream",
     "text": [
      "/home/aananya/Work/GenderBiasAnalysis/InferSent/.venvInferSent/lib/python3.6/site-packages/torch/serialization.py:367: SourceChangeWarning: source code of class 'models.BLSTMEncoder' has changed. Tried to save a patch, but couldn't create a writable file BLSTMEncoder.patch. Make sure it doesn't exist and your working directory is writable.\n",
      "  warnings.warn(msg, SourceChangeWarning)\n",
      "/home/aananya/Work/GenderBiasAnalysis/InferSent/.venvInferSent/lib/python3.6/site-packages/torch/serialization.py:367: SourceChangeWarning: source code of class 'torch.nn.modules.rnn.LSTM' has changed. Saved a reverse patch to LSTM.patch. Run `patch -p0 < LSTM.patch` to revert your changes.\n",
      "  warnings.warn(msg, SourceChangeWarning)\n"
     ]
    }
   ],
   "source": [
    "# sentEmbedModel = torch.load('encoder/infersent.allnli.pickle', map_location=lambda storage, loc: storage)\n",
    "\n",
    "sentEmbedModel = torch.load('encoder/infersent.allnli.pickle')\n",
    "sentEmbedModel = sentEmbedModel.cuda()"
   ]
  },
  {
   "cell_type": "code",
   "execution_count": 11,
   "metadata": {
    "collapsed": false,
    "deletable": true,
    "editable": true
   },
   "outputs": [
    {
     "data": {
      "text/plain": [
       "True"
      ]
     },
     "execution_count": 11,
     "metadata": {},
     "output_type": "execute_result"
    }
   ],
   "source": [
    "sentEmbedModel.is_cuda()"
   ]
  },
  {
   "cell_type": "code",
   "execution_count": 12,
   "metadata": {
    "collapsed": true,
    "deletable": true,
    "editable": true
   },
   "outputs": [],
   "source": [
    "sentEmbedModel.set_glove_path(embed_path)"
   ]
  },
  {
   "cell_type": "code",
   "execution_count": 13,
   "metadata": {
    "collapsed": false,
    "deletable": true,
    "editable": true
   },
   "outputs": [
    {
     "name": "stdout",
     "output_type": "stream",
     "text": [
      "Vocab size : 100000\n"
     ]
    }
   ],
   "source": [
    "sentEmbedModel.build_vocab_k_words(K=100000)"
   ]
  },
  {
   "cell_type": "code",
   "execution_count": 14,
   "metadata": {
    "collapsed": true,
    "deletable": true,
    "editable": true
   },
   "outputs": [],
   "source": [
    "def create_sentence_embed_facebook(sentence):\n",
    "#     print(sentence)\n",
    "    embeddings = sentEmbedModel.encode([sentence], bsize=128, tokenize=False, verbose=False)\n",
    "#     print(len(embeddings))\n",
    "    return embeddings"
   ]
  },
  {
   "cell_type": "markdown",
   "metadata": {
    "deletable": true,
    "editable": true
   },
   "source": [
    "# Train a classifier"
   ]
  },
  {
   "cell_type": "code",
   "execution_count": 15,
   "metadata": {
    "collapsed": true,
    "deletable": true,
    "editable": true
   },
   "outputs": [],
   "source": [
    "# Parameters used.\n",
    "MODEL_PATH = './model_crf_v4.ckpt'"
   ]
  },
  {
   "cell_type": "code",
   "execution_count": 16,
   "metadata": {
    "collapsed": true,
    "deletable": true,
    "editable": true
   },
   "outputs": [],
   "source": [
    "def get_sequence_length(x_data):\n",
    "    seq = [];\n",
    "    for i in range(len(x_data)):\n",
    "        seq.append(len(x_data[i]))\n",
    "    return seq"
   ]
  },
  {
   "cell_type": "code",
   "execution_count": 17,
   "metadata": {
    "collapsed": true,
    "deletable": true,
    "editable": true
   },
   "outputs": [],
   "source": [
    "x_train = trainX_data\n",
    "y_train = trainY\n",
    "\n",
    "x_test = valX_data\n",
    "y_test = valY\n",
    "\n",
    "sequence_length_train = get_sequence_length(x_train)\n",
    "sequence_length_test = get_sequence_length(x_test)\n"
   ]
  },
  {
   "cell_type": "code",
   "execution_count": 18,
   "metadata": {
    "collapsed": true,
    "deletable": true,
    "editable": true
   },
   "outputs": [],
   "source": [
    "learning_rate = 0.05\n",
    "#training_epochs = 7\n",
    "input_size = 4096 #sent_embed_size\n",
    "#batch_size = 25\n",
    "#num_units = 128 # the number of units in the LSTM cell\n",
    "number_of_classes = len(set(trainY_all))"
   ]
  },
  {
   "cell_type": "code",
   "execution_count": 19,
   "metadata": {
    "collapsed": false,
    "deletable": true,
    "editable": true
   },
   "outputs": [
    {
     "data": {
      "text/plain": [
       "4096"
      ]
     },
     "execution_count": 19,
     "metadata": {},
     "output_type": "execute_result"
    }
   ],
   "source": [
    "input_size"
   ]
  },
  {
   "cell_type": "code",
   "execution_count": 20,
   "metadata": {
    "collapsed": true,
    "deletable": true,
    "editable": true
   },
   "outputs": [],
   "source": [
    "def pad_label(sentence, max_length):\n",
    "    pad_len = max_length - len(sentence)\n",
    "    padding = np.zeros(pad_len, dtype=int)\n",
    "    return np.concatenate((sentence, padding))"
   ]
  },
  {
   "cell_type": "code",
   "execution_count": 21,
   "metadata": {
    "collapsed": true,
    "deletable": true,
    "editable": true
   },
   "outputs": [],
   "source": [
    "input_data = tf.placeholder(tf.float32, [None, None, input_size], name=\"input_data\") # shape = (batch, batch_seq_len, input_size)\n",
    "labels = tf.placeholder(tf.int32, shape=[None, None], name=\"labels\") # shape = (batch, sentence)\n",
    "batch_sequence_length = tf.placeholder(tf.int32) # max sequence length in batch\n",
    "original_sequence_lengths = tf.placeholder(tf.int32, [None])\n"
   ]
  },
  {
   "cell_type": "code",
   "execution_count": 22,
   "metadata": {
    "collapsed": false,
    "deletable": true,
    "editable": true
   },
   "outputs": [],
   "source": [
    "weights = tf.get_variable(\"weights\", [input_size, number_of_classes])\n",
    "matricized_x_train = tf.reshape(input_data, [-1, input_size])\n",
    "matricized_unary_scores = tf.matmul(matricized_x_train, weights)\n",
    "#matricized_unary_scores = tf.sigmoid(matricized_unary_scores_temp)\n",
    "scores = tf.reshape(matricized_unary_scores, [-1, batch_sequence_length, number_of_classes])\n",
    "#scores = tf.reshape(matricized_unary_scores, [num_examples, num_words, num_tags])\n"
   ]
  },
  {
   "cell_type": "code",
   "execution_count": 23,
   "metadata": {
    "collapsed": false,
    "deletable": true,
    "editable": true
   },
   "outputs": [
    {
     "name": "stderr",
     "output_type": "stream",
     "text": [
      "/home/aananya/Work/GenderBiasAnalysis/InferSent/.venvInferSent/lib/python3.6/site-packages/tensorflow/python/ops/gradients_impl.py:100: UserWarning: Converting sparse IndexedSlices to a dense Tensor of unknown shape. This may consume a large amount of memory.\n",
      "  \"Converting sparse IndexedSlices to a dense Tensor of unknown shape. \"\n"
     ]
    }
   ],
   "source": [
    "# Linear-CRF.\n",
    "log_likelihood, transition_params = tf.contrib.crf.crf_log_likelihood(scores, labels, original_sequence_lengths)\n",
    "\n",
    "loss = tf.reduce_mean(-log_likelihood)\n",
    "\n",
    "# Compute the viterbi sequence and score (used for prediction and test time).\n",
    "viterbi_sequence, viterbi_score = tf.contrib.crf.crf_decode(scores, transition_params, original_sequence_lengths)\n",
    "\n",
    "# Training ops.\n",
    "optimizer = tf.train.AdamOptimizer(learning_rate)\n",
    "train_op = optimizer.minimize(loss)\n",
    "\n",
    "# Add ops to save and restore all the variables.\n",
    "saver = tf.train.Saver()"
   ]
  },
  {
   "cell_type": "code",
   "execution_count": 24,
   "metadata": {
    "collapsed": true,
    "deletable": true,
    "editable": true
   },
   "outputs": [],
   "source": [
    "def pad_data(sentence, max_length, input_size):\n",
    "#     sent_emb = np.array([create_sentence_embed(x, word_emb, embed_size, unknown_token, pad_token, calc_mean = True) for x in sentence])\n",
    "    sent_emb = np.array([create_sentence_embed_facebook(x) for x in sentence])\n",
    "    pad_len = max_length - len(sentence)\n",
    "    temp = sent_emb\n",
    "    if pad_len > 0:\n",
    "        single_pad = np.zeros(input_size)\n",
    "        padding = [single_pad] * pad_len\n",
    "#         print(pad_len)\n",
    "#         print(len(sent_emb), len(padding))\n",
    "#         print(type(sent_emb), type(padding))\n",
    "#         print(sent_emb.shape)\n",
    "        sent_emb = sent_emb.squeeze()\n",
    "        temp = np.concatenate((sent_emb, padding))\n",
    "    return temp"
   ]
  },
  {
   "cell_type": "code",
   "execution_count": 25,
   "metadata": {
    "collapsed": true,
    "deletable": true,
    "editable": true
   },
   "outputs": [],
   "source": [
    "def batch(data, labels, sequence_lengths, batch_size, input_size):\n",
    "    n_batch = int(math.ceil(float(len(data)) / (batch_size)))\n",
    "    index = 0\n",
    "    for _ in range(n_batch):\n",
    "#         print(_)\n",
    "        batch_sequence_lengths = np.array(sequence_lengths[index: index + batch_size])\n",
    "#         print(batch_sequence_lengths)\n",
    "        batch_length = np.array(max(batch_sequence_lengths)) # max length in batch\n",
    "#         print(batch_length)\n",
    "#         for x in data[index: index + batch_size]:\n",
    "#             xx = pad_data(x, batch_length, input_size)\n",
    "#             print(xx.shape)\n",
    "        batch_data = np.array([pad_data(x, batch_length, input_size).squeeze() for x in data[index: index + batch_size]]) # pad data\n",
    "        batch_labels = np.array([pad_label(x, batch_length) for x in labels[index: index + batch_size]]) # pad labels\n",
    "        index += batch_size\n",
    "        \n",
    "        # Reshape input data to be suitable for LSTMs.\n",
    "        batch_data = batch_data.reshape(-1, batch_length, input_size)\n",
    "        \n",
    "        yield batch_data, batch_labels, batch_length, batch_sequence_lengths"
   ]
  },
  {
   "cell_type": "code",
   "execution_count": 28,
   "metadata": {
    "collapsed": false,
    "deletable": true,
    "editable": true
   },
   "outputs": [
    {
     "name": "stderr",
     "output_type": "stream",
     "text": [
      "/home/aananya/Work/GenderBiasAnalysis/InferSent/PGM/models.py:209: UserWarning: volatile was removed and now has no effect. Use `with torch.no_grad():` instead.\n",
      "  sentences[stidx:stidx + bsize]), volatile=True)\n"
     ]
    },
    {
     "name": "stdout",
     "output_type": "stream",
     "text": [
      "Epoch: 0 Accuracy: 12.80%\n",
      "Epoch: 0 Accuracy: 58.80%\n",
      "Epoch: 0 Accuracy: 49.65%\n",
      "Epoch: 0 Accuracy: 68.08%\n",
      "Epoch: 0 Accuracy: 70.94%\n",
      "Epoch: 0 Accuracy: 68.91%\n",
      "Epoch: 0 Accuracy: 29.08%\n",
      "Epoch: 0 Accuracy: 56.28%\n",
      "Epoch: 0 Accuracy: 46.35%\n",
      "Epoch: 0 Accuracy: 51.76%\n",
      "Epoch: 0 Accuracy: 66.86%\n",
      "Epoch: 0 Accuracy: 65.40%\n",
      "Epoch: 0 Accuracy: 63.89%\n",
      "Epoch: 0 Accuracy: 65.39%\n",
      "Epoch: 1 Accuracy: 65.83%\n",
      "Epoch: 1 Accuracy: 57.05%\n",
      "Epoch: 1 Accuracy: 67.37%\n",
      "Epoch: 1 Accuracy: 73.06%\n",
      "Epoch: 1 Accuracy: 76.25%\n",
      "Epoch: 1 Accuracy: 74.97%\n",
      "Epoch: 1 Accuracy: 63.04%\n",
      "Epoch: 1 Accuracy: 62.78%\n",
      "Epoch: 1 Accuracy: 64.41%\n",
      "Epoch: 1 Accuracy: 68.85%\n",
      "Epoch: 1 Accuracy: 62.45%\n",
      "Saving model\n",
      "Epoch: 1 Accuracy: 62.34%\n",
      "Epoch: 1 Accuracy: 69.60%\n",
      "Epoch: 1 Accuracy: 70.39%\n",
      "Epoch: 2 Accuracy: 83.14%\n",
      "Epoch: 2 Accuracy: 81.91%\n",
      "Epoch: 2 Accuracy: 80.72%\n",
      "Epoch: 2 Accuracy: 77.90%\n",
      "Epoch: 2 Accuracy: 77.64%\n",
      "Epoch: 2 Accuracy: 77.31%\n",
      "Epoch: 2 Accuracy: 70.22%\n",
      "Epoch: 2 Accuracy: 71.35%\n",
      "Epoch: 2 Accuracy: 70.61%\n",
      "Epoch: 2 Accuracy: 70.62%\n",
      "Epoch: 2 Accuracy: 72.39%\n",
      "Epoch: 2 Accuracy: 72.24%\n",
      "Epoch: 2 Accuracy: 72.28%\n",
      "Epoch: 2 Accuracy: 74.19%\n",
      "Epoch: 3 Accuracy: 80.85%\n",
      "Epoch: 3 Accuracy: 83.39%\n",
      "Epoch: 3 Accuracy: 83.37%\n",
      "Epoch: 3 Accuracy: 80.96%\n",
      "Epoch: 3 Accuracy: 82.15%\n",
      "Epoch: 3 Accuracy: 80.35%\n",
      "Epoch: 3 Accuracy: 71.32%\n",
      "Epoch: 3 Accuracy: 68.16%\n",
      "Saving model\n",
      "Epoch: 3 Accuracy: 71.01%\n",
      "Epoch: 3 Accuracy: 74.19%\n",
      "Epoch: 3 Accuracy: 72.78%\n",
      "Epoch: 3 Accuracy: 72.96%\n",
      "Epoch: 3 Accuracy: 72.31%\n",
      "Epoch: 3 Accuracy: 74.44%\n",
      "Epoch: 4 Accuracy: 84.41%\n",
      "Epoch: 4 Accuracy: 84.91%\n",
      "Epoch: 4 Accuracy: 83.91%\n",
      "Epoch: 4 Accuracy: 82.06%\n",
      "Epoch: 4 Accuracy: 82.81%\n",
      "Epoch: 4 Accuracy: 78.85%\n",
      "Epoch: 4 Accuracy: 72.53%\n",
      "Epoch: 4 Accuracy: 74.21%\n",
      "Epoch: 4 Accuracy: 73.36%\n",
      "Epoch: 4 Accuracy: 74.48%\n",
      "Epoch: 4 Accuracy: 74.44%\n",
      "Epoch: 4 Accuracy: 73.69%\n",
      "Epoch: 4 Accuracy: 74.41%\n",
      "Epoch: 4 Accuracy: 73.81%\n",
      "Epoch: 5 Accuracy: 85.15%\n",
      "Epoch: 5 Accuracy: 85.50%\n",
      "Epoch: 5 Accuracy: 84.22%\n",
      "Epoch: 5 Accuracy: 82.55%\n",
      "Epoch: 5 Accuracy: 83.44%\n",
      "Saving model\n",
      "Epoch: 5 Accuracy: 78.65%\n",
      "Epoch: 5 Accuracy: 73.35%\n",
      "Epoch: 5 Accuracy: 75.48%\n",
      "Epoch: 5 Accuracy: 75.64%\n",
      "Epoch: 5 Accuracy: 74.96%\n",
      "Epoch: 5 Accuracy: 75.64%\n",
      "Epoch: 5 Accuracy: 74.77%\n",
      "Epoch: 5 Accuracy: 75.41%\n",
      "Epoch: 5 Accuracy: 75.64%\n",
      "Epoch: 6 Accuracy: 85.84%\n",
      "Epoch: 6 Accuracy: 86.04%\n",
      "Epoch: 6 Accuracy: 84.65%\n",
      "Epoch: 6 Accuracy: 83.43%\n",
      "Epoch: 6 Accuracy: 83.71%\n",
      "Epoch: 6 Accuracy: 80.30%\n",
      "Epoch: 6 Accuracy: 74.71%\n",
      "Epoch: 6 Accuracy: 76.01%\n",
      "Epoch: 6 Accuracy: 75.20%\n",
      "Epoch: 6 Accuracy: 76.63%\n",
      "Epoch: 6 Accuracy: 75.72%\n",
      "Epoch: 6 Accuracy: 76.48%\n",
      "Epoch: 6 Accuracy: 75.54%\n",
      "Epoch: 6 Accuracy: 76.87%\n",
      "Epoch: 7 Accuracy: 86.99%\n",
      "Epoch: 7 Accuracy: 86.45%\n",
      "Saving model\n",
      "Epoch: 7 Accuracy: 85.15%\n",
      "Epoch: 7 Accuracy: 84.17%\n",
      "Epoch: 7 Accuracy: 84.26%\n",
      "Epoch: 7 Accuracy: 83.34%\n",
      "Epoch: 7 Accuracy: 74.17%\n",
      "Epoch: 7 Accuracy: 75.78%\n",
      "Epoch: 7 Accuracy: 74.62%\n",
      "Epoch: 7 Accuracy: 76.52%\n",
      "Epoch: 7 Accuracy: 76.17%\n",
      "Epoch: 7 Accuracy: 77.41%\n",
      "Epoch: 7 Accuracy: 75.28%\n",
      "Epoch: 7 Accuracy: 78.12%\n",
      "Epoch: 8 Accuracy: 87.18%\n",
      "Epoch: 8 Accuracy: 86.79%\n",
      "Epoch: 8 Accuracy: 85.67%\n",
      "Epoch: 8 Accuracy: 84.58%\n",
      "Epoch: 8 Accuracy: 85.25%\n",
      "Epoch: 8 Accuracy: 83.94%\n",
      "Epoch: 8 Accuracy: 74.80%\n",
      "Epoch: 8 Accuracy: 76.27%\n",
      "Epoch: 8 Accuracy: 76.27%\n",
      "Epoch: 8 Accuracy: 76.70%\n",
      "Epoch: 8 Accuracy: 77.18%\n",
      "Epoch: 8 Accuracy: 76.81%\n",
      "Epoch: 8 Accuracy: 76.50%\n",
      "Saving model\n",
      "Epoch: 8 Accuracy: 78.13%\n",
      "Epoch: 9 Accuracy: 86.94%\n",
      "Epoch: 9 Accuracy: 86.84%\n",
      "Epoch: 9 Accuracy: 85.80%\n",
      "Epoch: 9 Accuracy: 83.83%\n",
      "Epoch: 9 Accuracy: 85.62%\n",
      "Epoch: 9 Accuracy: 83.68%\n",
      "Epoch: 9 Accuracy: 75.36%\n",
      "Epoch: 9 Accuracy: 76.64%\n",
      "Epoch: 9 Accuracy: 76.55%\n",
      "Epoch: 9 Accuracy: 77.34%\n",
      "Epoch: 9 Accuracy: 77.72%\n",
      "Epoch: 9 Accuracy: 77.27%\n",
      "Epoch: 9 Accuracy: 77.06%\n",
      "Epoch: 9 Accuracy: 78.47%\n",
      "Epoch: 10 Accuracy: 86.87%\n",
      "Epoch: 10 Accuracy: 87.17%\n",
      "Epoch: 10 Accuracy: 85.84%\n",
      "Epoch: 10 Accuracy: 84.15%\n",
      "Epoch: 10 Accuracy: 85.59%\n",
      "Epoch: 10 Accuracy: 84.04%\n",
      "Epoch: 10 Accuracy: 74.95%\n",
      "Epoch: 10 Accuracy: 76.72%\n",
      "Epoch: 10 Accuracy: 76.89%\n",
      "Epoch: 10 Accuracy: 77.42%\n",
      "Saving model\n",
      "Epoch: 10 Accuracy: 78.06%\n",
      "Epoch: 10 Accuracy: 77.21%\n",
      "Epoch: 10 Accuracy: 77.48%\n",
      "Epoch: 10 Accuracy: 78.65%\n",
      "Epoch: 11 Accuracy: 86.72%\n",
      "Epoch: 11 Accuracy: 87.20%\n",
      "Epoch: 11 Accuracy: 85.87%\n",
      "Epoch: 11 Accuracy: 83.85%\n",
      "Epoch: 11 Accuracy: 85.47%\n",
      "Epoch: 11 Accuracy: 84.16%\n",
      "Epoch: 11 Accuracy: 74.89%\n",
      "Epoch: 11 Accuracy: 77.17%\n",
      "Epoch: 11 Accuracy: 76.99%\n",
      "Epoch: 11 Accuracy: 77.58%\n",
      "Epoch: 11 Accuracy: 78.06%\n",
      "Epoch: 11 Accuracy: 77.22%\n",
      "Epoch: 11 Accuracy: 77.83%\n",
      "Epoch: 11 Accuracy: 78.62%\n",
      "Epoch: 12 Accuracy: 86.56%\n",
      "Epoch: 12 Accuracy: 87.48%\n",
      "Epoch: 12 Accuracy: 85.84%\n",
      "Epoch: 12 Accuracy: 83.98%\n",
      "Epoch: 12 Accuracy: 85.49%\n",
      "Epoch: 12 Accuracy: 84.11%\n",
      "Epoch: 12 Accuracy: 75.01%\n",
      "Saving model\n",
      "Epoch: 12 Accuracy: 77.17%\n",
      "Epoch: 12 Accuracy: 77.19%\n",
      "Epoch: 12 Accuracy: 77.74%\n",
      "Epoch: 12 Accuracy: 78.39%\n",
      "Epoch: 12 Accuracy: 77.18%\n",
      "Epoch: 12 Accuracy: 78.28%\n",
      "Epoch: 12 Accuracy: 78.98%\n",
      "Epoch: 13 Accuracy: 86.29%\n",
      "Epoch: 13 Accuracy: 87.56%\n",
      "Epoch: 13 Accuracy: 85.79%\n",
      "Epoch: 13 Accuracy: 84.03%\n",
      "Epoch: 13 Accuracy: 85.39%\n",
      "Epoch: 13 Accuracy: 84.38%\n",
      "Epoch: 13 Accuracy: 74.69%\n",
      "Epoch: 13 Accuracy: 77.29%\n",
      "Epoch: 13 Accuracy: 77.25%\n",
      "Epoch: 13 Accuracy: 77.60%\n",
      "Epoch: 13 Accuracy: 78.64%\n",
      "Epoch: 13 Accuracy: 76.99%\n",
      "Epoch: 13 Accuracy: 78.42%\n",
      "Epoch: 13 Accuracy: 79.28%\n",
      "Epoch: 14 Accuracy: 86.25%\n",
      "Epoch: 14 Accuracy: 87.67%\n",
      "Epoch: 14 Accuracy: 85.72%\n",
      "Epoch: 14 Accuracy: 84.02%\n",
      "Saving model\n",
      "Epoch: 14 Accuracy: 85.30%\n",
      "Epoch: 14 Accuracy: 84.26%\n",
      "Epoch: 14 Accuracy: 74.74%\n",
      "Epoch: 14 Accuracy: 77.56%\n",
      "Epoch: 14 Accuracy: 77.31%\n",
      "Epoch: 14 Accuracy: 77.74%\n",
      "Epoch: 14 Accuracy: 78.90%\n",
      "Epoch: 14 Accuracy: 77.07%\n",
      "Epoch: 14 Accuracy: 78.44%\n",
      "Epoch: 14 Accuracy: 79.31%\n",
      "Epoch: 15 Accuracy: 86.05%\n",
      "Epoch: 15 Accuracy: 87.66%\n",
      "Epoch: 15 Accuracy: 85.88%\n",
      "Epoch: 15 Accuracy: 84.02%\n",
      "Epoch: 15 Accuracy: 85.37%\n",
      "Epoch: 15 Accuracy: 84.44%\n",
      "Epoch: 15 Accuracy: 75.04%\n",
      "Epoch: 15 Accuracy: 77.70%\n",
      "Epoch: 15 Accuracy: 77.62%\n",
      "Epoch: 15 Accuracy: 77.67%\n",
      "Epoch: 15 Accuracy: 79.23%\n",
      "Epoch: 15 Accuracy: 77.16%\n",
      "Epoch: 15 Accuracy: 78.42%\n",
      "Epoch: 15 Accuracy: 79.48%\n",
      "Epoch: 16 Accuracy: 85.93%\n",
      "Saving model\n",
      "Epoch: 16 Accuracy: 87.72%\n",
      "Epoch: 16 Accuracy: 85.82%\n",
      "Epoch: 16 Accuracy: 84.10%\n",
      "Epoch: 16 Accuracy: 85.13%\n",
      "Epoch: 16 Accuracy: 84.49%\n",
      "Epoch: 16 Accuracy: 75.12%\n",
      "Epoch: 16 Accuracy: 77.96%\n",
      "Epoch: 16 Accuracy: 77.95%\n",
      "Epoch: 16 Accuracy: 77.69%\n",
      "Epoch: 16 Accuracy: 79.28%\n",
      "Epoch: 16 Accuracy: 77.25%\n",
      "Epoch: 16 Accuracy: 78.67%\n",
      "Epoch: 16 Accuracy: 79.55%\n",
      "Epoch: 17 Accuracy: 85.91%\n",
      "Epoch: 17 Accuracy: 87.70%\n",
      "Epoch: 17 Accuracy: 85.90%\n",
      "Epoch: 17 Accuracy: 84.07%\n",
      "Epoch: 17 Accuracy: 85.08%\n",
      "Epoch: 17 Accuracy: 84.56%\n",
      "Epoch: 17 Accuracy: 75.16%\n",
      "Epoch: 17 Accuracy: 78.18%\n",
      "Epoch: 17 Accuracy: 78.00%\n",
      "Epoch: 17 Accuracy: 77.99%\n",
      "Epoch: 17 Accuracy: 79.51%\n",
      "Epoch: 17 Accuracy: 77.19%\n",
      "Saving model\n",
      "Epoch: 17 Accuracy: 78.77%\n",
      "Epoch: 17 Accuracy: 79.61%\n",
      "Epoch: 18 Accuracy: 85.93%\n",
      "Epoch: 18 Accuracy: 87.75%\n",
      "Epoch: 18 Accuracy: 85.95%\n",
      "Epoch: 18 Accuracy: 84.05%\n",
      "Epoch: 18 Accuracy: 84.98%\n",
      "Epoch: 18 Accuracy: 84.68%\n"
     ]
    },
    {
     "ename": "KeyboardInterrupt",
     "evalue": "",
     "output_type": "error",
     "traceback": [
      "\u001b[0;31m---------------------------------------------------------------------------\u001b[0m",
      "\u001b[0;31mKeyboardInterrupt\u001b[0m                         Traceback (most recent call last)",
      "\u001b[0;32m<timed exec>\u001b[0m in \u001b[0;36m<module>\u001b[0;34m()\u001b[0m\n",
      "\u001b[0;32m<ipython-input-25-dae2608803e3>\u001b[0m in \u001b[0;36mbatch\u001b[0;34m(data, labels, sequence_lengths, batch_size, input_size)\u001b[0m\n\u001b[1;32m     11\u001b[0m \u001b[0;31m#             xx = pad_data(x, batch_length, input_size)\u001b[0m\u001b[0;34m\u001b[0m\u001b[0;34m\u001b[0m\u001b[0m\n\u001b[1;32m     12\u001b[0m \u001b[0;31m#             print(xx.shape)\u001b[0m\u001b[0;34m\u001b[0m\u001b[0;34m\u001b[0m\u001b[0m\n\u001b[0;32m---> 13\u001b[0;31m         \u001b[0mbatch_data\u001b[0m \u001b[0;34m=\u001b[0m \u001b[0mnp\u001b[0m\u001b[0;34m.\u001b[0m\u001b[0marray\u001b[0m\u001b[0;34m(\u001b[0m\u001b[0;34m[\u001b[0m\u001b[0mpad_data\u001b[0m\u001b[0;34m(\u001b[0m\u001b[0mx\u001b[0m\u001b[0;34m,\u001b[0m \u001b[0mbatch_length\u001b[0m\u001b[0;34m,\u001b[0m \u001b[0minput_size\u001b[0m\u001b[0;34m)\u001b[0m\u001b[0;34m.\u001b[0m\u001b[0msqueeze\u001b[0m\u001b[0;34m(\u001b[0m\u001b[0;34m)\u001b[0m \u001b[0;32mfor\u001b[0m \u001b[0mx\u001b[0m \u001b[0;32min\u001b[0m \u001b[0mdata\u001b[0m\u001b[0;34m[\u001b[0m\u001b[0mindex\u001b[0m\u001b[0;34m:\u001b[0m \u001b[0mindex\u001b[0m \u001b[0;34m+\u001b[0m \u001b[0mbatch_size\u001b[0m\u001b[0;34m]\u001b[0m\u001b[0;34m]\u001b[0m\u001b[0;34m)\u001b[0m \u001b[0;31m# pad data\u001b[0m\u001b[0;34m\u001b[0m\u001b[0m\n\u001b[0m\u001b[1;32m     14\u001b[0m         \u001b[0mbatch_labels\u001b[0m \u001b[0;34m=\u001b[0m \u001b[0mnp\u001b[0m\u001b[0;34m.\u001b[0m\u001b[0marray\u001b[0m\u001b[0;34m(\u001b[0m\u001b[0;34m[\u001b[0m\u001b[0mpad_label\u001b[0m\u001b[0;34m(\u001b[0m\u001b[0mx\u001b[0m\u001b[0;34m,\u001b[0m \u001b[0mbatch_length\u001b[0m\u001b[0;34m)\u001b[0m \u001b[0;32mfor\u001b[0m \u001b[0mx\u001b[0m \u001b[0;32min\u001b[0m \u001b[0mlabels\u001b[0m\u001b[0;34m[\u001b[0m\u001b[0mindex\u001b[0m\u001b[0;34m:\u001b[0m \u001b[0mindex\u001b[0m \u001b[0;34m+\u001b[0m \u001b[0mbatch_size\u001b[0m\u001b[0;34m]\u001b[0m\u001b[0;34m]\u001b[0m\u001b[0;34m)\u001b[0m \u001b[0;31m# pad labels\u001b[0m\u001b[0;34m\u001b[0m\u001b[0m\n\u001b[1;32m     15\u001b[0m         \u001b[0mindex\u001b[0m \u001b[0;34m+=\u001b[0m \u001b[0mbatch_size\u001b[0m\u001b[0;34m\u001b[0m\u001b[0m\n",
      "\u001b[0;32m<ipython-input-25-dae2608803e3>\u001b[0m in \u001b[0;36m<listcomp>\u001b[0;34m(.0)\u001b[0m\n\u001b[1;32m     11\u001b[0m \u001b[0;31m#             xx = pad_data(x, batch_length, input_size)\u001b[0m\u001b[0;34m\u001b[0m\u001b[0;34m\u001b[0m\u001b[0m\n\u001b[1;32m     12\u001b[0m \u001b[0;31m#             print(xx.shape)\u001b[0m\u001b[0;34m\u001b[0m\u001b[0;34m\u001b[0m\u001b[0m\n\u001b[0;32m---> 13\u001b[0;31m         \u001b[0mbatch_data\u001b[0m \u001b[0;34m=\u001b[0m \u001b[0mnp\u001b[0m\u001b[0;34m.\u001b[0m\u001b[0marray\u001b[0m\u001b[0;34m(\u001b[0m\u001b[0;34m[\u001b[0m\u001b[0mpad_data\u001b[0m\u001b[0;34m(\u001b[0m\u001b[0mx\u001b[0m\u001b[0;34m,\u001b[0m \u001b[0mbatch_length\u001b[0m\u001b[0;34m,\u001b[0m \u001b[0minput_size\u001b[0m\u001b[0;34m)\u001b[0m\u001b[0;34m.\u001b[0m\u001b[0msqueeze\u001b[0m\u001b[0;34m(\u001b[0m\u001b[0;34m)\u001b[0m \u001b[0;32mfor\u001b[0m \u001b[0mx\u001b[0m \u001b[0;32min\u001b[0m \u001b[0mdata\u001b[0m\u001b[0;34m[\u001b[0m\u001b[0mindex\u001b[0m\u001b[0;34m:\u001b[0m \u001b[0mindex\u001b[0m \u001b[0;34m+\u001b[0m \u001b[0mbatch_size\u001b[0m\u001b[0;34m]\u001b[0m\u001b[0;34m]\u001b[0m\u001b[0;34m)\u001b[0m \u001b[0;31m# pad data\u001b[0m\u001b[0;34m\u001b[0m\u001b[0m\n\u001b[0m\u001b[1;32m     14\u001b[0m         \u001b[0mbatch_labels\u001b[0m \u001b[0;34m=\u001b[0m \u001b[0mnp\u001b[0m\u001b[0;34m.\u001b[0m\u001b[0marray\u001b[0m\u001b[0;34m(\u001b[0m\u001b[0;34m[\u001b[0m\u001b[0mpad_label\u001b[0m\u001b[0;34m(\u001b[0m\u001b[0mx\u001b[0m\u001b[0;34m,\u001b[0m \u001b[0mbatch_length\u001b[0m\u001b[0;34m)\u001b[0m \u001b[0;32mfor\u001b[0m \u001b[0mx\u001b[0m \u001b[0;32min\u001b[0m \u001b[0mlabels\u001b[0m\u001b[0;34m[\u001b[0m\u001b[0mindex\u001b[0m\u001b[0;34m:\u001b[0m \u001b[0mindex\u001b[0m \u001b[0;34m+\u001b[0m \u001b[0mbatch_size\u001b[0m\u001b[0;34m]\u001b[0m\u001b[0;34m]\u001b[0m\u001b[0;34m)\u001b[0m \u001b[0;31m# pad labels\u001b[0m\u001b[0;34m\u001b[0m\u001b[0m\n\u001b[1;32m     15\u001b[0m         \u001b[0mindex\u001b[0m \u001b[0;34m+=\u001b[0m \u001b[0mbatch_size\u001b[0m\u001b[0;34m\u001b[0m\u001b[0m\n",
      "\u001b[0;32m<ipython-input-24-cb8e7b5c9ac4>\u001b[0m in \u001b[0;36mpad_data\u001b[0;34m(sentence, max_length, input_size)\u001b[0m\n\u001b[1;32m      1\u001b[0m \u001b[0;32mdef\u001b[0m \u001b[0mpad_data\u001b[0m\u001b[0;34m(\u001b[0m\u001b[0msentence\u001b[0m\u001b[0;34m,\u001b[0m \u001b[0mmax_length\u001b[0m\u001b[0;34m,\u001b[0m \u001b[0minput_size\u001b[0m\u001b[0;34m)\u001b[0m\u001b[0;34m:\u001b[0m\u001b[0;34m\u001b[0m\u001b[0m\n\u001b[1;32m      2\u001b[0m \u001b[0;31m#     sent_emb = np.array([create_sentence_embed(x, word_emb, embed_size, unknown_token, pad_token, calc_mean = True) for x in sentence])\u001b[0m\u001b[0;34m\u001b[0m\u001b[0;34m\u001b[0m\u001b[0m\n\u001b[0;32m----> 3\u001b[0;31m     \u001b[0msent_emb\u001b[0m \u001b[0;34m=\u001b[0m \u001b[0mnp\u001b[0m\u001b[0;34m.\u001b[0m\u001b[0marray\u001b[0m\u001b[0;34m(\u001b[0m\u001b[0;34m[\u001b[0m\u001b[0mcreate_sentence_embed_facebook\u001b[0m\u001b[0;34m(\u001b[0m\u001b[0mx\u001b[0m\u001b[0;34m)\u001b[0m \u001b[0;32mfor\u001b[0m \u001b[0mx\u001b[0m \u001b[0;32min\u001b[0m \u001b[0msentence\u001b[0m\u001b[0;34m]\u001b[0m\u001b[0;34m)\u001b[0m\u001b[0;34m\u001b[0m\u001b[0m\n\u001b[0m\u001b[1;32m      4\u001b[0m     \u001b[0mpad_len\u001b[0m \u001b[0;34m=\u001b[0m \u001b[0mmax_length\u001b[0m \u001b[0;34m-\u001b[0m \u001b[0mlen\u001b[0m\u001b[0;34m(\u001b[0m\u001b[0msentence\u001b[0m\u001b[0;34m)\u001b[0m\u001b[0;34m\u001b[0m\u001b[0m\n\u001b[1;32m      5\u001b[0m     \u001b[0mtemp\u001b[0m \u001b[0;34m=\u001b[0m \u001b[0msent_emb\u001b[0m\u001b[0;34m\u001b[0m\u001b[0m\n",
      "\u001b[0;32m<ipython-input-24-cb8e7b5c9ac4>\u001b[0m in \u001b[0;36m<listcomp>\u001b[0;34m(.0)\u001b[0m\n\u001b[1;32m      1\u001b[0m \u001b[0;32mdef\u001b[0m \u001b[0mpad_data\u001b[0m\u001b[0;34m(\u001b[0m\u001b[0msentence\u001b[0m\u001b[0;34m,\u001b[0m \u001b[0mmax_length\u001b[0m\u001b[0;34m,\u001b[0m \u001b[0minput_size\u001b[0m\u001b[0;34m)\u001b[0m\u001b[0;34m:\u001b[0m\u001b[0;34m\u001b[0m\u001b[0m\n\u001b[1;32m      2\u001b[0m \u001b[0;31m#     sent_emb = np.array([create_sentence_embed(x, word_emb, embed_size, unknown_token, pad_token, calc_mean = True) for x in sentence])\u001b[0m\u001b[0;34m\u001b[0m\u001b[0;34m\u001b[0m\u001b[0m\n\u001b[0;32m----> 3\u001b[0;31m     \u001b[0msent_emb\u001b[0m \u001b[0;34m=\u001b[0m \u001b[0mnp\u001b[0m\u001b[0;34m.\u001b[0m\u001b[0marray\u001b[0m\u001b[0;34m(\u001b[0m\u001b[0;34m[\u001b[0m\u001b[0mcreate_sentence_embed_facebook\u001b[0m\u001b[0;34m(\u001b[0m\u001b[0mx\u001b[0m\u001b[0;34m)\u001b[0m \u001b[0;32mfor\u001b[0m \u001b[0mx\u001b[0m \u001b[0;32min\u001b[0m \u001b[0msentence\u001b[0m\u001b[0;34m]\u001b[0m\u001b[0;34m)\u001b[0m\u001b[0;34m\u001b[0m\u001b[0m\n\u001b[0m\u001b[1;32m      4\u001b[0m     \u001b[0mpad_len\u001b[0m \u001b[0;34m=\u001b[0m \u001b[0mmax_length\u001b[0m \u001b[0;34m-\u001b[0m \u001b[0mlen\u001b[0m\u001b[0;34m(\u001b[0m\u001b[0msentence\u001b[0m\u001b[0;34m)\u001b[0m\u001b[0;34m\u001b[0m\u001b[0m\n\u001b[1;32m      5\u001b[0m     \u001b[0mtemp\u001b[0m \u001b[0;34m=\u001b[0m \u001b[0msent_emb\u001b[0m\u001b[0;34m\u001b[0m\u001b[0m\n",
      "\u001b[0;32m<ipython-input-14-434b72131046>\u001b[0m in \u001b[0;36mcreate_sentence_embed_facebook\u001b[0;34m(sentence)\u001b[0m\n\u001b[1;32m      1\u001b[0m \u001b[0;32mdef\u001b[0m \u001b[0mcreate_sentence_embed_facebook\u001b[0m\u001b[0;34m(\u001b[0m\u001b[0msentence\u001b[0m\u001b[0;34m)\u001b[0m\u001b[0;34m:\u001b[0m\u001b[0;34m\u001b[0m\u001b[0m\n\u001b[1;32m      2\u001b[0m \u001b[0;31m#     print(sentence)\u001b[0m\u001b[0;34m\u001b[0m\u001b[0;34m\u001b[0m\u001b[0m\n\u001b[0;32m----> 3\u001b[0;31m     \u001b[0membeddings\u001b[0m \u001b[0;34m=\u001b[0m \u001b[0msentEmbedModel\u001b[0m\u001b[0;34m.\u001b[0m\u001b[0mencode\u001b[0m\u001b[0;34m(\u001b[0m\u001b[0;34m[\u001b[0m\u001b[0msentence\u001b[0m\u001b[0;34m]\u001b[0m\u001b[0;34m,\u001b[0m \u001b[0mbsize\u001b[0m\u001b[0;34m=\u001b[0m\u001b[0;36m128\u001b[0m\u001b[0;34m,\u001b[0m \u001b[0mtokenize\u001b[0m\u001b[0;34m=\u001b[0m\u001b[0;32mFalse\u001b[0m\u001b[0;34m,\u001b[0m \u001b[0mverbose\u001b[0m\u001b[0;34m=\u001b[0m\u001b[0;32mFalse\u001b[0m\u001b[0;34m)\u001b[0m\u001b[0;34m\u001b[0m\u001b[0m\n\u001b[0m\u001b[1;32m      4\u001b[0m \u001b[0;31m#     print(len(embeddings))\u001b[0m\u001b[0;34m\u001b[0m\u001b[0;34m\u001b[0m\u001b[0m\n\u001b[1;32m      5\u001b[0m     \u001b[0;32mreturn\u001b[0m \u001b[0membeddings\u001b[0m\u001b[0;34m\u001b[0m\u001b[0m\n",
      "\u001b[0;32m~/Work/GenderBiasAnalysis/InferSent/PGM/models.py\u001b[0m in \u001b[0;36mencode\u001b[0;34m(self, sentences, bsize, tokenize, verbose)\u001b[0m\n\u001b[1;32m    211\u001b[0m                 \u001b[0mbatch\u001b[0m \u001b[0;34m=\u001b[0m \u001b[0mbatch\u001b[0m\u001b[0;34m.\u001b[0m\u001b[0mcuda\u001b[0m\u001b[0;34m(\u001b[0m\u001b[0;34m)\u001b[0m\u001b[0;34m\u001b[0m\u001b[0m\n\u001b[1;32m    212\u001b[0m             batch = self.forward(\n\u001b[0;32m--> 213\u001b[0;31m                 (batch, lengths[stidx:stidx + bsize])).data.cpu().numpy()\n\u001b[0m\u001b[1;32m    214\u001b[0m             \u001b[0membeddings\u001b[0m\u001b[0;34m.\u001b[0m\u001b[0mappend\u001b[0m\u001b[0;34m(\u001b[0m\u001b[0mbatch\u001b[0m\u001b[0;34m)\u001b[0m\u001b[0;34m\u001b[0m\u001b[0m\n\u001b[1;32m    215\u001b[0m         \u001b[0membeddings\u001b[0m \u001b[0;34m=\u001b[0m \u001b[0mnp\u001b[0m\u001b[0;34m.\u001b[0m\u001b[0mvstack\u001b[0m\u001b[0;34m(\u001b[0m\u001b[0membeddings\u001b[0m\u001b[0;34m)\u001b[0m\u001b[0;34m\u001b[0m\u001b[0m\n",
      "\u001b[0;32m~/Work/GenderBiasAnalysis/InferSent/PGM/models.py\u001b[0m in \u001b[0;36mforward\u001b[0;34m(self, sent_tuple)\u001b[0m\n\u001b[1;32m     58\u001b[0m \u001b[0;34m\u001b[0m\u001b[0m\n\u001b[1;32m     59\u001b[0m         \u001b[0;31m# Un-sort by length\u001b[0m\u001b[0;34m\u001b[0m\u001b[0;34m\u001b[0m\u001b[0m\n\u001b[0;32m---> 60\u001b[0;31m         \u001b[0midx_unsort\u001b[0m \u001b[0;34m=\u001b[0m \u001b[0mtorch\u001b[0m\u001b[0;34m.\u001b[0m\u001b[0mfrom_numpy\u001b[0m\u001b[0;34m(\u001b[0m\u001b[0midx_unsort\u001b[0m\u001b[0;34m)\u001b[0m\u001b[0;34m.\u001b[0m\u001b[0mcuda\u001b[0m\u001b[0;34m(\u001b[0m\u001b[0;34m)\u001b[0m \u001b[0;32mif\u001b[0m \u001b[0mself\u001b[0m\u001b[0;34m.\u001b[0m\u001b[0mis_cuda\u001b[0m\u001b[0;34m(\u001b[0m\u001b[0;34m)\u001b[0m\u001b[0;31m \u001b[0m\u001b[0;31m\\\u001b[0m\u001b[0;34m\u001b[0m\u001b[0m\n\u001b[0m\u001b[1;32m     61\u001b[0m             \u001b[0;32melse\u001b[0m \u001b[0mtorch\u001b[0m\u001b[0;34m.\u001b[0m\u001b[0mfrom_numpy\u001b[0m\u001b[0;34m(\u001b[0m\u001b[0midx_unsort\u001b[0m\u001b[0;34m)\u001b[0m\u001b[0;34m\u001b[0m\u001b[0m\n\u001b[1;32m     62\u001b[0m         \u001b[0msent_output\u001b[0m \u001b[0;34m=\u001b[0m \u001b[0msent_output\u001b[0m\u001b[0;34m.\u001b[0m\u001b[0mindex_select\u001b[0m\u001b[0;34m(\u001b[0m\u001b[0;36m1\u001b[0m\u001b[0;34m,\u001b[0m \u001b[0mVariable\u001b[0m\u001b[0;34m(\u001b[0m\u001b[0midx_unsort\u001b[0m\u001b[0;34m)\u001b[0m\u001b[0;34m)\u001b[0m\u001b[0;34m\u001b[0m\u001b[0m\n",
      "\u001b[0;31mKeyboardInterrupt\u001b[0m: "
     ]
    }
   ],
   "source": [
    "%%time \n",
    "training_epochs = 30;\n",
    "batch_size = 800;\n",
    "cnt = 0;\n",
    "with tf.Session() as session:\n",
    "    session.run(tf.global_variables_initializer())\n",
    "    \n",
    "    for i in range(training_epochs):\n",
    "        for batch_data, batch_labels, batch_seq_len, batch_sequence_lengths in batch(x_train, y_train, sequence_length_train, batch_size, input_size):\n",
    "            cnt += 1\n",
    "            tf_viterbi_sequence, _ = session.run([viterbi_sequence, train_op], \n",
    "                                                 feed_dict={input_data: batch_data, \n",
    "                                                            labels: batch_labels, \n",
    "                                                            batch_sequence_length: batch_seq_len,\n",
    "                                                            original_sequence_lengths: batch_sequence_lengths })\n",
    "            # Show train accuracy.\n",
    "            if i % 1 == 0:\n",
    "                # Create a mask to fix input lengths.\n",
    "                mask = (np.expand_dims(np.arange(batch_seq_len), axis=0) <\n",
    "                    np.expand_dims(batch_sequence_lengths, axis=1))\n",
    "                total_labels = np.sum(batch_sequence_lengths)\n",
    "                correct_labels = np.sum((batch_labels == tf_viterbi_sequence) * mask)\n",
    "                accuracy = 100.0 * correct_labels / float(total_labels)\n",
    "                print(\"Epoch: %d\" % i, \"Accuracy: %.2f%%\" % accuracy)\n",
    "#             if (cnt*batch_size) % 10000 ==0:\n",
    "    # Save the variables to disk.\n",
    "                print(\"Saving model\")\n",
    "#         saver.save(session, MODEL_PATH)"
   ]
  },
  {
   "cell_type": "code",
   "execution_count": null,
   "metadata": {
    "collapsed": true,
    "deletable": true,
    "editable": true
   },
   "outputs": [],
   "source": []
  },
  {
   "cell_type": "code",
   "execution_count": null,
   "metadata": {
    "collapsed": true,
    "deletable": true,
    "editable": true
   },
   "outputs": [],
   "source": []
  },
  {
   "cell_type": "code",
   "execution_count": null,
   "metadata": {
    "collapsed": true,
    "deletable": true,
    "editable": true
   },
   "outputs": [],
   "source": []
  },
  {
   "cell_type": "code",
   "execution_count": 83,
   "metadata": {
    "collapsed": true,
    "deletable": true,
    "editable": true
   },
   "outputs": [],
   "source": [
    "a = 1"
   ]
  },
  {
   "cell_type": "code",
   "execution_count": 26,
   "metadata": {
    "collapsed": false,
    "deletable": true,
    "editable": true
   },
   "outputs": [
    {
     "name": "stdout",
     "output_type": "stream",
     "text": [
      "INFO:tensorflow:Restoring parameters from ./model_crf_v4.ckpt\n"
     ]
    },
    {
     "name": "stderr",
     "output_type": "stream",
     "text": [
      "/home/aananya/Work/GenderBiasAnalysis/InferSent/PGM/models.py:209: UserWarning: volatile was removed and now has no effect. Use `with torch.no_grad():` instead.\n",
      "  sentences[stidx:stidx + bsize]), volatile=True)\n"
     ]
    },
    {
     "ename": "InternalError",
     "evalue": "Blas GEMM launch failed : a.shape=(31000, 4096), b.shape=(4096, 4), m=31000, n=4, k=4096\n\t [[Node: MatMul = MatMul[T=DT_FLOAT, transpose_a=false, transpose_b=false, _device=\"/job:localhost/replica:0/task:0/device:GPU:0\"](Reshape, weights/read)]]\n\t [[Node: cond_2/rnn/while/Exit_2/_73 = _Recv[client_terminated=false, recv_device=\"/job:localhost/replica:0/task:0/device:CPU:0\", send_device=\"/job:localhost/replica:0/task:0/device:GPU:0\", send_device_incarnation=1, tensor_name=\"edge_133_cond_2/rnn/while/Exit_2\", tensor_type=DT_FLOAT, _device=\"/job:localhost/replica:0/task:0/device:CPU:0\"]()]]\n\nCaused by op 'MatMul', defined at:\n  File \"/home/aananya/app/lib/python3.6/runpy.py\", line 193, in _run_module_as_main\n    \"__main__\", mod_spec)\n  File \"/home/aananya/app/lib/python3.6/runpy.py\", line 85, in _run_code\n    exec(code, run_globals)\n  File \"/home/aananya/Work/GenderBiasAnalysis/InferSent/.venvInferSent/lib/python3.6/site-packages/ipykernel_launcher.py\", line 16, in <module>\n    app.launch_new_instance()\n  File \"/home/aananya/Work/GenderBiasAnalysis/InferSent/.venvInferSent/lib/python3.6/site-packages/traitlets/config/application.py\", line 658, in launch_instance\n    app.start()\n  File \"/home/aananya/Work/GenderBiasAnalysis/InferSent/.venvInferSent/lib/python3.6/site-packages/ipykernel/kernelapp.py\", line 486, in start\n    self.io_loop.start()\n  File \"/home/aananya/Work/GenderBiasAnalysis/InferSent/.venvInferSent/lib/python3.6/site-packages/tornado/platform/asyncio.py\", line 127, in start\n    self.asyncio_loop.run_forever()\n  File \"/home/aananya/app/lib/python3.6/asyncio/base_events.py\", line 422, in run_forever\n    self._run_once()\n  File \"/home/aananya/app/lib/python3.6/asyncio/base_events.py\", line 1432, in _run_once\n    handle._run()\n  File \"/home/aananya/app/lib/python3.6/asyncio/events.py\", line 145, in _run\n    self._callback(*self._args)\n  File \"/home/aananya/Work/GenderBiasAnalysis/InferSent/.venvInferSent/lib/python3.6/site-packages/tornado/platform/asyncio.py\", line 117, in _handle_events\n    handler_func(fileobj, events)\n  File \"/home/aananya/Work/GenderBiasAnalysis/InferSent/.venvInferSent/lib/python3.6/site-packages/tornado/stack_context.py\", line 276, in null_wrapper\n    return fn(*args, **kwargs)\n  File \"/home/aananya/Work/GenderBiasAnalysis/InferSent/.venvInferSent/lib/python3.6/site-packages/zmq/eventloop/zmqstream.py\", line 450, in _handle_events\n    self._handle_recv()\n  File \"/home/aananya/Work/GenderBiasAnalysis/InferSent/.venvInferSent/lib/python3.6/site-packages/zmq/eventloop/zmqstream.py\", line 480, in _handle_recv\n    self._run_callback(callback, msg)\n  File \"/home/aananya/Work/GenderBiasAnalysis/InferSent/.venvInferSent/lib/python3.6/site-packages/zmq/eventloop/zmqstream.py\", line 432, in _run_callback\n    callback(*args, **kwargs)\n  File \"/home/aananya/Work/GenderBiasAnalysis/InferSent/.venvInferSent/lib/python3.6/site-packages/tornado/stack_context.py\", line 276, in null_wrapper\n    return fn(*args, **kwargs)\n  File \"/home/aananya/Work/GenderBiasAnalysis/InferSent/.venvInferSent/lib/python3.6/site-packages/ipykernel/kernelbase.py\", line 283, in dispatcher\n    return self.dispatch_shell(stream, msg)\n  File \"/home/aananya/Work/GenderBiasAnalysis/InferSent/.venvInferSent/lib/python3.6/site-packages/ipykernel/kernelbase.py\", line 233, in dispatch_shell\n    handler(stream, idents, msg)\n  File \"/home/aananya/Work/GenderBiasAnalysis/InferSent/.venvInferSent/lib/python3.6/site-packages/ipykernel/kernelbase.py\", line 399, in execute_request\n    user_expressions, allow_stdin)\n  File \"/home/aananya/Work/GenderBiasAnalysis/InferSent/.venvInferSent/lib/python3.6/site-packages/ipykernel/ipkernel.py\", line 208, in do_execute\n    res = shell.run_cell(code, store_history=store_history, silent=silent)\n  File \"/home/aananya/Work/GenderBiasAnalysis/InferSent/.venvInferSent/lib/python3.6/site-packages/ipykernel/zmqshell.py\", line 537, in run_cell\n    return super(ZMQInteractiveShell, self).run_cell(*args, **kwargs)\n  File \"/home/aananya/Work/GenderBiasAnalysis/InferSent/.venvInferSent/lib/python3.6/site-packages/IPython/core/interactiveshell.py\", line 2662, in run_cell\n    raw_cell, store_history, silent, shell_futures)\n  File \"/home/aananya/Work/GenderBiasAnalysis/InferSent/.venvInferSent/lib/python3.6/site-packages/IPython/core/interactiveshell.py\", line 2785, in _run_cell\n    interactivity=interactivity, compiler=compiler, result=result)\n  File \"/home/aananya/Work/GenderBiasAnalysis/InferSent/.venvInferSent/lib/python3.6/site-packages/IPython/core/interactiveshell.py\", line 2903, in run_ast_nodes\n    if self.run_code(code, result):\n  File \"/home/aananya/Work/GenderBiasAnalysis/InferSent/.venvInferSent/lib/python3.6/site-packages/IPython/core/interactiveshell.py\", line 2963, in run_code\n    exec(code_obj, self.user_global_ns, self.user_ns)\n  File \"<ipython-input-22-17ece50e00e1>\", line 3, in <module>\n    matricized_unary_scores = tf.matmul(matricized_x_train, weights)\n  File \"/home/aananya/Work/GenderBiasAnalysis/InferSent/.venvInferSent/lib/python3.6/site-packages/tensorflow/python/ops/math_ops.py\", line 2122, in matmul\n    a, b, transpose_a=transpose_a, transpose_b=transpose_b, name=name)\n  File \"/home/aananya/Work/GenderBiasAnalysis/InferSent/.venvInferSent/lib/python3.6/site-packages/tensorflow/python/ops/gen_math_ops.py\", line 4279, in mat_mul\n    name=name)\n  File \"/home/aananya/Work/GenderBiasAnalysis/InferSent/.venvInferSent/lib/python3.6/site-packages/tensorflow/python/framework/op_def_library.py\", line 787, in _apply_op_helper\n    op_def=op_def)\n  File \"/home/aananya/Work/GenderBiasAnalysis/InferSent/.venvInferSent/lib/python3.6/site-packages/tensorflow/python/framework/ops.py\", line 3392, in create_op\n    op_def=op_def)\n  File \"/home/aananya/Work/GenderBiasAnalysis/InferSent/.venvInferSent/lib/python3.6/site-packages/tensorflow/python/framework/ops.py\", line 1718, in __init__\n    self._traceback = self._graph._extract_stack()  # pylint: disable=protected-access\n\nInternalError (see above for traceback): Blas GEMM launch failed : a.shape=(31000, 4096), b.shape=(4096, 4), m=31000, n=4, k=4096\n\t [[Node: MatMul = MatMul[T=DT_FLOAT, transpose_a=false, transpose_b=false, _device=\"/job:localhost/replica:0/task:0/device:GPU:0\"](Reshape, weights/read)]]\n\t [[Node: cond_2/rnn/while/Exit_2/_73 = _Recv[client_terminated=false, recv_device=\"/job:localhost/replica:0/task:0/device:CPU:0\", send_device=\"/job:localhost/replica:0/task:0/device:GPU:0\", send_device_incarnation=1, tensor_name=\"edge_133_cond_2/rnn/while/Exit_2\", tensor_type=DT_FLOAT, _device=\"/job:localhost/replica:0/task:0/device:CPU:0\"]()]]\n",
     "output_type": "error",
     "traceback": [
      "\u001b[0;31m---------------------------------------------------------------------------\u001b[0m",
      "\u001b[0;31mInternalError\u001b[0m                             Traceback (most recent call last)",
      "\u001b[0;32m~/Work/GenderBiasAnalysis/InferSent/.venvInferSent/lib/python3.6/site-packages/tensorflow/python/client/session.py\u001b[0m in \u001b[0;36m_do_call\u001b[0;34m(self, fn, *args)\u001b[0m\n\u001b[1;32m   1321\u001b[0m     \u001b[0;32mtry\u001b[0m\u001b[0;34m:\u001b[0m\u001b[0;34m\u001b[0m\u001b[0m\n\u001b[0;32m-> 1322\u001b[0;31m       \u001b[0;32mreturn\u001b[0m \u001b[0mfn\u001b[0m\u001b[0;34m(\u001b[0m\u001b[0;34m*\u001b[0m\u001b[0margs\u001b[0m\u001b[0;34m)\u001b[0m\u001b[0;34m\u001b[0m\u001b[0m\n\u001b[0m\u001b[1;32m   1323\u001b[0m     \u001b[0;32mexcept\u001b[0m \u001b[0merrors\u001b[0m\u001b[0;34m.\u001b[0m\u001b[0mOpError\u001b[0m \u001b[0;32mas\u001b[0m \u001b[0me\u001b[0m\u001b[0;34m:\u001b[0m\u001b[0;34m\u001b[0m\u001b[0m\n",
      "\u001b[0;32m~/Work/GenderBiasAnalysis/InferSent/.venvInferSent/lib/python3.6/site-packages/tensorflow/python/client/session.py\u001b[0m in \u001b[0;36m_run_fn\u001b[0;34m(feed_dict, fetch_list, target_list, options, run_metadata)\u001b[0m\n\u001b[1;32m   1306\u001b[0m       return self._call_tf_sessionrun(\n\u001b[0;32m-> 1307\u001b[0;31m           options, feed_dict, fetch_list, target_list, run_metadata)\n\u001b[0m\u001b[1;32m   1308\u001b[0m \u001b[0;34m\u001b[0m\u001b[0m\n",
      "\u001b[0;32m~/Work/GenderBiasAnalysis/InferSent/.venvInferSent/lib/python3.6/site-packages/tensorflow/python/client/session.py\u001b[0m in \u001b[0;36m_call_tf_sessionrun\u001b[0;34m(self, options, feed_dict, fetch_list, target_list, run_metadata)\u001b[0m\n\u001b[1;32m   1408\u001b[0m           \u001b[0mself\u001b[0m\u001b[0;34m.\u001b[0m\u001b[0m_session\u001b[0m\u001b[0;34m,\u001b[0m \u001b[0moptions\u001b[0m\u001b[0;34m,\u001b[0m \u001b[0mfeed_dict\u001b[0m\u001b[0;34m,\u001b[0m \u001b[0mfetch_list\u001b[0m\u001b[0;34m,\u001b[0m \u001b[0mtarget_list\u001b[0m\u001b[0;34m,\u001b[0m\u001b[0;34m\u001b[0m\u001b[0m\n\u001b[0;32m-> 1409\u001b[0;31m           run_metadata)\n\u001b[0m\u001b[1;32m   1410\u001b[0m     \u001b[0;32melse\u001b[0m\u001b[0;34m:\u001b[0m\u001b[0;34m\u001b[0m\u001b[0m\n",
      "\u001b[0;31mInternalError\u001b[0m: Blas GEMM launch failed : a.shape=(31000, 4096), b.shape=(4096, 4), m=31000, n=4, k=4096\n\t [[Node: MatMul = MatMul[T=DT_FLOAT, transpose_a=false, transpose_b=false, _device=\"/job:localhost/replica:0/task:0/device:GPU:0\"](Reshape, weights/read)]]\n\t [[Node: cond_2/rnn/while/Exit_2/_73 = _Recv[client_terminated=false, recv_device=\"/job:localhost/replica:0/task:0/device:CPU:0\", send_device=\"/job:localhost/replica:0/task:0/device:GPU:0\", send_device_incarnation=1, tensor_name=\"edge_133_cond_2/rnn/while/Exit_2\", tensor_type=DT_FLOAT, _device=\"/job:localhost/replica:0/task:0/device:CPU:0\"]()]]",
      "\nDuring handling of the above exception, another exception occurred:\n",
      "\u001b[0;31mInternalError\u001b[0m                             Traceback (most recent call last)",
      "\u001b[0;32m<timed exec>\u001b[0m in \u001b[0;36m<module>\u001b[0;34m()\u001b[0m\n",
      "\u001b[0;32m~/Work/GenderBiasAnalysis/InferSent/.venvInferSent/lib/python3.6/site-packages/tensorflow/python/client/session.py\u001b[0m in \u001b[0;36mrun\u001b[0;34m(self, fetches, feed_dict, options, run_metadata)\u001b[0m\n\u001b[1;32m    898\u001b[0m     \u001b[0;32mtry\u001b[0m\u001b[0;34m:\u001b[0m\u001b[0;34m\u001b[0m\u001b[0m\n\u001b[1;32m    899\u001b[0m       result = self._run(None, fetches, feed_dict, options_ptr,\n\u001b[0;32m--> 900\u001b[0;31m                          run_metadata_ptr)\n\u001b[0m\u001b[1;32m    901\u001b[0m       \u001b[0;32mif\u001b[0m \u001b[0mrun_metadata\u001b[0m\u001b[0;34m:\u001b[0m\u001b[0;34m\u001b[0m\u001b[0m\n\u001b[1;32m    902\u001b[0m         \u001b[0mproto_data\u001b[0m \u001b[0;34m=\u001b[0m \u001b[0mtf_session\u001b[0m\u001b[0;34m.\u001b[0m\u001b[0mTF_GetBuffer\u001b[0m\u001b[0;34m(\u001b[0m\u001b[0mrun_metadata_ptr\u001b[0m\u001b[0;34m)\u001b[0m\u001b[0;34m\u001b[0m\u001b[0m\n",
      "\u001b[0;32m~/Work/GenderBiasAnalysis/InferSent/.venvInferSent/lib/python3.6/site-packages/tensorflow/python/client/session.py\u001b[0m in \u001b[0;36m_run\u001b[0;34m(self, handle, fetches, feed_dict, options, run_metadata)\u001b[0m\n\u001b[1;32m   1133\u001b[0m     \u001b[0;32mif\u001b[0m \u001b[0mfinal_fetches\u001b[0m \u001b[0;32mor\u001b[0m \u001b[0mfinal_targets\u001b[0m \u001b[0;32mor\u001b[0m \u001b[0;34m(\u001b[0m\u001b[0mhandle\u001b[0m \u001b[0;32mand\u001b[0m \u001b[0mfeed_dict_tensor\u001b[0m\u001b[0;34m)\u001b[0m\u001b[0;34m:\u001b[0m\u001b[0;34m\u001b[0m\u001b[0m\n\u001b[1;32m   1134\u001b[0m       results = self._do_run(handle, final_targets, final_fetches,\n\u001b[0;32m-> 1135\u001b[0;31m                              feed_dict_tensor, options, run_metadata)\n\u001b[0m\u001b[1;32m   1136\u001b[0m     \u001b[0;32melse\u001b[0m\u001b[0;34m:\u001b[0m\u001b[0;34m\u001b[0m\u001b[0m\n\u001b[1;32m   1137\u001b[0m       \u001b[0mresults\u001b[0m \u001b[0;34m=\u001b[0m \u001b[0;34m[\u001b[0m\u001b[0;34m]\u001b[0m\u001b[0;34m\u001b[0m\u001b[0m\n",
      "\u001b[0;32m~/Work/GenderBiasAnalysis/InferSent/.venvInferSent/lib/python3.6/site-packages/tensorflow/python/client/session.py\u001b[0m in \u001b[0;36m_do_run\u001b[0;34m(self, handle, target_list, fetch_list, feed_dict, options, run_metadata)\u001b[0m\n\u001b[1;32m   1314\u001b[0m     \u001b[0;32mif\u001b[0m \u001b[0mhandle\u001b[0m \u001b[0;32mis\u001b[0m \u001b[0;32mNone\u001b[0m\u001b[0;34m:\u001b[0m\u001b[0;34m\u001b[0m\u001b[0m\n\u001b[1;32m   1315\u001b[0m       return self._do_call(_run_fn, feeds, fetches, targets, options,\n\u001b[0;32m-> 1316\u001b[0;31m                            run_metadata)\n\u001b[0m\u001b[1;32m   1317\u001b[0m     \u001b[0;32melse\u001b[0m\u001b[0;34m:\u001b[0m\u001b[0;34m\u001b[0m\u001b[0m\n\u001b[1;32m   1318\u001b[0m       \u001b[0;32mreturn\u001b[0m \u001b[0mself\u001b[0m\u001b[0;34m.\u001b[0m\u001b[0m_do_call\u001b[0m\u001b[0;34m(\u001b[0m\u001b[0m_prun_fn\u001b[0m\u001b[0;34m,\u001b[0m \u001b[0mhandle\u001b[0m\u001b[0;34m,\u001b[0m \u001b[0mfeeds\u001b[0m\u001b[0;34m,\u001b[0m \u001b[0mfetches\u001b[0m\u001b[0;34m)\u001b[0m\u001b[0;34m\u001b[0m\u001b[0m\n",
      "\u001b[0;32m~/Work/GenderBiasAnalysis/InferSent/.venvInferSent/lib/python3.6/site-packages/tensorflow/python/client/session.py\u001b[0m in \u001b[0;36m_do_call\u001b[0;34m(self, fn, *args)\u001b[0m\n\u001b[1;32m   1333\u001b[0m         \u001b[0;32mexcept\u001b[0m \u001b[0mKeyError\u001b[0m\u001b[0;34m:\u001b[0m\u001b[0;34m\u001b[0m\u001b[0m\n\u001b[1;32m   1334\u001b[0m           \u001b[0;32mpass\u001b[0m\u001b[0;34m\u001b[0m\u001b[0m\n\u001b[0;32m-> 1335\u001b[0;31m       \u001b[0;32mraise\u001b[0m \u001b[0mtype\u001b[0m\u001b[0;34m(\u001b[0m\u001b[0me\u001b[0m\u001b[0;34m)\u001b[0m\u001b[0;34m(\u001b[0m\u001b[0mnode_def\u001b[0m\u001b[0;34m,\u001b[0m \u001b[0mop\u001b[0m\u001b[0;34m,\u001b[0m \u001b[0mmessage\u001b[0m\u001b[0;34m)\u001b[0m\u001b[0;34m\u001b[0m\u001b[0m\n\u001b[0m\u001b[1;32m   1336\u001b[0m \u001b[0;34m\u001b[0m\u001b[0m\n\u001b[1;32m   1337\u001b[0m   \u001b[0;32mdef\u001b[0m \u001b[0m_extend_graph\u001b[0m\u001b[0;34m(\u001b[0m\u001b[0mself\u001b[0m\u001b[0;34m)\u001b[0m\u001b[0;34m:\u001b[0m\u001b[0;34m\u001b[0m\u001b[0m\n",
      "\u001b[0;31mInternalError\u001b[0m: Blas GEMM launch failed : a.shape=(31000, 4096), b.shape=(4096, 4), m=31000, n=4, k=4096\n\t [[Node: MatMul = MatMul[T=DT_FLOAT, transpose_a=false, transpose_b=false, _device=\"/job:localhost/replica:0/task:0/device:GPU:0\"](Reshape, weights/read)]]\n\t [[Node: cond_2/rnn/while/Exit_2/_73 = _Recv[client_terminated=false, recv_device=\"/job:localhost/replica:0/task:0/device:CPU:0\", send_device=\"/job:localhost/replica:0/task:0/device:GPU:0\", send_device_incarnation=1, tensor_name=\"edge_133_cond_2/rnn/while/Exit_2\", tensor_type=DT_FLOAT, _device=\"/job:localhost/replica:0/task:0/device:CPU:0\"]()]]\n\nCaused by op 'MatMul', defined at:\n  File \"/home/aananya/app/lib/python3.6/runpy.py\", line 193, in _run_module_as_main\n    \"__main__\", mod_spec)\n  File \"/home/aananya/app/lib/python3.6/runpy.py\", line 85, in _run_code\n    exec(code, run_globals)\n  File \"/home/aananya/Work/GenderBiasAnalysis/InferSent/.venvInferSent/lib/python3.6/site-packages/ipykernel_launcher.py\", line 16, in <module>\n    app.launch_new_instance()\n  File \"/home/aananya/Work/GenderBiasAnalysis/InferSent/.venvInferSent/lib/python3.6/site-packages/traitlets/config/application.py\", line 658, in launch_instance\n    app.start()\n  File \"/home/aananya/Work/GenderBiasAnalysis/InferSent/.venvInferSent/lib/python3.6/site-packages/ipykernel/kernelapp.py\", line 486, in start\n    self.io_loop.start()\n  File \"/home/aananya/Work/GenderBiasAnalysis/InferSent/.venvInferSent/lib/python3.6/site-packages/tornado/platform/asyncio.py\", line 127, in start\n    self.asyncio_loop.run_forever()\n  File \"/home/aananya/app/lib/python3.6/asyncio/base_events.py\", line 422, in run_forever\n    self._run_once()\n  File \"/home/aananya/app/lib/python3.6/asyncio/base_events.py\", line 1432, in _run_once\n    handle._run()\n  File \"/home/aananya/app/lib/python3.6/asyncio/events.py\", line 145, in _run\n    self._callback(*self._args)\n  File \"/home/aananya/Work/GenderBiasAnalysis/InferSent/.venvInferSent/lib/python3.6/site-packages/tornado/platform/asyncio.py\", line 117, in _handle_events\n    handler_func(fileobj, events)\n  File \"/home/aananya/Work/GenderBiasAnalysis/InferSent/.venvInferSent/lib/python3.6/site-packages/tornado/stack_context.py\", line 276, in null_wrapper\n    return fn(*args, **kwargs)\n  File \"/home/aananya/Work/GenderBiasAnalysis/InferSent/.venvInferSent/lib/python3.6/site-packages/zmq/eventloop/zmqstream.py\", line 450, in _handle_events\n    self._handle_recv()\n  File \"/home/aananya/Work/GenderBiasAnalysis/InferSent/.venvInferSent/lib/python3.6/site-packages/zmq/eventloop/zmqstream.py\", line 480, in _handle_recv\n    self._run_callback(callback, msg)\n  File \"/home/aananya/Work/GenderBiasAnalysis/InferSent/.venvInferSent/lib/python3.6/site-packages/zmq/eventloop/zmqstream.py\", line 432, in _run_callback\n    callback(*args, **kwargs)\n  File \"/home/aananya/Work/GenderBiasAnalysis/InferSent/.venvInferSent/lib/python3.6/site-packages/tornado/stack_context.py\", line 276, in null_wrapper\n    return fn(*args, **kwargs)\n  File \"/home/aananya/Work/GenderBiasAnalysis/InferSent/.venvInferSent/lib/python3.6/site-packages/ipykernel/kernelbase.py\", line 283, in dispatcher\n    return self.dispatch_shell(stream, msg)\n  File \"/home/aananya/Work/GenderBiasAnalysis/InferSent/.venvInferSent/lib/python3.6/site-packages/ipykernel/kernelbase.py\", line 233, in dispatch_shell\n    handler(stream, idents, msg)\n  File \"/home/aananya/Work/GenderBiasAnalysis/InferSent/.venvInferSent/lib/python3.6/site-packages/ipykernel/kernelbase.py\", line 399, in execute_request\n    user_expressions, allow_stdin)\n  File \"/home/aananya/Work/GenderBiasAnalysis/InferSent/.venvInferSent/lib/python3.6/site-packages/ipykernel/ipkernel.py\", line 208, in do_execute\n    res = shell.run_cell(code, store_history=store_history, silent=silent)\n  File \"/home/aananya/Work/GenderBiasAnalysis/InferSent/.venvInferSent/lib/python3.6/site-packages/ipykernel/zmqshell.py\", line 537, in run_cell\n    return super(ZMQInteractiveShell, self).run_cell(*args, **kwargs)\n  File \"/home/aananya/Work/GenderBiasAnalysis/InferSent/.venvInferSent/lib/python3.6/site-packages/IPython/core/interactiveshell.py\", line 2662, in run_cell\n    raw_cell, store_history, silent, shell_futures)\n  File \"/home/aananya/Work/GenderBiasAnalysis/InferSent/.venvInferSent/lib/python3.6/site-packages/IPython/core/interactiveshell.py\", line 2785, in _run_cell\n    interactivity=interactivity, compiler=compiler, result=result)\n  File \"/home/aananya/Work/GenderBiasAnalysis/InferSent/.venvInferSent/lib/python3.6/site-packages/IPython/core/interactiveshell.py\", line 2903, in run_ast_nodes\n    if self.run_code(code, result):\n  File \"/home/aananya/Work/GenderBiasAnalysis/InferSent/.venvInferSent/lib/python3.6/site-packages/IPython/core/interactiveshell.py\", line 2963, in run_code\n    exec(code_obj, self.user_global_ns, self.user_ns)\n  File \"<ipython-input-22-17ece50e00e1>\", line 3, in <module>\n    matricized_unary_scores = tf.matmul(matricized_x_train, weights)\n  File \"/home/aananya/Work/GenderBiasAnalysis/InferSent/.venvInferSent/lib/python3.6/site-packages/tensorflow/python/ops/math_ops.py\", line 2122, in matmul\n    a, b, transpose_a=transpose_a, transpose_b=transpose_b, name=name)\n  File \"/home/aananya/Work/GenderBiasAnalysis/InferSent/.venvInferSent/lib/python3.6/site-packages/tensorflow/python/ops/gen_math_ops.py\", line 4279, in mat_mul\n    name=name)\n  File \"/home/aananya/Work/GenderBiasAnalysis/InferSent/.venvInferSent/lib/python3.6/site-packages/tensorflow/python/framework/op_def_library.py\", line 787, in _apply_op_helper\n    op_def=op_def)\n  File \"/home/aananya/Work/GenderBiasAnalysis/InferSent/.venvInferSent/lib/python3.6/site-packages/tensorflow/python/framework/ops.py\", line 3392, in create_op\n    op_def=op_def)\n  File \"/home/aananya/Work/GenderBiasAnalysis/InferSent/.venvInferSent/lib/python3.6/site-packages/tensorflow/python/framework/ops.py\", line 1718, in __init__\n    self._traceback = self._graph._extract_stack()  # pylint: disable=protected-access\n\nInternalError (see above for traceback): Blas GEMM launch failed : a.shape=(31000, 4096), b.shape=(4096, 4), m=31000, n=4, k=4096\n\t [[Node: MatMul = MatMul[T=DT_FLOAT, transpose_a=false, transpose_b=false, _device=\"/job:localhost/replica:0/task:0/device:GPU:0\"](Reshape, weights/read)]]\n\t [[Node: cond_2/rnn/while/Exit_2/_73 = _Recv[client_terminated=false, recv_device=\"/job:localhost/replica:0/task:0/device:CPU:0\", send_device=\"/job:localhost/replica:0/task:0/device:GPU:0\", send_device_incarnation=1, tensor_name=\"edge_133_cond_2/rnn/while/Exit_2\", tensor_type=DT_FLOAT, _device=\"/job:localhost/replica:0/task:0/device:CPU:0\"]()]]\n"
     ]
    }
   ],
   "source": [
    "%%time\n",
    "# Testing the model.\n",
    "with tf.Session() as session:\n",
    "    # Restore variables from disk.\n",
    "    saver.restore(session, MODEL_PATH)\n",
    "    \n",
    "    for batch_data, batch_labels, batch_seq_len, batch_sequence_lengths in batch(x_test, y_test, sequence_length_test, len(x_test), input_size):\n",
    "        tf_viterbi_sequence = session.run(viterbi_sequence, feed_dict={input_data: batch_data, \n",
    "                                                                       labels: batch_labels, \n",
    "                                                                       batch_sequence_length: batch_seq_len,\n",
    "                                                                       original_sequence_lengths: batch_sequence_lengths })\n",
    "    # mask to correct input sizes\n",
    "    mask = (np.expand_dims(np.arange(batch_seq_len), axis=0) <\n",
    "        np.expand_dims(batch_sequence_lengths, axis=1))\n",
    "    total_labels = np.sum(batch_sequence_lengths)\n",
    "    correct_labels = np.sum((batch_labels == tf_viterbi_sequence) * mask)\n",
    "    accuracy = 100.0 * correct_labels / float(total_labels)\n",
    "    print(\"Test accuracy: %.2f%%\" % accuracy)\n",
    "\n",
    "    print(\"Label:\", batch_labels[0].astype(int))    \n",
    "    print(\"Pred.:\", tf_viterbi_sequence[0])"
   ]
  },
  {
   "cell_type": "markdown",
   "metadata": {
    "deletable": true,
    "editable": true
   },
   "source": [
    "# Evaluation"
   ]
  },
  {
   "cell_type": "code",
   "execution_count": 30,
   "metadata": {
    "collapsed": true,
    "deletable": true,
    "editable": true
   },
   "outputs": [],
   "source": [
    "from sklearn import metrics"
   ]
  },
  {
   "cell_type": "code",
   "execution_count": 31,
   "metadata": {
    "collapsed": true,
    "deletable": true,
    "editable": true
   },
   "outputs": [],
   "source": [
    "preds = []\n",
    "for i in range(len(sequence_length_test)):\n",
    "    preds.extend(tf_viterbi_sequence[i][:sequence_length_test[i]])"
   ]
  },
  {
   "cell_type": "code",
   "execution_count": 32,
   "metadata": {
    "collapsed": false,
    "deletable": true,
    "editable": true
   },
   "outputs": [
    {
     "data": {
      "text/plain": [
       "0.7734539595984633"
      ]
     },
     "execution_count": 32,
     "metadata": {},
     "output_type": "execute_result"
    }
   ],
   "source": [
    "metrics.accuracy_score(valY_all, preds)"
   ]
  },
  {
   "cell_type": "code",
   "execution_count": 33,
   "metadata": {
    "collapsed": false,
    "deletable": true,
    "editable": true
   },
   "outputs": [
    {
     "name": "stdout",
     "output_type": "stream",
     "text": [
      "             precision    recall  f1-score   support\n",
      "\n",
      "          0       0.74      0.87      0.80      3125\n",
      "          1       0.88      0.94      0.91      2244\n",
      "          2       0.74      0.52      0.61      1775\n",
      "          3       0.64      0.52      0.57       925\n",
      "\n",
      "avg / total       0.77      0.77      0.76      8069\n",
      "\n"
     ]
    }
   ],
   "source": [
    "print(metrics.classification_report(valY_all, preds))"
   ]
  },
  {
   "cell_type": "code",
   "execution_count": 34,
   "metadata": {
    "collapsed": true,
    "deletable": true,
    "editable": true
   },
   "outputs": [],
   "source": [
    "cmat = metrics.confusion_matrix(valY_all, preds)"
   ]
  },
  {
   "cell_type": "code",
   "execution_count": 35,
   "metadata": {
    "collapsed": false,
    "deletable": true,
    "editable": true
   },
   "outputs": [
    {
     "data": {
      "text/plain": [
       "array([0.87392   , 0.93538324, 0.52450704, 0.51891892])"
      ]
     },
     "execution_count": 35,
     "metadata": {},
     "output_type": "execute_result"
    }
   ],
   "source": [
    "cmat.diagonal()/cmat.sum(axis=1)"
   ]
  },
  {
   "cell_type": "code",
   "execution_count": 36,
   "metadata": {
    "collapsed": false,
    "deletable": true,
    "editable": true
   },
   "outputs": [
    {
     "data": {
      "text/plain": [
       "array([[2731,   47,  168,  179],\n",
       "       [  32, 2099,  104,    9],\n",
       "       [ 550,  216,  931,   78],\n",
       "       [ 372,   18,   55,  480]])"
      ]
     },
     "execution_count": 36,
     "metadata": {},
     "output_type": "execute_result"
    }
   ],
   "source": [
    "cmat"
   ]
  },
  {
   "cell_type": "code",
   "execution_count": 37,
   "metadata": {
    "collapsed": true,
    "deletable": true,
    "editable": true
   },
   "outputs": [],
   "source": [
    "import matplotlib.pyplot as plt\n",
    "%matplotlib inline"
   ]
  },
  {
   "cell_type": "code",
   "execution_count": 38,
   "metadata": {
    "collapsed": true,
    "deletable": true,
    "editable": true
   },
   "outputs": [],
   "source": [
    "import itertools"
   ]
  },
  {
   "cell_type": "code",
   "execution_count": 39,
   "metadata": {
    "collapsed": true,
    "deletable": true,
    "editable": true
   },
   "outputs": [],
   "source": [
    "def plot_confusion_matrix(cm, classes,\n",
    "                          normalize=False,\n",
    "                          title='Confusion matrix',\n",
    "                          cmap=plt.cm.Blues):\n",
    "    \"\"\"\n",
    "    This function prints and plots the confusion matrix.\n",
    "    Normalization can be applied by setting `normalize=True`.\n",
    "    \"\"\"\n",
    "    if normalize:\n",
    "        cm = cm.astype('float') / cm.sum(axis=1)[:, np.newaxis]\n",
    "        print(\"Normalized confusion matrix\")\n",
    "    else:\n",
    "        print('Confusion matrix, without normalization')\n",
    "\n",
    "    print(cm)\n",
    "\n",
    "    plt.imshow(cm, interpolation='nearest', cmap=cmap)\n",
    "    plt.title(title)\n",
    "    plt.colorbar()\n",
    "    tick_marks = np.arange(len(classes))\n",
    "    plt.xticks(tick_marks, classes, rotation=45)\n",
    "    plt.yticks(tick_marks, classes)\n",
    "\n",
    "    fmt = '.2f' if normalize else 'd'\n",
    "    thresh = cm.max() / 2.\n",
    "    for i, j in itertools.product(range(cm.shape[0]), range(cm.shape[1])):\n",
    "        plt.text(j, i, format(cm[i, j], fmt),\n",
    "                 horizontalalignment=\"center\",\n",
    "                 color=\"white\" if cm[i, j] > thresh else \"black\")\n",
    "\n",
    "    plt.tight_layout()\n",
    "    plt.ylabel('True label')\n",
    "    plt.xlabel('Predicted label')"
   ]
  },
  {
   "cell_type": "code",
   "execution_count": 40,
   "metadata": {
    "collapsed": true,
    "deletable": true,
    "editable": true
   },
   "outputs": [],
   "source": [
    "classes = ['inform', 'question', 'directive', 'commisive']"
   ]
  },
  {
   "cell_type": "code",
   "execution_count": 41,
   "metadata": {
    "collapsed": false,
    "deletable": true,
    "editable": true
   },
   "outputs": [
    {
     "name": "stdout",
     "output_type": "stream",
     "text": [
      "Confusion matrix, without normalization\n",
      "[[2731   47  168  179]\n",
      " [  32 2099  104    9]\n",
      " [ 550  216  931   78]\n",
      " [ 372   18   55  480]]\n"
     ]
    },
    {
     "data": {
      "image/png": "[encoded data removed]",
      "text/plain": [
       "<Figure size 432x288 with 2 Axes>"
      ]
     },
     "metadata": {},
     "output_type": "display_data"
    }
   ],
   "source": [
    "plot_confusion_matrix(cmat, classes)"
   ]
  },
  {
   "cell_type": "code",
   "execution_count": 42,
   "metadata": {
    "collapsed": false,
    "deletable": true,
    "editable": true
   },
   "outputs": [
    {
     "name": "stdout",
     "output_type": "stream",
     "text": [
      "Normalized confusion matrix\n",
      "[[0.87392    0.01504    0.05376    0.05728   ]\n",
      " [0.01426025 0.93538324 0.04634581 0.0040107 ]\n",
      " [0.30985915 0.12169014 0.52450704 0.04394366]\n",
      " [0.40216216 0.01945946 0.05945946 0.51891892]]\n"
     ]
    },
    {
     "data": {
      "image/png": "[encoded data removed]",
      "text/plain": [
       "<Figure size 432x288 with 2 Axes>"
      ]
     },
     "metadata": {},
     "output_type": "display_data"
    }
   ],
   "source": [
    "plot_confusion_matrix(cmat, classes, normalize=True)"
   ]
  },
  {
   "cell_type": "code",
   "execution_count": 43,
   "metadata": {
    "collapsed": true,
    "deletable": true,
    "editable": true
   },
   "outputs": [],
   "source": [
    "correctPerClass = {}\n",
    "totalPerClass   = {}\n",
    "for cls in [0, 1, 2, 3]:\n",
    "    correctPerClass[cls] = 0\n",
    "    totalPerClass[cls]   = 0\n",
    "for yt, yp in zip(valY_all, preds):\n",
    "    totalPerClass[yt] += 1\n",
    "    correctPerClass[yt] += int(yt==yp)\n",
    "\n"
   ]
  },
  {
   "cell_type": "code",
   "execution_count": 44,
   "metadata": {
    "collapsed": false,
    "deletable": true,
    "editable": true
   },
   "outputs": [
    {
     "data": {
      "text/plain": [
       "{0: 3125, 1: 2244, 2: 1775, 3: 925}"
      ]
     },
     "execution_count": 44,
     "metadata": {},
     "output_type": "execute_result"
    }
   ],
   "source": [
    "totalPerClass"
   ]
  },
  {
   "cell_type": "code",
   "execution_count": 45,
   "metadata": {
    "collapsed": false,
    "deletable": true,
    "editable": true
   },
   "outputs": [
    {
     "data": {
      "text/plain": [
       "{0: 2731, 1: 2099, 2: 931, 3: 480}"
      ]
     },
     "execution_count": 45,
     "metadata": {},
     "output_type": "execute_result"
    }
   ],
   "source": [
    "correctPerClass"
   ]
  },
  {
   "cell_type": "code",
   "execution_count": 46,
   "metadata": {
    "collapsed": false,
    "deletable": true,
    "editable": true
   },
   "outputs": [
    {
     "name": "stdout",
     "output_type": "stream",
     "text": [
      "Accuracy for class  0  : 0.87392\n",
      "Accuracy for class  1  : 0.9353832442067737\n",
      "Accuracy for class  2  : 0.5245070422535211\n",
      "Accuracy for class  3  : 0.518918918918919\n"
     ]
    }
   ],
   "source": [
    "for cls in [0, 1, 2, 3]:\n",
    "    acc = float(correctPerClass[cls])/totalPerClass[cls]\n",
    "    print(\"Accuracy for class \", cls, \" :\", acc)"
   ]
  },
  {
   "cell_type": "markdown",
   "metadata": {
    "collapsed": true,
    "deletable": true,
    "editable": true
   },
   "source": [
    "# Saving the transition params"
   ]
  },
  {
   "cell_type": "code",
   "execution_count": 47,
   "metadata": {
    "collapsed": true,
    "deletable": true,
    "editable": true
   },
   "outputs": [],
   "source": [
    "x = tf.Variable([[1.0, 2.0], [3, 1]])\n",
    "\n",
    "init = tf.global_variables_initializer()\n",
    "\n",
    "sess = tf.Session()\n",
    "sess.run(init)\n",
    "v = sess.run(transition_params)    "
   ]
  },
  {
   "cell_type": "code",
   "execution_count": 48,
   "metadata": {
    "collapsed": true,
    "deletable": true,
    "editable": true
   },
   "outputs": [],
   "source": [
    "np.savetxt('transition_params_crf_v2.csv', v, delimiter=',')"
   ]
  },
  {
   "cell_type": "code",
   "execution_count": null,
   "metadata": {
    "collapsed": true,
    "deletable": true,
    "editable": true
   },
   "outputs": [],
   "source": []
  }
 ],
 "metadata": {
  "kernelspec": {
   "display_name": "infersent",
   "language": "python",
   "name": "infersent"
  },
  "language_info": {
   "codemirror_mode": {
    "name": "ipython",
    "version": 3
   },
   "file_extension": ".py",
   "mimetype": "text/x-python",
   "name": "python",
   "nbconvert_exporter": "python",
   "pygments_lexer": "ipython3",
   "version": "3.6.5"
  }
 },
 "nbformat": 4,
 "nbformat_minor": 2
}
