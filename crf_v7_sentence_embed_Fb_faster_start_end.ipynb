{
 "cells": [
  {
   "cell_type": "code",
   "execution_count": 1,
   "metadata": {},
   "outputs": [
    {
     "name": "stderr",
     "output_type": "stream",
     "text": [
      "/usr/local/lib/python3.5/dist-packages/h5py/__init__.py:36: FutureWarning: Conversion of the second argument of issubdtype from `float` to `np.floating` is deprecated. In future, it will be treated as `np.float64 == np.dtype(float).type`.\n",
      "  from ._conv import register_converters as _register_converters\n"
     ]
    }
   ],
   "source": [
    "import pandas\n",
    "import numpy as np\n",
    "import tensorflow as tf\n",
    "import os\n",
    "import math\n",
    "import random as rand\n",
    "from random import random"
   ]
  },
  {
   "cell_type": "markdown",
   "metadata": {},
   "source": [
    "# Data Preparation"
   ]
  },
  {
   "cell_type": "code",
   "execution_count": 2,
   "metadata": {},
   "outputs": [],
   "source": [
    "trainDataFile = 'ijcnlp_dailydialog/train/dialogues_train.txt'\n",
    "trainLabelsFile = 'ijcnlp_dailydialog/train/dialogues_act_train.txt' "
   ]
  },
  {
   "cell_type": "code",
   "execution_count": 3,
   "metadata": {},
   "outputs": [],
   "source": [
    "valDataFile = 'ijcnlp_dailydialog/validation/dialogues_validation.txt'\n",
    "valLablesFile = 'ijcnlp_dailydialog/validation/dialogues_act_validation.txt'"
   ]
  },
  {
   "cell_type": "code",
   "execution_count": 4,
   "metadata": {},
   "outputs": [],
   "source": [
    "testDataFile = 'ijcnlp_dailydialog/test/dialogues_test.txt'\n",
    "testLablesFile = 'ijcnlp_dailydialog/test/dialogues_act_test.txt'"
   ]
  },
  {
   "cell_type": "code",
   "execution_count": 5,
   "metadata": {},
   "outputs": [],
   "source": [
    "lineSeparator = '__eou__'"
   ]
  },
  {
   "cell_type": "code",
   "execution_count": 6,
   "metadata": {},
   "outputs": [],
   "source": [
    "def getData(dialogueFile, labelFile):\n",
    "    with open(dialogueFile) as f:\n",
    "        lines = f.readlines() \n",
    "    with open(labelFile) as f:\n",
    "        labels = f.readlines()    \n",
    "    \n",
    "    inputs = []\n",
    "    inputs_all = []\n",
    "    for line in lines:\n",
    "        line = line.rstrip()\n",
    "        line = line.split(lineSeparator)\n",
    "        inputs.append(line[:-1])\n",
    "        inputs_all.extend(line[:-1])\n",
    "    \n",
    "    acts = []\n",
    "    acts_all = []\n",
    "    for label in labels:\n",
    "        label = label.rstrip()\n",
    "        label = label.split()\n",
    "        \n",
    "        label = np.array(list(map(int, label))) - 1\n",
    "        acts.append(label)\n",
    "        acts_all.extend(label)\n",
    "        \n",
    "    return (inputs_all, inputs, acts_all, acts)"
   ]
  },
  {
   "cell_type": "code",
   "execution_count": 7,
   "metadata": {},
   "outputs": [],
   "source": [
    "trainX_all, trainX_data, trainY_all, trainY = getData(trainDataFile, trainLabelsFile)\n",
    "valX_all, valX_data, valY_all, valY = getData(valDataFile, valLablesFile)\n",
    "testX_all, testX_data, testY_all, testY = getData(testDataFile, testLablesFile)"
   ]
  },
  {
   "cell_type": "code",
   "execution_count": 8,
   "metadata": {},
   "outputs": [],
   "source": [
    "train_dialogues = len(trainX_all)\n",
    "val_dialogues = len(valX_all)\n",
    "test_dialogues = len(testX_all)\n",
    "fullData_temp = trainX_all + valX_all + testX_all"
   ]
  },
  {
   "cell_type": "code",
   "execution_count": 9,
   "metadata": {},
   "outputs": [],
   "source": [
    "embed_size = 300;\n",
    "pad_token = '<pad>'\n",
    "unknown_token = '<unk>'\n",
    "embed_path = '/home/abhishekjindal/nlp/data/glove.840B.300d.txt'"
   ]
  },
  {
   "cell_type": "code",
   "execution_count": 10,
   "metadata": {},
   "outputs": [],
   "source": [
    "%matplotlib inline\n",
    "\n",
    "from random import randint\n",
    "import matplotlib\n",
    "\n",
    "import numpy as np\n",
    "import torch\n",
    "\n",
    "torch.nn.Module.dump_patches = True"
   ]
  },
  {
   "cell_type": "code",
   "execution_count": 11,
   "metadata": {},
   "outputs": [
    {
     "name": "stderr",
     "output_type": "stream",
     "text": [
      "/usr/local/lib/python3.5/dist-packages/torch/serialization.py:316: SourceChangeWarning: source code of class 'models.BLSTMEncoder' has changed. Saved a reverse patch to BLSTMEncoder.patch. Run `patch -p0 < BLSTMEncoder.patch` to revert your changes.\n",
      "  warnings.warn(msg, SourceChangeWarning)\n",
      "/usr/local/lib/python3.5/dist-packages/torch/serialization.py:316: SourceChangeWarning: source code of class 'torch.nn.modules.rnn.LSTM' has changed. Saved a reverse patch to LSTM.patch. Run `patch -p0 < LSTM.patch` to revert your changes.\n",
      "  warnings.warn(msg, SourceChangeWarning)\n"
     ]
    }
   ],
   "source": [
    "# sentEmbedModel = torch.load('encoder/infersent.allnli.pickle', map_location=lambda storage, loc: storage)\n",
    "\n",
    "sentEmbedModel = torch.load('encoder/infersent.allnli.pickle')\n",
    "sentEmbedModel = sentEmbedModel.cuda()"
   ]
  },
  {
   "cell_type": "code",
   "execution_count": 12,
   "metadata": {},
   "outputs": [
    {
     "data": {
      "text/plain": [
       "True"
      ]
     },
     "execution_count": 12,
     "metadata": {},
     "output_type": "execute_result"
    }
   ],
   "source": [
    "sentEmbedModel.is_cuda()"
   ]
  },
  {
   "cell_type": "code",
   "execution_count": 13,
   "metadata": {},
   "outputs": [],
   "source": [
    "sentEmbedModel.set_glove_path(embed_path)"
   ]
  },
  {
   "cell_type": "code",
   "execution_count": 14,
   "metadata": {},
   "outputs": [
    {
     "name": "stdout",
     "output_type": "stream",
     "text": [
      "Found 23332(/26376) words with glove vectors\n",
      "Vocab size : 23332\n",
      "CPU times: user 28.4 s, sys: 1.64 s, total: 30.1 s\n",
      "Wall time: 30 s\n"
     ]
    }
   ],
   "source": [
    "%%time\n",
    "sentEmbedModel.build_vocab(fullData_temp, tokenize=True)\n",
    "#sentEmbedModel.build_vocab_k_words(K=100000)"
   ]
  },
  {
   "cell_type": "code",
   "execution_count": 15,
   "metadata": {},
   "outputs": [
    {
     "name": "stdout",
     "output_type": "stream",
     "text": [
      "CPU times: user 42.5 s, sys: 22.9 s, total: 1min 5s\n",
      "Wall time: 1min 5s\n"
     ]
    }
   ],
   "source": [
    "%%time\n",
    "final_emb = sentEmbedModel.encode(fullData_temp, bsize=128, tokenize=False, verbose=False)\n",
    "#final_emb = sentEmbedModel.encode(fullData_temp, tokenize=True)"
   ]
  },
  {
   "cell_type": "code",
   "execution_count": 16,
   "metadata": {},
   "outputs": [
    {
     "data": {
      "text/plain": [
       "(102979, 4096)"
      ]
     },
     "execution_count": 16,
     "metadata": {},
     "output_type": "execute_result"
    }
   ],
   "source": [
    "final_emb.shape"
   ]
  },
  {
   "cell_type": "code",
   "execution_count": 17,
   "metadata": {},
   "outputs": [
    {
     "name": "stdout",
     "output_type": "stream",
     "text": [
      "102979\n"
     ]
    }
   ],
   "source": [
    "curr_count = 0\n",
    "train_emb_data = final_emb[curr_count:(curr_count+train_dialogues)]\n",
    "curr_count += train_dialogues\n",
    "val_emb_data = final_emb[curr_count:(curr_count+val_dialogues)]\n",
    "curr_count += val_dialogues\n",
    "test_emb_data = final_emb[curr_count:(curr_count+test_dialogues)]\n",
    "print(curr_count+test_dialogues)"
   ]
  },
  {
   "cell_type": "markdown",
   "metadata": {},
   "source": [
    "# Train a classifier"
   ]
  },
  {
   "cell_type": "code",
   "execution_count": 18,
   "metadata": {},
   "outputs": [],
   "source": [
    "# Parameters used.\n",
    "MODEL_PATH = './model_crf_v7.ckpt'"
   ]
  },
  {
   "cell_type": "code",
   "execution_count": 19,
   "metadata": {},
   "outputs": [],
   "source": [
    "learning_rate = 0.03\n",
    "#training_epochs = 7\n",
    "input_size = 4096 #sent_embed_size\n",
    "#batch_size = 25\n",
    "#num_units = 128 # the number of units in the LSTM cell\n",
    "number_of_classes = len(set(trainY_all)) + 2\n",
    "start_label = len(set(trainY_all))\n",
    "end_label = start_label + 1\n",
    "start_emb = np.random.choice([-1, 1], size=(1,input_size), p=[110./111, 1./111])\n",
    "end_emb = np.random.choice([-1, 1], size=(1,input_size), p=[1./111, 110./111])"
   ]
  },
  {
   "cell_type": "code",
   "execution_count": 20,
   "metadata": {},
   "outputs": [],
   "source": [
    "def get_sequence_length(x_data):\n",
    "    seq = [];\n",
    "    for i in range(len(x_data)):\n",
    "        seq.append(len(x_data[i]))\n",
    "    return seq"
   ]
  },
  {
   "cell_type": "code",
   "execution_count": 21,
   "metadata": {},
   "outputs": [],
   "source": [
    "def create_embedding_conversation_data(complete_emb, seq_len, start_emb, end_emb):\n",
    "    curr_count = 0;\n",
    "    final_data = [];\n",
    "    #print(complete_emb[0:2])\n",
    "    for i in range(len(seq_len)):\n",
    "        \n",
    "        emb_temp = complete_emb[curr_count:(curr_count+seq_len[i])]\n",
    "        emb_temp = np.concatenate((start_emb, emb_temp))\n",
    "        emb_temp = np.concatenate((emb_temp, end_emb))\n",
    "        final_data.append(emb_temp)\n",
    "        curr_count += seq_len[i]\n",
    "    return final_data"
   ]
  },
  {
   "cell_type": "code",
   "execution_count": 22,
   "metadata": {},
   "outputs": [],
   "source": [
    "def adding_start_end_labels(labels, start_label, end_label):\n",
    "    final_lab = [];\n",
    "    for i in range(len(labels)):\n",
    "        temp = labels[i]\n",
    "        temp = np.concatenate((np.array([start_label]), temp))\n",
    "        temp = np.concatenate((temp, np.array([end_label])))\n",
    "        final_lab.append(temp)\n",
    "    \n",
    "    return final_lab"
   ]
  },
  {
   "cell_type": "code",
   "execution_count": 23,
   "metadata": {},
   "outputs": [],
   "source": [
    "\n",
    "sequence_length_train = np.array(get_sequence_length(trainX_data))\n",
    "sequence_length_val = np.array(get_sequence_length(valX_data))\n",
    "sequence_length_test = np.array(get_sequence_length(testX_data))\n",
    "\n",
    "x_train = create_embedding_conversation_data(train_emb_data, sequence_length_train, start_emb, end_emb)\n",
    "x_val = create_embedding_conversation_data(val_emb_data, sequence_length_val, start_emb, end_emb)\n",
    "x_test = create_embedding_conversation_data(test_emb_data, sequence_length_test, start_emb, end_emb)\n",
    "\n",
    "# For start end indices\n",
    "sequence_length_train += 2 \n",
    "sequence_length_val += 2\n",
    "sequence_length_test += 2\n",
    "\n",
    "\n",
    "y_train = adding_start_end_labels(trainY, start_label, end_label)\n",
    "y_val = adding_start_end_labels(valY, start_label, end_label)\n",
    "y_test = adding_start_end_labels(testY, start_label, end_label)\n"
   ]
  },
  {
   "cell_type": "code",
   "execution_count": 24,
   "metadata": {},
   "outputs": [],
   "source": [
    "def pad_label(sentence, max_length):\n",
    "    pad_len = max_length - len(sentence)\n",
    "    padding = np.zeros(pad_len, dtype=int)\n",
    "    return np.concatenate((sentence, padding))"
   ]
  },
  {
   "cell_type": "code",
   "execution_count": 25,
   "metadata": {},
   "outputs": [],
   "source": [
    "input_data = tf.placeholder(tf.float32, [None, None, input_size], name=\"input_data\") # shape = (batch, batch_seq_len, input_size)\n",
    "labels = tf.placeholder(tf.int32, shape=[None, None], name=\"labels\") # shape = (batch, sentence)\n",
    "batch_sequence_length = tf.placeholder(tf.int32) # max sequence length in batch\n",
    "original_sequence_lengths = tf.placeholder(tf.int32, [None])\n"
   ]
  },
  {
   "cell_type": "code",
   "execution_count": 26,
   "metadata": {},
   "outputs": [],
   "source": [
    "weights = tf.get_variable(\"weights\", [input_size, number_of_classes])\n",
    "matricized_x_train = tf.reshape(input_data, [-1, input_size])\n",
    "matricized_unary_scores = tf.matmul(matricized_x_train, weights)\n",
    "#matricized_unary_scores = tf.sigmoid(matricized_unary_scores_temp)\n",
    "scores = tf.reshape(matricized_unary_scores, [-1, batch_sequence_length, number_of_classes])\n",
    "#scores = tf.reshape(matricized_unary_scores, [num_examples, num_words, num_tags])\n"
   ]
  },
  {
   "cell_type": "code",
   "execution_count": 27,
   "metadata": {},
   "outputs": [
    {
     "name": "stderr",
     "output_type": "stream",
     "text": [
      "/usr/local/lib/python3.5/dist-packages/tensorflow/python/ops/gradients_impl.py:97: UserWarning: Converting sparse IndexedSlices to a dense Tensor of unknown shape. This may consume a large amount of memory.\n",
      "  \"Converting sparse IndexedSlices to a dense Tensor of unknown shape. \"\n"
     ]
    }
   ],
   "source": [
    "# Linear-CRF.\n",
    "temp_params = np.loadtxt('estimated_transition_params_crf.csv', delimiter=',')\n",
    "#temp_params = np.log(temp_params)\n",
    "temp_params = np.float32(temp_params)\n",
    "trans_params = tf.get_variable(\"transitions\", initializer = temp_params, trainable = True)\n",
    "#transition_params = tf.get_variable(\"transitions\", shape = [number_of_classes, number_of_classes]);\n",
    "log_likelihood, transition_params = tf.contrib.crf.crf_log_likelihood(scores, labels, original_sequence_lengths, trans_params)\n",
    "\n",
    "loss = tf.reduce_mean(-log_likelihood)\n",
    "\n",
    "# Compute the viterbi sequence and score (used for prediction and test time).\n",
    "viterbi_sequence, viterbi_score = tf.contrib.crf.crf_decode(scores, transition_params, original_sequence_lengths)\n",
    "\n",
    "# Training ops.\n",
    "optimizer = tf.train.AdamOptimizer(learning_rate)\n",
    "train_op = optimizer.minimize(loss)\n",
    "\n",
    "# Add ops to save and restore all the variables.\n",
    "saver = tf.train.Saver()"
   ]
  },
  {
   "cell_type": "code",
   "execution_count": 28,
   "metadata": {},
   "outputs": [],
   "source": [
    "def pad_data(sentence, max_length, input_size):\n",
    "#     sent_emb = np.array([create_sentence_embed(x, word_emb, embed_size, unknown_token, pad_token, calc_mean = True) for x in sentence])\n",
    "    #sent_emb = np.array([create_sentence_embed_facebook(x) for x in sentence])\n",
    "    pad_len = max_length - len(sentence)\n",
    "    temp = sentence\n",
    "    if pad_len > 0:\n",
    "        single_pad = np.zeros(input_size)\n",
    "        padding = [single_pad] * pad_len\n",
    "#         print(pad_len)\n",
    "#         print(len(sent_emb), len(padding))\n",
    "#         print(type(sent_emb), type(padding))\n",
    "#         print(sent_emb.shape)\n",
    "        #sent_emb = sent_emb.squeeze()\n",
    "        temp = np.concatenate((temp, padding))\n",
    "    return temp"
   ]
  },
  {
   "cell_type": "code",
   "execution_count": 29,
   "metadata": {},
   "outputs": [],
   "source": [
    "def batch(data, labels, sequence_lengths, batch_size, input_size):\n",
    "    n_batch = int(math.ceil(float(len(data)) / (batch_size)))\n",
    "    index = 0\n",
    "    for _ in range(n_batch):\n",
    "#         print(_)\n",
    "        batch_sequence_lengths = np.array(sequence_lengths[index: index + batch_size])\n",
    "#         print(batch_sequence_lengths)\n",
    "        batch_length = np.array(max(batch_sequence_lengths)) # max length in batch\n",
    "#         print(batch_length)\n",
    "#         for x in data[index: index + batch_size]:\n",
    "#             xx = pad_data(x, batch_length, input_size)\n",
    "#             print(xx.shape)\n",
    "        batch_data = np.array([pad_data(x, batch_length, input_size).squeeze() for x in data[index: index + batch_size]]) # pad data\n",
    "        batch_labels = np.array([pad_label(x, batch_length) for x in labels[index: index + batch_size]]) # pad labels\n",
    "        index += batch_size\n",
    "        \n",
    "        # Reshape input data to be suitable for LSTMs.\n",
    "        batch_data = batch_data.reshape(-1, batch_length, input_size)\n",
    "        \n",
    "        yield batch_data, batch_labels, batch_length, batch_sequence_lengths"
   ]
  },
  {
   "cell_type": "code",
   "execution_count": 30,
   "metadata": {},
   "outputs": [
    {
     "name": "stdout",
     "output_type": "stream",
     "text": [
      "Epoch: 0 Accuracy: 0.05%\n",
      "Epoch: 0 Accuracy: 22.19%\n",
      "Epoch: 0 Accuracy: 18.53%\n",
      "Epoch: 0 Accuracy: 27.02%\n",
      "Epoch: 0 Accuracy: 31.85%\n",
      "Epoch: 0 Accuracy: 36.64%\n",
      "Epoch: 0 Accuracy: 44.01%\n",
      "Epoch: 0 Accuracy: 43.20%\n",
      "Epoch: 0 Accuracy: 52.49%\n",
      "Epoch: 0 Accuracy: 56.77%\n",
      "Epoch: 0 Accuracy: 61.53%\n",
      "Epoch: 0 Accuracy: 60.29%\n",
      "Epoch: 0 Accuracy: 60.07%\n",
      "Epoch: 0 Accuracy: 60.72%\n",
      "Epoch: 0 Accuracy: 64.47%\n",
      "Epoch: 0 Accuracy: 67.19%\n",
      "Saving model\n",
      "Epoch: 1 Accuracy: 80.83%\n",
      "Epoch: 1 Accuracy: 79.77%\n",
      "Epoch: 1 Accuracy: 80.40%\n",
      "Epoch: 1 Accuracy: 77.73%\n",
      "Epoch: 1 Accuracy: 78.84%\n",
      "Epoch: 1 Accuracy: 77.49%\n",
      "Epoch: 1 Accuracy: 73.29%\n",
      "Epoch: 1 Accuracy: 63.03%\n",
      "Epoch: 1 Accuracy: 59.38%\n",
      "Epoch: 1 Accuracy: 54.28%\n",
      "Epoch: 1 Accuracy: 54.31%\n",
      "Epoch: 1 Accuracy: 58.27%\n",
      "Epoch: 1 Accuracy: 65.61%\n",
      "Epoch: 1 Accuracy: 69.85%\n",
      "Epoch: 1 Accuracy: 70.79%\n",
      "Epoch: 1 Accuracy: 71.91%\n",
      "Saving model\n",
      "Epoch: 2 Accuracy: 84.58%\n",
      "Epoch: 2 Accuracy: 83.92%\n",
      "Epoch: 2 Accuracy: 85.01%\n",
      "Epoch: 2 Accuracy: 82.48%\n",
      "Epoch: 2 Accuracy: 84.13%\n",
      "Epoch: 2 Accuracy: 82.62%\n",
      "Epoch: 2 Accuracy: 78.78%\n",
      "Epoch: 2 Accuracy: 71.52%\n",
      "Epoch: 2 Accuracy: 72.23%\n",
      "Epoch: 2 Accuracy: 71.89%\n",
      "Epoch: 2 Accuracy: 74.99%\n",
      "Epoch: 2 Accuracy: 74.19%\n",
      "Epoch: 2 Accuracy: 76.51%\n",
      "Epoch: 2 Accuracy: 74.59%\n",
      "Epoch: 2 Accuracy: 74.43%\n",
      "Epoch: 2 Accuracy: 75.67%\n",
      "Saving model\n",
      "Epoch: 3 Accuracy: 82.82%\n",
      "Epoch: 3 Accuracy: 83.18%\n",
      "Epoch: 3 Accuracy: 84.31%\n",
      "Epoch: 3 Accuracy: 83.21%\n",
      "Epoch: 3 Accuracy: 84.41%\n",
      "Epoch: 3 Accuracy: 83.27%\n",
      "Epoch: 3 Accuracy: 81.06%\n",
      "Epoch: 3 Accuracy: 73.30%\n",
      "Epoch: 3 Accuracy: 74.76%\n",
      "Epoch: 3 Accuracy: 71.26%\n",
      "Epoch: 3 Accuracy: 71.33%\n",
      "Epoch: 3 Accuracy: 74.00%\n",
      "Epoch: 3 Accuracy: 77.59%\n",
      "Epoch: 3 Accuracy: 76.95%\n",
      "Epoch: 3 Accuracy: 76.39%\n",
      "Epoch: 3 Accuracy: 77.09%\n",
      "Saving model\n",
      "Epoch: 4 Accuracy: 85.98%\n",
      "Epoch: 4 Accuracy: 84.90%\n",
      "Epoch: 4 Accuracy: 85.64%\n",
      "Epoch: 4 Accuracy: 84.08%\n",
      "Epoch: 4 Accuracy: 85.65%\n",
      "Epoch: 4 Accuracy: 84.59%\n",
      "Epoch: 4 Accuracy: 83.07%\n",
      "Epoch: 4 Accuracy: 75.81%\n",
      "Epoch: 4 Accuracy: 77.06%\n",
      "Epoch: 4 Accuracy: 74.54%\n",
      "Epoch: 4 Accuracy: 74.69%\n",
      "Epoch: 4 Accuracy: 75.87%\n",
      "Epoch: 4 Accuracy: 78.79%\n",
      "Epoch: 4 Accuracy: 76.59%\n",
      "Epoch: 4 Accuracy: 76.41%\n",
      "Epoch: 4 Accuracy: 78.50%\n",
      "Saving model\n",
      "Epoch: 5 Accuracy: 86.02%\n",
      "Epoch: 5 Accuracy: 85.07%\n",
      "Epoch: 5 Accuracy: 86.13%\n",
      "Epoch: 5 Accuracy: 85.18%\n",
      "Epoch: 5 Accuracy: 86.24%\n",
      "Epoch: 5 Accuracy: 84.68%\n",
      "Epoch: 5 Accuracy: 83.00%\n",
      "Epoch: 5 Accuracy: 75.97%\n",
      "Epoch: 5 Accuracy: 77.52%\n",
      "Epoch: 5 Accuracy: 73.15%\n",
      "Epoch: 5 Accuracy: 74.45%\n",
      "Epoch: 5 Accuracy: 77.22%\n",
      "Epoch: 5 Accuracy: 79.64%\n",
      "Epoch: 5 Accuracy: 76.49%\n",
      "Epoch: 5 Accuracy: 77.18%\n",
      "Epoch: 5 Accuracy: 79.43%\n",
      "Saving model\n",
      "Epoch: 6 Accuracy: 84.18%\n",
      "Epoch: 6 Accuracy: 84.39%\n",
      "Epoch: 6 Accuracy: 86.43%\n",
      "Epoch: 6 Accuracy: 85.14%\n",
      "Epoch: 6 Accuracy: 86.10%\n",
      "Epoch: 6 Accuracy: 84.56%\n",
      "Epoch: 6 Accuracy: 83.06%\n",
      "Epoch: 6 Accuracy: 75.90%\n",
      "Epoch: 6 Accuracy: 77.20%\n",
      "Epoch: 6 Accuracy: 72.27%\n",
      "Epoch: 6 Accuracy: 75.13%\n",
      "Epoch: 6 Accuracy: 78.48%\n",
      "Epoch: 6 Accuracy: 79.06%\n",
      "Epoch: 6 Accuracy: 76.76%\n",
      "Epoch: 6 Accuracy: 77.39%\n",
      "Epoch: 6 Accuracy: 79.42%\n",
      "Saving model\n",
      "Epoch: 7 Accuracy: 83.28%\n",
      "Epoch: 7 Accuracy: 84.84%\n",
      "Epoch: 7 Accuracy: 87.42%\n",
      "Epoch: 7 Accuracy: 85.39%\n",
      "Epoch: 7 Accuracy: 85.95%\n",
      "Epoch: 7 Accuracy: 84.89%\n",
      "Epoch: 7 Accuracy: 83.24%\n",
      "Epoch: 7 Accuracy: 77.03%\n",
      "Epoch: 7 Accuracy: 76.14%\n",
      "Epoch: 7 Accuracy: 71.64%\n",
      "Epoch: 7 Accuracy: 75.96%\n",
      "Epoch: 7 Accuracy: 78.94%\n",
      "Epoch: 7 Accuracy: 79.15%\n",
      "Epoch: 7 Accuracy: 77.15%\n",
      "Epoch: 7 Accuracy: 78.30%\n",
      "Epoch: 7 Accuracy: 79.32%\n",
      "Saving model\n",
      "Epoch: 8 Accuracy: 82.27%\n",
      "Epoch: 8 Accuracy: 85.92%\n",
      "Epoch: 8 Accuracy: 88.02%\n",
      "Epoch: 8 Accuracy: 85.44%\n",
      "Epoch: 8 Accuracy: 86.04%\n",
      "Epoch: 8 Accuracy: 84.96%\n",
      "Epoch: 8 Accuracy: 83.52%\n",
      "Epoch: 8 Accuracy: 77.70%\n",
      "Epoch: 8 Accuracy: 75.47%\n",
      "Epoch: 8 Accuracy: 71.49%\n",
      "Epoch: 8 Accuracy: 77.66%\n",
      "Epoch: 8 Accuracy: 78.90%\n",
      "Epoch: 8 Accuracy: 79.42%\n",
      "Epoch: 8 Accuracy: 77.74%\n",
      "Epoch: 8 Accuracy: 78.71%\n",
      "Epoch: 8 Accuracy: 78.72%\n",
      "Saving model\n",
      "Epoch: 9 Accuracy: 82.57%\n",
      "Epoch: 9 Accuracy: 86.72%\n",
      "Epoch: 9 Accuracy: 88.20%\n",
      "Epoch: 9 Accuracy: 85.56%\n",
      "Epoch: 9 Accuracy: 86.10%\n",
      "Epoch: 9 Accuracy: 85.15%\n",
      "Epoch: 9 Accuracy: 84.10%\n",
      "Epoch: 9 Accuracy: 78.34%\n",
      "Epoch: 9 Accuracy: 75.10%\n",
      "Epoch: 9 Accuracy: 72.61%\n",
      "Epoch: 9 Accuracy: 79.00%\n",
      "Epoch: 9 Accuracy: 78.87%\n",
      "Epoch: 9 Accuracy: 79.42%\n",
      "Epoch: 9 Accuracy: 78.22%\n",
      "Epoch: 9 Accuracy: 79.16%\n",
      "Epoch: 9 Accuracy: 78.65%\n",
      "Saving model\n",
      "Epoch: 10 Accuracy: 83.48%\n",
      "Epoch: 10 Accuracy: 87.97%\n",
      "Epoch: 10 Accuracy: 88.14%\n",
      "Epoch: 10 Accuracy: 85.42%\n",
      "Epoch: 10 Accuracy: 86.18%\n",
      "Epoch: 10 Accuracy: 85.42%\n",
      "Epoch: 10 Accuracy: 84.62%\n",
      "Epoch: 10 Accuracy: 78.27%\n",
      "Epoch: 10 Accuracy: 75.16%\n",
      "Epoch: 10 Accuracy: 74.50%\n",
      "Epoch: 10 Accuracy: 80.10%\n",
      "Epoch: 10 Accuracy: 78.91%\n",
      "Epoch: 10 Accuracy: 80.01%\n",
      "Epoch: 10 Accuracy: 79.07%\n",
      "Epoch: 10 Accuracy: 79.43%\n",
      "Epoch: 10 Accuracy: 78.86%\n",
      "Saving model\n",
      "Epoch: 11 Accuracy: 85.07%\n",
      "Epoch: 11 Accuracy: 88.29%\n",
      "Epoch: 11 Accuracy: 88.11%\n",
      "Epoch: 11 Accuracy: 85.33%\n",
      "Epoch: 11 Accuracy: 86.52%\n",
      "Epoch: 11 Accuracy: 85.76%\n",
      "Epoch: 11 Accuracy: 84.80%\n",
      "Epoch: 11 Accuracy: 78.49%\n",
      "Epoch: 11 Accuracy: 76.02%\n",
      "Epoch: 11 Accuracy: 76.68%\n",
      "Epoch: 11 Accuracy: 81.30%\n",
      "Epoch: 11 Accuracy: 78.98%\n",
      "Epoch: 11 Accuracy: 81.06%\n",
      "Epoch: 11 Accuracy: 79.87%\n",
      "Epoch: 11 Accuracy: 79.25%\n",
      "Epoch: 11 Accuracy: 79.68%\n",
      "Saving model\n",
      "CPU times: user 2min 4s, sys: 2min 43s, total: 4min 47s\n",
      "Wall time: 4min 1s\n"
     ]
    }
   ],
   "source": [
    "%%time \n",
    "training_epochs = 12;\n",
    "batch_size = 700;\n",
    "#cnt = 0;\n",
    "with tf.Session() as session:\n",
    "    session.run(tf.global_variables_initializer())\n",
    "    \n",
    "    for i in range(training_epochs):\n",
    "        for batch_data, batch_labels, batch_seq_len, batch_sequence_lengths in batch(x_train, y_train, sequence_length_train, batch_size, input_size):\n",
    "            #cnt += 1\n",
    "            tf_viterbi_sequence, _ = session.run([viterbi_sequence, train_op], \n",
    "                                                 feed_dict={input_data: batch_data, \n",
    "                                                            labels: batch_labels, \n",
    "                                                            batch_sequence_length: batch_seq_len,\n",
    "                                                            original_sequence_lengths: batch_sequence_lengths })\n",
    "            # Show train accuracy.\n",
    "            if i % 1 == 0:\n",
    "                # Create a mask to fix input lengths.\n",
    "                mask = (np.expand_dims(np.arange(batch_seq_len), axis=0) <\n",
    "                    np.expand_dims(batch_sequence_lengths, axis=1))\n",
    "                total_labels = np.sum(batch_sequence_lengths)\n",
    "                correct_labels = np.sum((batch_labels == tf_viterbi_sequence) * mask)\n",
    "                accuracy = 100.0 * correct_labels / float(total_labels)\n",
    "                print(\"Epoch: %d\" % i, \"Accuracy: %.2f%%\" % accuracy)\n",
    "#             if (cnt*batch_size) % 10000 ==0:\n",
    "    # Save the variables to disk.\n",
    "        \n",
    "        print(\"Saving model\")\n",
    "        saver.save(session, MODEL_PATH)"
   ]
  },
  {
   "cell_type": "code",
   "execution_count": 31,
   "metadata": {},
   "outputs": [
    {
     "name": "stdout",
     "output_type": "stream",
     "text": [
      "INFO:tensorflow:Restoring parameters from ./model_crf_v7.ckpt\n",
      "This accuracy includes start end, so it is wrong!\n",
      "Label: [4 1 0 2 1 0 1 0 5 0 0 0 0 0 0 0 0 0 0 0 0 0 0 0 0 0 0 0 0 0 0 0 0]\n",
      "Pred.: [4 1 1 2 1 0 1 0 5 0 0 0 0 0 0 0 0 0 0 0 0 0 0 0 0 0 0 0 0 0 0 0 0]\n",
      "CPU times: user 876 ms, sys: 1.28 s, total: 2.16 s\n",
      "Wall time: 2.05 s\n"
     ]
    }
   ],
   "source": [
    "%%time\n",
    "# Testing the model.\n",
    "with tf.Session() as session:\n",
    "    # Restore variables from disk.\n",
    "    saver.restore(session, MODEL_PATH)\n",
    "    \n",
    "    for batch_data, batch_labels, batch_seq_len, batch_sequence_lengths in batch(x_val, y_val, sequence_length_val, len(x_val), input_size):\n",
    "        tf_viterbi_sequence = session.run(viterbi_sequence, feed_dict={input_data: batch_data, \n",
    "                                                                       labels: batch_labels, \n",
    "                                                                       batch_sequence_length: batch_seq_len,\n",
    "                                                                       original_sequence_lengths: batch_sequence_lengths })\n",
    "    v = session.run(transition_params)\n",
    "    np.savetxt('transition_params_crf_v7.csv', v, delimiter=',')\n",
    "    # mask to correct input sizes\n",
    "    mask = (np.expand_dims(np.arange(batch_seq_len), axis=0) <\n",
    "        np.expand_dims(batch_sequence_lengths, axis=1))\n",
    "    total_labels = np.sum(batch_sequence_lengths)\n",
    "    correct_labels = np.sum((batch_labels == tf_viterbi_sequence) * mask)\n",
    "    accuracy = 100.0 * correct_labels / float(total_labels)\n",
    "    #print(\"Test accuracy: %.2f%%\" % accuracy)\n",
    "    print('This accuracy includes start end, so it is wrong!')\n",
    "\n",
    "    print(\"Label:\", batch_labels[0].astype(int))    \n",
    "    print(\"Pred.:\", tf_viterbi_sequence[0])"
   ]
  },
  {
   "cell_type": "markdown",
   "metadata": {},
   "source": [
    "# Evaluation"
   ]
  },
  {
   "cell_type": "code",
   "execution_count": 32,
   "metadata": {},
   "outputs": [],
   "source": [
    "from sklearn import metrics"
   ]
  },
  {
   "cell_type": "code",
   "execution_count": 33,
   "metadata": {},
   "outputs": [],
   "source": [
    "preds = []\n",
    "for i in range(len(sequence_length_test)):\n",
    "    preds.extend(tf_viterbi_sequence[i][1:sequence_length_val[i]-1])"
   ]
  },
  {
   "cell_type": "code",
   "execution_count": 34,
   "metadata": {},
   "outputs": [],
   "source": [
    "# Replacing all start and end predictions by 0\n",
    "preds = [x if x < 4 else 0 for x in preds]\n"
   ]
  },
  {
   "cell_type": "code",
   "execution_count": 35,
   "metadata": {},
   "outputs": [
    {
     "data": {
      "text/plain": [
       "0.7489156029247738"
      ]
     },
     "execution_count": 35,
     "metadata": {},
     "output_type": "execute_result"
    }
   ],
   "source": [
    "metrics.accuracy_score(valY_all, preds)"
   ]
  },
  {
   "cell_type": "code",
   "execution_count": 36,
   "metadata": {},
   "outputs": [
    {
     "name": "stdout",
     "output_type": "stream",
     "text": [
      "Counter({0: 3317, 1: 2340, 2: 1604, 3: 808})\n"
     ]
    }
   ],
   "source": [
    "import collections\n",
    "counter=collections.Counter(preds)\n",
    "print(counter)"
   ]
  },
  {
   "cell_type": "code",
   "execution_count": 37,
   "metadata": {},
   "outputs": [
    {
     "name": "stdout",
     "output_type": "stream",
     "text": [
      "             precision    recall  f1-score   support\n",
      "\n",
      "          0       0.76      0.80      0.78      3125\n",
      "          1       0.88      0.91      0.90      2244\n",
      "          2       0.63      0.57      0.60      1775\n",
      "          3       0.57      0.50      0.54       925\n",
      "\n",
      "avg / total       0.74      0.75      0.74      8069\n",
      "\n"
     ]
    }
   ],
   "source": [
    "print(metrics.classification_report(valY_all, preds))"
   ]
  },
  {
   "cell_type": "code",
   "execution_count": 38,
   "metadata": {},
   "outputs": [],
   "source": [
    "cmat = metrics.confusion_matrix(valY_all, preds)"
   ]
  },
  {
   "cell_type": "code",
   "execution_count": 39,
   "metadata": {},
   "outputs": [
    {
     "data": {
      "text/plain": [
       "array([0.80448   , 0.91488414, 0.57014085, 0.50162162])"
      ]
     },
     "execution_count": 39,
     "metadata": {},
     "output_type": "execute_result"
    }
   ],
   "source": [
    "cmat.diagonal()/cmat.sum(axis=1)"
   ]
  },
  {
   "cell_type": "code",
   "execution_count": 40,
   "metadata": {},
   "outputs": [
    {
     "data": {
      "text/plain": [
       "array([[2514,   38,  326,  247],\n",
       "       [  23, 2053,  157,   11],\n",
       "       [ 446,  231, 1012,   86],\n",
       "       [ 334,   18,  109,  464]])"
      ]
     },
     "execution_count": 40,
     "metadata": {},
     "output_type": "execute_result"
    }
   ],
   "source": [
    "cmat"
   ]
  },
  {
   "cell_type": "code",
   "execution_count": 41,
   "metadata": {},
   "outputs": [],
   "source": [
    "import matplotlib.pyplot as plt\n",
    "%matplotlib inline"
   ]
  },
  {
   "cell_type": "code",
   "execution_count": 42,
   "metadata": {},
   "outputs": [],
   "source": [
    "import itertools"
   ]
  },
  {
   "cell_type": "code",
   "execution_count": 43,
   "metadata": {},
   "outputs": [],
   "source": [
    "def plot_confusion_matrix(cm, classes,\n",
    "                          normalize=False,\n",
    "                          title='Confusion matrix',\n",
    "                          cmap=plt.cm.Blues):\n",
    "    \"\"\"\n",
    "    This function prints and plots the confusion matrix.\n",
    "    Normalization can be applied by setting `normalize=True`.\n",
    "    \"\"\"\n",
    "    if normalize:\n",
    "        cm = cm.astype('float') / cm.sum(axis=1)[:, np.newaxis]\n",
    "        print(\"Normalized confusion matrix\")\n",
    "    else:\n",
    "        print('Confusion matrix, without normalization')\n",
    "\n",
    "    print(cm)\n",
    "\n",
    "    plt.imshow(cm, interpolation='nearest', cmap=cmap)\n",
    "    plt.title(title)\n",
    "    plt.colorbar()\n",
    "    tick_marks = np.arange(len(classes))\n",
    "    plt.xticks(tick_marks, classes, rotation=45)\n",
    "    plt.yticks(tick_marks, classes)\n",
    "\n",
    "    fmt = '.2f' if normalize else 'd'\n",
    "    thresh = cm.max() / 2.\n",
    "    for i, j in itertools.product(range(cm.shape[0]), range(cm.shape[1])):\n",
    "        plt.text(j, i, format(cm[i, j], fmt),\n",
    "                 horizontalalignment=\"center\",\n",
    "                 color=\"white\" if cm[i, j] > thresh else \"black\")\n",
    "\n",
    "    plt.tight_layout()\n",
    "    plt.ylabel('True label')\n",
    "    plt.xlabel('Predicted label')"
   ]
  },
  {
   "cell_type": "code",
   "execution_count": 44,
   "metadata": {},
   "outputs": [],
   "source": [
    "classes = ['inform', 'question', 'directive', 'commisive']"
   ]
  },
  {
   "cell_type": "code",
   "execution_count": 45,
   "metadata": {},
   "outputs": [
    {
     "name": "stdout",
     "output_type": "stream",
     "text": [
      "Confusion matrix, without normalization\n",
      "[[2514   38  326  247]\n",
      " [  23 2053  157   11]\n",
      " [ 446  231 1012   86]\n",
      " [ 334   18  109  464]]\n"
     ]
    },
    {
     "data": {
      "image/png": "[encoded data removed]",
      "text/plain": [
       "<Figure size 432x288 with 2 Axes>"
      ]
     },
     "metadata": {},
     "output_type": "display_data"
    }
   ],
   "source": [
    "plot_confusion_matrix(cmat, classes)"
   ]
  },
  {
   "cell_type": "code",
   "execution_count": 46,
   "metadata": {},
   "outputs": [
    {
     "name": "stdout",
     "output_type": "stream",
     "text": [
      "Normalized confusion matrix\n",
      "[[0.80448    0.01216    0.10432    0.07904   ]\n",
      " [0.01024955 0.91488414 0.06996435 0.00490196]\n",
      " [0.25126761 0.13014085 0.57014085 0.0484507 ]\n",
      " [0.36108108 0.01945946 0.11783784 0.50162162]]\n"
     ]
    },
    {
     "data": {
      "image/png": "[encoded data removed]",
      "text/plain": [
       "<Figure size 432x288 with 2 Axes>"
      ]
     },
     "metadata": {},
     "output_type": "display_data"
    }
   ],
   "source": [
    "plot_confusion_matrix(cmat, classes, normalize=True)"
   ]
  },
  {
   "cell_type": "code",
   "execution_count": 47,
   "metadata": {},
   "outputs": [],
   "source": [
    "correctPerClass = {}\n",
    "totalPerClass   = {}\n",
    "for cls in [0, 1, 2, 3]:\n",
    "    correctPerClass[cls] = 0\n",
    "    totalPerClass[cls]   = 0\n",
    "for yt, yp in zip(valY_all, preds):\n",
    "    totalPerClass[yt] += 1\n",
    "    correctPerClass[yt] += int(yt==yp)\n",
    "\n"
   ]
  },
  {
   "cell_type": "code",
   "execution_count": 48,
   "metadata": {},
   "outputs": [
    {
     "data": {
      "text/plain": [
       "{0: 3125, 1: 2244, 2: 1775, 3: 925}"
      ]
     },
     "execution_count": 48,
     "metadata": {},
     "output_type": "execute_result"
    }
   ],
   "source": [
    "totalPerClass"
   ]
  },
  {
   "cell_type": "code",
   "execution_count": 49,
   "metadata": {},
   "outputs": [
    {
     "data": {
      "text/plain": [
       "{0: 2514, 1: 2053, 2: 1012, 3: 464}"
      ]
     },
     "execution_count": 49,
     "metadata": {},
     "output_type": "execute_result"
    }
   ],
   "source": [
    "correctPerClass"
   ]
  },
  {
   "cell_type": "code",
   "execution_count": 50,
   "metadata": {},
   "outputs": [
    {
     "name": "stdout",
     "output_type": "stream",
     "text": [
      "Accuracy for class  0  : 0.80448\n",
      "Accuracy for class  1  : 0.9148841354723708\n",
      "Accuracy for class  2  : 0.5701408450704225\n",
      "Accuracy for class  3  : 0.5016216216216216\n"
     ]
    }
   ],
   "source": [
    "for cls in [0, 1, 2, 3]:\n",
    "    acc = float(correctPerClass[cls])/totalPerClass[cls]\n",
    "    print(\"Accuracy for class \", cls, \" :\", acc)"
   ]
  },
  {
   "cell_type": "markdown",
   "metadata": {
    "collapsed": true
   },
   "source": [
    "# Saving the transition params"
   ]
  },
  {
   "cell_type": "code",
   "execution_count": null,
   "metadata": {
    "collapsed": true
   },
   "outputs": [],
   "source": []
  }
 ],
 "metadata": {
  "kernelspec": {
   "display_name": "Python 2",
   "language": "python",
   "name": "python2"
  },
  "language_info": {
   "codemirror_mode": {
    "name": "ipython",
    "version": 3
   },
   "file_extension": ".py",
   "mimetype": "text/x-python",
   "name": "python",
   "nbconvert_exporter": "python",
   "pygments_lexer": "ipython3",
   "version": "3.5.2"
  }
 },
 "nbformat": 4,
 "nbformat_minor": 2
}
