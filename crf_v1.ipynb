{
 "cells": [
  {
   "cell_type": "code",
   "execution_count": 1,
   "metadata": {},
   "outputs": [],
   "source": [
    "import pandas\n",
    "import numpy as np\n",
    "import tensorflow as tf\n",
    "import os\n",
    "import math\n",
    "import random as rand\n",
    "from random import random"
   ]
  },
  {
   "cell_type": "markdown",
   "metadata": {},
   "source": [
    "# Data Preparation"
   ]
  },
  {
   "cell_type": "code",
   "execution_count": 2,
   "metadata": {},
   "outputs": [],
   "source": [
    "trainDataFile = 'ijcnlp_dailydialog/train/dialogues_train.txt'\n",
    "trainLabelsFile = 'ijcnlp_dailydialog/train/dialogues_act_train.txt' "
   ]
  },
  {
   "cell_type": "code",
   "execution_count": 3,
   "metadata": {},
   "outputs": [],
   "source": [
    "testDataFile = 'ijcnlp_dailydialog/validation/dialogues_validation.txt'\n",
    "testLablesFile = 'ijcnlp_dailydialog/validation/dialogues_act_validation.txt'"
   ]
  },
  {
   "cell_type": "code",
   "execution_count": 4,
   "metadata": {},
   "outputs": [],
   "source": [
    "lineSeparator = '__eou__'"
   ]
  },
  {
   "cell_type": "code",
   "execution_count": 5,
   "metadata": {},
   "outputs": [],
   "source": [
    "def getData(dialogueFile, labelFile):\n",
    "    with open(dialogueFile) as f:\n",
    "        lines = f.readlines() \n",
    "    with open(labelFile) as f:\n",
    "        labels = f.readlines()    \n",
    "    \n",
    "    inputs = []\n",
    "    inputs_all = []\n",
    "    for line in lines:\n",
    "        line = line.rstrip()\n",
    "        line = line.split(lineSeparator)\n",
    "        inputs.append(line[:-1])\n",
    "        inputs_all.extend(line[:-1])\n",
    "    \n",
    "    acts = []\n",
    "    acts_all = []\n",
    "    for label in labels:\n",
    "        label = label.rstrip()\n",
    "        label = label.split()\n",
    "        label = np.array(map(int, label)) - 1\n",
    "        acts.append(label)\n",
    "        acts_all.extend(label)\n",
    "        \n",
    "    return (inputs_all, inputs, acts_all, acts)"
   ]
  },
  {
   "cell_type": "code",
   "execution_count": 6,
   "metadata": {},
   "outputs": [],
   "source": [
    "from sklearn.feature_extraction.text import CountVectorizer, TfidfVectorizer"
   ]
  },
  {
   "cell_type": "code",
   "execution_count": 7,
   "metadata": {},
   "outputs": [],
   "source": [
    "count_vect = CountVectorizer()"
   ]
  },
  {
   "cell_type": "code",
   "execution_count": 8,
   "metadata": {},
   "outputs": [],
   "source": [
    "trainX_all, trainX_data, trainY_all, trainY = getData(trainDataFile, trainLabelsFile)"
   ]
  },
  {
   "cell_type": "code",
   "execution_count": 9,
   "metadata": {},
   "outputs": [],
   "source": [
    "trainX_all = count_vect.fit_transform(trainX_all)"
   ]
  },
  {
   "cell_type": "code",
   "execution_count": 10,
   "metadata": {},
   "outputs": [],
   "source": [
    "trainX = []\n",
    "for i in range(len(trainX_data)):\n",
    "    trainX.append(count_vect.transform(trainX_data[i]))"
   ]
  },
  {
   "cell_type": "code",
   "execution_count": 11,
   "metadata": {},
   "outputs": [],
   "source": [
    "_, valX_data, valY_all, valY = getData(testDataFile, testLablesFile)"
   ]
  },
  {
   "cell_type": "code",
   "execution_count": 12,
   "metadata": {},
   "outputs": [],
   "source": [
    "valX = []\n",
    "for i in range(len(valX_data)):\n",
    "    valX.append(count_vect.transform(valX_data[i]))"
   ]
  },
  {
   "cell_type": "markdown",
   "metadata": {},
   "source": [
    "# Train a classifier"
   ]
  },
  {
   "cell_type": "code",
   "execution_count": 13,
   "metadata": {},
   "outputs": [],
   "source": [
    "# Parameters used.\n",
    "MODEL_PATH = './model_crf_v1.ckpt'"
   ]
  },
  {
   "cell_type": "code",
   "execution_count": 14,
   "metadata": {},
   "outputs": [],
   "source": [
    "def get_sequence_length(x_data):\n",
    "    seq = [];\n",
    "    for i in range(len(x_data)):\n",
    "        seq.append(x_data[i].shape[0])\n",
    "    return seq"
   ]
  },
  {
   "cell_type": "code",
   "execution_count": 15,
   "metadata": {},
   "outputs": [],
   "source": [
    "x_train = trainX\n",
    "y_train = trainY\n",
    "\n",
    "x_test = valX\n",
    "y_test = valY\n",
    "\n",
    "sequence_length_train = get_sequence_length(x_train)\n",
    "sequence_length_test = get_sequence_length(x_test)\n"
   ]
  },
  {
   "cell_type": "code",
   "execution_count": 16,
   "metadata": {},
   "outputs": [],
   "source": [
    "learning_rate = 0.1\n",
    "#training_epochs = 7\n",
    "input_size = (x_train[0].shape)[1]\n",
    "#batch_size = 25\n",
    "#num_units = 128 # the number of units in the LSTM cell\n",
    "number_of_classes = len(set(trainY_all))"
   ]
  },
  {
   "cell_type": "code",
   "execution_count": 17,
   "metadata": {},
   "outputs": [],
   "source": [
    "def pad_data(sentence, max_length, input_size):\n",
    "    sentence = sentence.toarray()\n",
    "    pad_len = max_length - len(sentence)\n",
    "    temp = sentence\n",
    "    if pad_len > 0:\n",
    "        single_pad = np.zeros(input_size)\n",
    "        padding = [single_pad] * pad_len\n",
    "        temp = np.concatenate((sentence, padding))\n",
    "    return temp"
   ]
  },
  {
   "cell_type": "code",
   "execution_count": 18,
   "metadata": {},
   "outputs": [],
   "source": [
    "def pad_label(sentence, max_length):\n",
    "    pad_len = max_length - len(sentence)\n",
    "    padding = np.zeros(pad_len, dtype=int)\n",
    "    return np.concatenate((sentence, padding))"
   ]
  },
  {
   "cell_type": "code",
   "execution_count": 19,
   "metadata": {},
   "outputs": [],
   "source": [
    "def batch(data, labels, sequence_lengths, batch_size, input_size):\n",
    "    n_batch = int(math.ceil(float(len(data)) / (batch_size)))\n",
    "    index = 0\n",
    "    for _ in range(n_batch):\n",
    "        batch_sequence_lengths = np.array(sequence_lengths[index: index + batch_size])\n",
    "        batch_length = np.array(max(batch_sequence_lengths)) # max length in batch\n",
    "        batch_data = np.array([pad_data(x, batch_length, input_size) for x in data[index: index + batch_size]]) # pad data\n",
    "        batch_labels = np.array([pad_label(x, batch_length) for x in labels[index: index + batch_size]]) # pad labels\n",
    "        index += batch_size\n",
    "        \n",
    "        # Reshape input data to be suitable for LSTMs.\n",
    "        batch_data = batch_data.reshape(-1, batch_length, input_size)\n",
    "        \n",
    "        yield batch_data, batch_labels, batch_length, batch_sequence_lengths"
   ]
  },
  {
   "cell_type": "code",
   "execution_count": 20,
   "metadata": {},
   "outputs": [],
   "source": [
    "input_data = tf.placeholder(tf.float32, [None, None, input_size], name=\"input_data\") # shape = (batch, batch_seq_len, input_size)\n",
    "labels = tf.placeholder(tf.int32, shape=[None, None], name=\"labels\") # shape = (batch, sentence)\n",
    "batch_sequence_length = tf.placeholder(tf.int32) # max sequence length in batch\n",
    "original_sequence_lengths = tf.placeholder(tf.int32, [None])\n"
   ]
  },
  {
   "cell_type": "code",
   "execution_count": 21,
   "metadata": {},
   "outputs": [],
   "source": [
    "weights = tf.get_variable(\"weights\", [input_size, number_of_classes])\n",
    "matricized_x_train = tf.reshape(input_data, [-1, input_size])\n",
    "matricized_unary_scores = tf.matmul(matricized_x_train, weights)\n",
    "#matricized_unary_scores = tf.sigmoid(matricized_unary_scores_temp)\n",
    "scores = tf.reshape(matricized_unary_scores, [-1, batch_sequence_length, number_of_classes])\n",
    "#scores = tf.reshape(matricized_unary_scores, [num_examples, num_words, num_tags])\n"
   ]
  },
  {
   "cell_type": "code",
   "execution_count": 22,
   "metadata": {},
   "outputs": [
    {
     "name": "stderr",
     "output_type": "stream",
     "text": [
      "/Users/abhishekjindal/anaconda3/envs/Python27/lib/python2.7/site-packages/tensorflow/python/ops/gradients_impl.py:100: UserWarning: Converting sparse IndexedSlices to a dense Tensor of unknown shape. This may consume a large amount of memory.\n",
      "  \"Converting sparse IndexedSlices to a dense Tensor of unknown shape. \"\n"
     ]
    }
   ],
   "source": [
    "# Linear-CRF.\n",
    "log_likelihood, transition_params = tf.contrib.crf.crf_log_likelihood(scores, labels, original_sequence_lengths)\n",
    "\n",
    "loss = tf.reduce_mean(-log_likelihood)\n",
    "\n",
    "# Compute the viterbi sequence and score (used for prediction and test time).\n",
    "viterbi_sequence, viterbi_score = tf.contrib.crf.crf_decode(scores, transition_params, original_sequence_lengths)\n",
    "\n",
    "# Training ops.\n",
    "optimizer = tf.train.AdamOptimizer(learning_rate)\n",
    "train_op = optimizer.minimize(loss)\n",
    "\n",
    "# Add ops to save and restore all the variables.\n",
    "saver = tf.train.Saver()"
   ]
  },
  {
   "cell_type": "code",
   "execution_count": 45,
   "metadata": {},
   "outputs": [
    {
     "name": "stdout",
     "output_type": "stream",
     "text": [
      "('Epoch: 0', 'Accuracy: 8.98%')\n",
      "('Epoch: 0', 'Accuracy: 57.40%')\n",
      "('Epoch: 0', 'Accuracy: 67.04%')\n",
      "('Epoch: 0', 'Accuracy: 69.14%')\n",
      "('Epoch: 0', 'Accuracy: 70.62%')\n",
      "('Epoch: 0', 'Accuracy: 67.05%')\n",
      "('Epoch: 0', 'Accuracy: 72.22%')\n",
      "('Epoch: 0', 'Accuracy: 71.11%')\n",
      "('Epoch: 0', 'Accuracy: 72.89%')\n",
      "('Epoch: 0', 'Accuracy: 66.46%')\n",
      "('Epoch: 0', 'Accuracy: 63.30%')\n",
      "('Epoch: 0', 'Accuracy: 62.45%')\n",
      "('Epoch: 0', 'Accuracy: 60.40%')\n",
      "('Epoch: 0', 'Accuracy: 62.46%')\n",
      "('Epoch: 0', 'Accuracy: 63.58%')\n",
      "('Epoch: 0', 'Accuracy: 64.69%')\n",
      "('Epoch: 0', 'Accuracy: 67.52%')\n",
      "('Epoch: 0', 'Accuracy: 68.93%')\n",
      "('Epoch: 0', 'Accuracy: 66.42%')\n",
      "('Epoch: 0', 'Accuracy: 67.71%')\n",
      "('Epoch: 0', 'Accuracy: 69.14%')\n",
      "('Epoch: 0', 'Accuracy: 71.08%')\n",
      "('Epoch: 0', 'Accuracy: 66.99%')\n",
      "('Epoch: 1', 'Accuracy: 79.45%')\n",
      "('Epoch: 1', 'Accuracy: 77.49%')\n",
      "('Epoch: 1', 'Accuracy: 79.28%')\n",
      "('Epoch: 1', 'Accuracy: 79.96%')\n",
      "('Epoch: 1', 'Accuracy: 80.05%')\n",
      "('Epoch: 1', 'Accuracy: 78.78%')\n",
      "('Epoch: 1', 'Accuracy: 81.13%')\n",
      "('Epoch: 1', 'Accuracy: 78.93%')\n",
      "('Epoch: 1', 'Accuracy: 79.31%')\n",
      "('Epoch: 1', 'Accuracy: 73.00%')\n",
      "('Epoch: 1', 'Accuracy: 72.54%')\n",
      "('Epoch: 1', 'Accuracy: 74.63%')\n",
      "('Epoch: 1', 'Accuracy: 75.84%')\n",
      "('Epoch: 1', 'Accuracy: 74.08%')\n",
      "('Epoch: 1', 'Accuracy: 73.30%')\n",
      "('Epoch: 1', 'Accuracy: 71.60%')\n",
      "('Epoch: 1', 'Accuracy: 74.51%')\n",
      "('Epoch: 1', 'Accuracy: 74.92%')\n",
      "('Epoch: 1', 'Accuracy: 75.34%')\n",
      "('Epoch: 1', 'Accuracy: 75.68%')\n",
      "('Epoch: 1', 'Accuracy: 76.10%')\n",
      "('Epoch: 1', 'Accuracy: 75.22%')\n",
      "('Epoch: 1', 'Accuracy: 83.06%')\n",
      "('Epoch: 2', 'Accuracy: 83.14%')\n",
      "('Epoch: 2', 'Accuracy: 81.53%')\n",
      "('Epoch: 2', 'Accuracy: 82.69%')\n",
      "('Epoch: 2', 'Accuracy: 81.10%')\n",
      "('Epoch: 2', 'Accuracy: 82.12%')\n",
      "('Epoch: 2', 'Accuracy: 80.49%')\n",
      "('Epoch: 2', 'Accuracy: 82.83%')\n",
      "('Epoch: 2', 'Accuracy: 82.39%')\n",
      "('Epoch: 2', 'Accuracy: 82.39%')\n",
      "('Epoch: 2', 'Accuracy: 78.44%')\n",
      "('Epoch: 2', 'Accuracy: 76.65%')\n",
      "('Epoch: 2', 'Accuracy: 77.58%')\n",
      "('Epoch: 2', 'Accuracy: 77.07%')\n",
      "('Epoch: 2', 'Accuracy: 78.72%')\n",
      "('Epoch: 2', 'Accuracy: 78.36%')\n",
      "('Epoch: 2', 'Accuracy: 75.95%')\n",
      "('Epoch: 2', 'Accuracy: 78.30%')\n",
      "('Epoch: 2', 'Accuracy: 77.73%')\n",
      "('Epoch: 2', 'Accuracy: 76.44%')\n",
      "('Epoch: 2', 'Accuracy: 79.12%')\n",
      "('Epoch: 2', 'Accuracy: 79.67%')\n",
      "('Epoch: 2', 'Accuracy: 79.83%')\n",
      "('Epoch: 2', 'Accuracy: 85.80%')\n",
      "('Epoch: 3', 'Accuracy: 82.51%')\n",
      "('Epoch: 3', 'Accuracy: 81.93%')\n",
      "('Epoch: 3', 'Accuracy: 83.96%')\n",
      "('Epoch: 3', 'Accuracy: 83.03%')\n",
      "('Epoch: 3', 'Accuracy: 82.68%')\n",
      "('Epoch: 3', 'Accuracy: 82.34%')\n",
      "('Epoch: 3', 'Accuracy: 83.58%')\n",
      "('Epoch: 3', 'Accuracy: 83.30%')\n",
      "('Epoch: 3', 'Accuracy: 84.31%')\n",
      "('Epoch: 3', 'Accuracy: 80.62%')\n",
      "('Epoch: 3', 'Accuracy: 79.74%')\n",
      "('Epoch: 3', 'Accuracy: 81.14%')\n",
      "('Epoch: 3', 'Accuracy: 79.61%')\n",
      "('Epoch: 3', 'Accuracy: 81.37%')\n",
      "('Epoch: 3', 'Accuracy: 80.28%')\n",
      "('Epoch: 3', 'Accuracy: 79.50%')\n",
      "('Epoch: 3', 'Accuracy: 81.38%')\n",
      "('Epoch: 3', 'Accuracy: 80.40%')\n",
      "('Epoch: 3', 'Accuracy: 78.87%')\n",
      "('Epoch: 3', 'Accuracy: 79.91%')\n",
      "('Epoch: 3', 'Accuracy: 80.70%')\n",
      "('Epoch: 3', 'Accuracy: 82.30%')\n",
      "('Epoch: 3', 'Accuracy: 89.32%')\n",
      "('Epoch: 4', 'Accuracy: 84.31%')\n",
      "('Epoch: 4', 'Accuracy: 83.17%')\n",
      "('Epoch: 4', 'Accuracy: 83.99%')\n",
      "('Epoch: 4', 'Accuracy: 83.49%')\n",
      "('Epoch: 4', 'Accuracy: 82.01%')\n",
      "('Epoch: 4', 'Accuracy: 82.10%')\n",
      "('Epoch: 4', 'Accuracy: 84.87%')\n",
      "('Epoch: 4', 'Accuracy: 84.32%')\n",
      "('Epoch: 4', 'Accuracy: 84.45%')\n",
      "('Epoch: 4', 'Accuracy: 81.13%')\n",
      "('Epoch: 4', 'Accuracy: 80.88%')\n",
      "('Epoch: 4', 'Accuracy: 82.53%')\n",
      "('Epoch: 4', 'Accuracy: 80.41%')\n",
      "('Epoch: 4', 'Accuracy: 82.07%')\n",
      "('Epoch: 4', 'Accuracy: 81.30%')\n",
      "('Epoch: 4', 'Accuracy: 80.50%')\n",
      "('Epoch: 4', 'Accuracy: 82.23%')\n",
      "('Epoch: 4', 'Accuracy: 82.03%')\n",
      "('Epoch: 4', 'Accuracy: 79.73%')\n",
      "('Epoch: 4', 'Accuracy: 81.55%')\n",
      "('Epoch: 4', 'Accuracy: 82.03%')\n",
      "('Epoch: 4', 'Accuracy: 83.04%')\n",
      "('Epoch: 4', 'Accuracy: 89.42%')\n"
     ]
    }
   ],
   "source": [
    "training_epochs = 5;\n",
    "batch_size = 500\n",
    "with tf.Session() as session:\n",
    "    session.run(tf.global_variables_initializer())\n",
    "    \n",
    "    for i in range(training_epochs):\n",
    "        for batch_data, batch_labels, batch_seq_len, batch_sequence_lengths in batch(x_train, y_train, sequence_length_train, batch_size, input_size):\n",
    "            tf_viterbi_sequence, _ = session.run([viterbi_sequence, train_op], \n",
    "                                                 feed_dict={input_data: batch_data, \n",
    "                                                            labels: batch_labels, \n",
    "                                                            batch_sequence_length: batch_seq_len,\n",
    "                                                            original_sequence_lengths: batch_sequence_lengths })\n",
    "            # Show train accuracy.\n",
    "            if i % 1 == 0:\n",
    "                # Create a mask to fix input lengths.\n",
    "                mask = (np.expand_dims(np.arange(batch_seq_len), axis=0) <\n",
    "                    np.expand_dims(batch_sequence_lengths, axis=1))\n",
    "                total_labels = np.sum(batch_sequence_lengths)\n",
    "                correct_labels = np.sum((batch_labels == tf_viterbi_sequence) * mask)\n",
    "                accuracy = 100.0 * correct_labels / float(total_labels)\n",
    "                print(\"Epoch: %d\" % i, \"Accuracy: %.2f%%\" % accuracy)\n",
    "    \n",
    "    # Save the variables to disk.\n",
    "    saver.save(session, MODEL_PATH)"
   ]
  },
  {
   "cell_type": "code",
   "execution_count": 46,
   "metadata": {},
   "outputs": [
    {
     "name": "stdout",
     "output_type": "stream",
     "text": [
      "INFO:tensorflow:Restoring parameters from ./model_crf_v1.ckpt\n",
      "Test accuracy: 69.10%\n",
      "('Label:', array([1, 0, 2, 1, 0, 1, 0, 0, 0, 0, 0, 0, 0, 0, 0, 0, 0, 0, 0, 0, 0, 0,\n",
      "       0, 0, 0, 0, 0, 0, 0, 0, 0]))\n",
      "('Pred.:', array([2, 3, 2, 1, 0, 1, 0, 0, 0, 0, 0, 0, 0, 0, 0, 0, 0, 0, 0, 0, 0, 0,\n",
      "       0, 0, 0, 0, 0, 0, 0, 0, 0], dtype=int32))\n"
     ]
    }
   ],
   "source": [
    "# Testing the model.\n",
    "with tf.Session() as session:\n",
    "    # Restore variables from disk.\n",
    "    saver.restore(session, MODEL_PATH)\n",
    "    \n",
    "    for batch_data, batch_labels, batch_seq_len, batch_sequence_lengths in batch(x_test, y_test, sequence_length_test, len(x_test), input_size):\n",
    "        tf_viterbi_sequence = session.run(viterbi_sequence, feed_dict={input_data: batch_data, \n",
    "                                                                       labels: batch_labels, \n",
    "                                                                       batch_sequence_length: batch_seq_len,\n",
    "                                                                       original_sequence_lengths: batch_sequence_lengths })\n",
    "    # mask to correct input sizes\n",
    "    mask = (np.expand_dims(np.arange(batch_seq_len), axis=0) <\n",
    "        np.expand_dims(batch_sequence_lengths, axis=1))\n",
    "    total_labels = np.sum(batch_sequence_lengths)\n",
    "    correct_labels = np.sum((batch_labels == tf_viterbi_sequence) * mask)\n",
    "    accuracy = 100.0 * correct_labels / float(total_labels)\n",
    "    print(\"Test accuracy: %.2f%%\" % accuracy)\n",
    "\n",
    "    print(\"Label:\", batch_labels[0].astype(int))    \n",
    "    print(\"Pred.:\", tf_viterbi_sequence[0])"
   ]
  },
  {
   "cell_type": "markdown",
   "metadata": {},
   "source": [
    "# Evaluation"
   ]
  },
  {
   "cell_type": "code",
   "execution_count": 26,
   "metadata": {},
   "outputs": [],
   "source": [
    "from sklearn import metrics"
   ]
  },
  {
   "cell_type": "code",
   "execution_count": 27,
   "metadata": {},
   "outputs": [],
   "source": [
    "preds = []\n",
    "for i in range(len(sequence_length_test)):\n",
    "    preds.extend(tf_viterbi_sequence[i][:sequence_length_test[i]])"
   ]
  },
  {
   "cell_type": "code",
   "execution_count": 28,
   "metadata": {},
   "outputs": [
    {
     "data": {
      "text/plain": [
       "0.684223571694138"
      ]
     },
     "execution_count": 28,
     "metadata": {},
     "output_type": "execute_result"
    }
   ],
   "source": [
    "metrics.accuracy_score(valY_all, preds)"
   ]
  },
  {
   "cell_type": "code",
   "execution_count": 29,
   "metadata": {},
   "outputs": [
    {
     "name": "stdout",
     "output_type": "stream",
     "text": [
      "             precision    recall  f1-score   support\n",
      "\n",
      "          0       0.67      0.77      0.72      3125\n",
      "          1       0.76      0.77      0.76      2244\n",
      "          2       0.66      0.54      0.59      1775\n",
      "          3       0.56      0.45      0.50       925\n",
      "\n",
      "avg / total       0.68      0.68      0.68      8069\n",
      "\n"
     ]
    }
   ],
   "source": [
    "print(metrics.classification_report(valY_all, preds))"
   ]
  },
  {
   "cell_type": "code",
   "execution_count": 30,
   "metadata": {},
   "outputs": [],
   "source": [
    "cmat = metrics.confusion_matrix(valY_all, preds)"
   ]
  },
  {
   "cell_type": "code",
   "execution_count": 31,
   "metadata": {},
   "outputs": [
    {
     "data": {
      "text/plain": [
       "array([0, 0, 0, 0])"
      ]
     },
     "execution_count": 31,
     "metadata": {},
     "output_type": "execute_result"
    }
   ],
   "source": [
    "cmat.diagonal()/cmat.sum(axis=1)"
   ]
  },
  {
   "cell_type": "code",
   "execution_count": 32,
   "metadata": {},
   "outputs": [
    {
     "data": {
      "text/plain": [
       "array([[2418,  245,  271,  191],\n",
       "       [ 324, 1726,  147,   47],\n",
       "       [ 507,  223,  960,   85],\n",
       "       [ 344,   79,   85,  417]])"
      ]
     },
     "execution_count": 32,
     "metadata": {},
     "output_type": "execute_result"
    }
   ],
   "source": [
    "cmat"
   ]
  },
  {
   "cell_type": "code",
   "execution_count": 33,
   "metadata": {},
   "outputs": [],
   "source": [
    "import matplotlib.pyplot as plt\n",
    "%matplotlib inline"
   ]
  },
  {
   "cell_type": "code",
   "execution_count": 34,
   "metadata": {},
   "outputs": [],
   "source": [
    "import itertools"
   ]
  },
  {
   "cell_type": "code",
   "execution_count": 35,
   "metadata": {},
   "outputs": [],
   "source": [
    "def plot_confusion_matrix(cm, classes,\n",
    "                          normalize=False,\n",
    "                          title='Confusion matrix',\n",
    "                          cmap=plt.cm.Blues):\n",
    "    \"\"\"\n",
    "    This function prints and plots the confusion matrix.\n",
    "    Normalization can be applied by setting `normalize=True`.\n",
    "    \"\"\"\n",
    "    if normalize:\n",
    "        cm = cm.astype('float') / cm.sum(axis=1)[:, np.newaxis]\n",
    "        print(\"Normalized confusion matrix\")\n",
    "    else:\n",
    "        print('Confusion matrix, without normalization')\n",
    "\n",
    "    print(cm)\n",
    "\n",
    "    plt.imshow(cm, interpolation='nearest', cmap=cmap)\n",
    "    plt.title(title)\n",
    "    plt.colorbar()\n",
    "    tick_marks = np.arange(len(classes))\n",
    "    plt.xticks(tick_marks, classes, rotation=45)\n",
    "    plt.yticks(tick_marks, classes)\n",
    "\n",
    "    fmt = '.2f' if normalize else 'd'\n",
    "    thresh = cm.max() / 2.\n",
    "    for i, j in itertools.product(range(cm.shape[0]), range(cm.shape[1])):\n",
    "        plt.text(j, i, format(cm[i, j], fmt),\n",
    "                 horizontalalignment=\"center\",\n",
    "                 color=\"white\" if cm[i, j] > thresh else \"black\")\n",
    "\n",
    "    plt.tight_layout()\n",
    "    plt.ylabel('True label')\n",
    "    plt.xlabel('Predicted label')"
   ]
  },
  {
   "cell_type": "code",
   "execution_count": 36,
   "metadata": {},
   "outputs": [],
   "source": [
    "classes = ['inform', 'question', 'directive', 'commisive']"
   ]
  },
  {
   "cell_type": "code",
   "execution_count": 37,
   "metadata": {},
   "outputs": [
    {
     "name": "stdout",
     "output_type": "stream",
     "text": [
      "Confusion matrix, without normalization\n",
      "[[2418  245  271  191]\n",
      " [ 324 1726  147   47]\n",
      " [ 507  223  960   85]\n",
      " [ 344   79   85  417]]\n"
     ]
    },
    {
     "data": {
      "image/png": "[encoded data removed]",
      "text/plain": [
       "<Figure size 432x288 with 2 Axes>"
      ]
     },
     "metadata": {},
     "output_type": "display_data"
    }
   ],
   "source": [
    "plot_confusion_matrix(cmat, classes)"
   ]
  },
  {
   "cell_type": "code",
   "execution_count": 38,
   "metadata": {},
   "outputs": [
    {
     "name": "stdout",
     "output_type": "stream",
     "text": [
      "Normalized confusion matrix\n",
      "[[0.77376    0.0784     0.08672    0.06112   ]\n",
      " [0.14438503 0.76916221 0.06550802 0.02094474]\n",
      " [0.2856338  0.1256338  0.54084507 0.04788732]\n",
      " [0.37189189 0.08540541 0.09189189 0.45081081]]\n"
     ]
    },
    {
     "data": {
      "image/png": "[encoded data removed]",
      "text/plain": [
       "<Figure size 432x288 with 2 Axes>"
      ]
     },
     "metadata": {},
     "output_type": "display_data"
    }
   ],
   "source": [
    "plot_confusion_matrix(cmat, classes, normalize=True)"
   ]
  },
  {
   "cell_type": "code",
   "execution_count": 39,
   "metadata": {},
   "outputs": [],
   "source": [
    "correctPerClass = {}\n",
    "totalPerClass   = {}\n",
    "for cls in [0, 1, 2, 3]:\n",
    "    correctPerClass[cls] = 0\n",
    "    totalPerClass[cls]   = 0\n",
    "for yt, yp in zip(valY_all, preds):\n",
    "    totalPerClass[yt] += 1\n",
    "    correctPerClass[yt] += int(yt==yp)\n",
    "\n"
   ]
  },
  {
   "cell_type": "code",
   "execution_count": 40,
   "metadata": {},
   "outputs": [
    {
     "data": {
      "text/plain": [
       "{0: 3125, 1: 2244, 2: 1775, 3: 925}"
      ]
     },
     "execution_count": 40,
     "metadata": {},
     "output_type": "execute_result"
    }
   ],
   "source": [
    "totalPerClass"
   ]
  },
  {
   "cell_type": "code",
   "execution_count": 41,
   "metadata": {},
   "outputs": [
    {
     "data": {
      "text/plain": [
       "{0: 2418, 1: 1726, 2: 960, 3: 417}"
      ]
     },
     "execution_count": 41,
     "metadata": {},
     "output_type": "execute_result"
    }
   ],
   "source": [
    "correctPerClass"
   ]
  },
  {
   "cell_type": "code",
   "execution_count": 42,
   "metadata": {},
   "outputs": [
    {
     "name": "stdout",
     "output_type": "stream",
     "text": [
      "('Accuracy for class ', 0, ' :', 0.77376)\n",
      "('Accuracy for class ', 1, ' :', 0.7691622103386809)\n",
      "('Accuracy for class ', 2, ' :', 0.5408450704225352)\n",
      "('Accuracy for class ', 3, ' :', 0.4508108108108108)\n"
     ]
    }
   ],
   "source": [
    "for cls in [0, 1, 2, 3]:\n",
    "    acc = float(correctPerClass[cls])/totalPerClass[cls]\n",
    "    print(\"Accuracy for class \", cls, \" :\", acc)"
   ]
  },
  {
   "cell_type": "markdown",
   "metadata": {
    "collapsed": true
   },
   "source": [
    "# Saving the transition params"
   ]
  },
  {
   "cell_type": "code",
   "execution_count": 43,
   "metadata": {},
   "outputs": [],
   "source": [
    "x = tf.Variable([[1.0, 2.0], [3, 1]])\n",
    "\n",
    "init = tf.global_variables_initializer()\n",
    "\n",
    "sess = tf.Session()\n",
    "sess.run(init)\n",
    "v = sess.run(transition_params)    "
   ]
  },
  {
   "cell_type": "code",
   "execution_count": 44,
   "metadata": {},
   "outputs": [],
   "source": [
    "np.savetxt('transition_params_crf_v1.csv', v, delimiter=',')"
   ]
  },
  {
   "cell_type": "code",
   "execution_count": null,
   "metadata": {},
   "outputs": [],
   "source": []
  }
 ],
 "metadata": {
  "kernelspec": {
   "display_name": "Python 2",
   "language": "python",
   "name": "python2"
  },
  "language_info": {
   "codemirror_mode": {
    "name": "ipython",
    "version": 2
   },
   "file_extension": ".py",
   "mimetype": "text/x-python",
   "name": "python",
   "nbconvert_exporter": "python",
   "pygments_lexer": "ipython2",
   "version": "2.7.15"
  }
 },
 "nbformat": 4,
 "nbformat_minor": 2
}
