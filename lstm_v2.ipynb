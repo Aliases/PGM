{
 "cells": [
  {
   "cell_type": "code",
   "execution_count": 1,
   "metadata": {},
   "outputs": [],
   "source": [
    "import pandas\n",
    "import numpy as np\n",
    "import tensorflow as tf\n",
    "import os\n",
    "import math\n",
    "import random as rand\n",
    "from random import random"
   ]
  },
  {
   "cell_type": "markdown",
   "metadata": {},
   "source": [
    "# Data Preparation"
   ]
  },
  {
   "cell_type": "code",
   "execution_count": 2,
   "metadata": {},
   "outputs": [],
   "source": [
    "trainDataFile = 'ijcnlp_dailydialog/train/dialogues_train.txt'\n",
    "trainLabelsFile = 'ijcnlp_dailydialog/train/dialogues_act_train.txt' "
   ]
  },
  {
   "cell_type": "code",
   "execution_count": 3,
   "metadata": {},
   "outputs": [],
   "source": [
    "testDataFile = 'ijcnlp_dailydialog/validation/dialogues_validation.txt'\n",
    "testLablesFile = 'ijcnlp_dailydialog/validation/dialogues_act_validation.txt'"
   ]
  },
  {
   "cell_type": "code",
   "execution_count": 4,
   "metadata": {},
   "outputs": [],
   "source": [
    "lineSeparator = '__eou__'"
   ]
  },
  {
   "cell_type": "code",
   "execution_count": 5,
   "metadata": {},
   "outputs": [],
   "source": [
    "def getData(dialogueFile, labelFile):\n",
    "    with open(dialogueFile) as f:\n",
    "        lines = f.readlines() \n",
    "    with open(labelFile) as f:\n",
    "        labels = f.readlines()    \n",
    "    \n",
    "    inputs = []\n",
    "    inputs_all = []\n",
    "    for line in lines:\n",
    "        line = line.rstrip()\n",
    "        line = line.split(lineSeparator)\n",
    "        inputs.append(line[:-1])\n",
    "        inputs_all.extend(line[:-1])\n",
    "    \n",
    "    acts = []\n",
    "    acts_all = []\n",
    "    for label in labels:\n",
    "        label = label.rstrip()\n",
    "        label = label.split()\n",
    "        label = np.array(map(int, label)) - 1\n",
    "        acts.append(label)\n",
    "        acts_all.extend(label)\n",
    "        \n",
    "    return (inputs_all, inputs, acts_all, acts)"
   ]
  },
  {
   "cell_type": "code",
   "execution_count": 6,
   "metadata": {},
   "outputs": [],
   "source": [
    "trainX_all, trainX_data, trainY_all, trainY = getData(trainDataFile, trainLabelsFile)\n",
    "_, valX_data, valY_all, valY = getData(testDataFile, testLablesFile)"
   ]
  },
  {
   "cell_type": "code",
   "execution_count": 7,
   "metadata": {},
   "outputs": [],
   "source": [
    "from sklearn.feature_extraction.text import CountVectorizer, TfidfVectorizer\n",
    "count_vect = CountVectorizer()\n",
    "trainX_vocab = count_vect.fit(trainX_all)\n",
    "vocab_dict = trainX_vocab.vocabulary_\n",
    "\n",
    "# Might want to create a global vocabulary!!"
   ]
  },
  {
   "cell_type": "code",
   "execution_count": 8,
   "metadata": {},
   "outputs": [],
   "source": [
    "def create_word_embed(vocab_dict, unknown_token, pad_token, embed_size = 300, embed_path = None):\n",
    "    vocab_emb = dict()\n",
    "    key_list = vocab_dict.keys()\n",
    "    if embed_path is not None and os.path.isfile(embed_path):\n",
    "        # Write some code for creating embeddings from trained embeddings\n",
    "        miss_count = 0;\n",
    "        print('Something needs to be done here')\n",
    "        with open(embed_path) as f:\n",
    "            embeddings_index = {}\n",
    "            for line in f:\n",
    "                values = line.split(' ')\n",
    "                word = values[0]\n",
    "                embedding = np.asarray(values[1:], dtype='float32')\n",
    "                embeddings_index[word] = embedding\n",
    "        for i in key_list:\n",
    "            if i in embeddings_index:\n",
    "                vocab_emb[i] = embeddings_index[i]\n",
    "            else:\n",
    "                vocab_emb[i] = np.array(np.random.uniform(-1.0, 1.0, embed_size))\n",
    "                miss_count += 1\n",
    "        print('Missing Embeddings count: ', miss_count)\n",
    "        del embeddings_index\n",
    "    else:\n",
    "        for i in key_list:\n",
    "            vocab_emb[i] = np.array(np.random.uniform(-1.0, 1.0, embed_size))\n",
    "    vocab_emb[unknown_token] = np.array(np.random.uniform(-1.0, 1.0, embed_size))\n",
    "    vocab_emb[pad_token] = np.array(np.random.uniform(-1.0, 1.0, embed_size))\n",
    "    return vocab_emb\n",
    "            "
   ]
  },
  {
   "cell_type": "code",
   "execution_count": 9,
   "metadata": {},
   "outputs": [
    {
     "name": "stdout",
     "output_type": "stream",
     "text": [
      "Something needs to be done here\n",
      "('Missing Embeddings count: ', 482)\n"
     ]
    }
   ],
   "source": [
    "embed_size = 300;\n",
    "pad_token = '<pad>'\n",
    "unknown_token = '<unk>'\n",
    "embed_path = '/Users/abhishekjindal/Downloads/glove.840B.300d.txt'\n",
    "word_emb = create_word_embed(vocab_dict, unknown_token, pad_token, embed_size, embed_path)\n",
    "sent_embed_size = embed_size"
   ]
  },
  {
   "cell_type": "code",
   "execution_count": 10,
   "metadata": {},
   "outputs": [],
   "source": [
    "def create_sentence_embed(sentence, word_emb, embed_size, unknown_token, pad_token, calc_mean = True):\n",
    "    sent_emb = np.zeros(embed_size)\n",
    "    if calc_mean == False:\n",
    "        print('What can I do now!!')\n",
    "    else:\n",
    "        sent_set = set(sentence.lower().split())\n",
    "        unk_index = 0;\n",
    "        count = 0;\n",
    "        for i in sent_set:\n",
    "            if i in word_emb:\n",
    "                sent_emb += word_emb[i]\n",
    "                count += 1\n",
    "            else:\n",
    "                unk_index = 1\n",
    "        if unk_index:\n",
    "            sent_emb += word_emb[unknown_token]\n",
    "        sent_emb = sent_emb / (count + unk_index)\n",
    "    return sent_emb"
   ]
  },
  {
   "cell_type": "markdown",
   "metadata": {},
   "source": [
    "# Train a classifier"
   ]
  },
  {
   "cell_type": "code",
   "execution_count": 11,
   "metadata": {},
   "outputs": [],
   "source": [
    "# Parameters used.\n",
    "MODEL_PATH = './model_lstm_v2.ckpt'"
   ]
  },
  {
   "cell_type": "code",
   "execution_count": 12,
   "metadata": {},
   "outputs": [],
   "source": [
    "def get_sequence_length(x_data):\n",
    "    seq = [];\n",
    "    for i in range(len(x_data)):\n",
    "        seq.append(len(x_data[i]))\n",
    "    return seq"
   ]
  },
  {
   "cell_type": "code",
   "execution_count": 13,
   "metadata": {},
   "outputs": [],
   "source": [
    "x_train = trainX_data\n",
    "y_train = trainY\n",
    "\n",
    "x_test = valX_data\n",
    "y_test = valY\n",
    "\n",
    "sequence_length_train = get_sequence_length(x_train)\n",
    "sequence_length_test = get_sequence_length(x_test)\n"
   ]
  },
  {
   "cell_type": "code",
   "execution_count": 14,
   "metadata": {},
   "outputs": [],
   "source": [
    "learning_rate = 0.05\n",
    "#training_epochs = 7\n",
    "input_size = sent_embed_size\n",
    "#batch_size = 25\n",
    "num_units = 128 # the number of units in the LSTM cell\n",
    "number_of_classes = len(set(trainY_all))"
   ]
  },
  {
   "cell_type": "code",
   "execution_count": 15,
   "metadata": {},
   "outputs": [],
   "source": [
    "def pad_data(sentence, max_length, input_size):\n",
    "    sent_emb = np.array([create_sentence_embed(x, word_emb, embed_size, unknown_token, pad_token, calc_mean = True) for x in sentence])\n",
    "    pad_len = max_length - len(sentence)\n",
    "    temp = sent_emb\n",
    "    if pad_len > 0:\n",
    "        single_pad = np.zeros(input_size)\n",
    "        padding = [single_pad] * pad_len\n",
    "        temp = np.concatenate((sent_emb, padding))\n",
    "    return temp"
   ]
  },
  {
   "cell_type": "code",
   "execution_count": 16,
   "metadata": {},
   "outputs": [],
   "source": [
    "def pad_label(sentence, max_length):\n",
    "    pad_len = max_length - len(sentence)\n",
    "    padding = np.zeros(pad_len, dtype=int)\n",
    "    temp_labels = np.concatenate((sentence, padding))\n",
    "    #print(temp_labels)\n",
    "    #print(type(temp_labels))\n",
    "    batch_labels_one_hot = tf.one_hot(temp_labels, number_of_classes)\n",
    "    with tf.Session() as sess1:\n",
    "        batch_labels_one_hot_final = sess1.run(batch_labels_one_hot)\n",
    "    #print(batch_labels_one_hot)\n",
    "    return batch_labels_one_hot_final"
   ]
  },
  {
   "cell_type": "code",
   "execution_count": 17,
   "metadata": {},
   "outputs": [],
   "source": [
    "def batch(data, labels, sequence_lengths, batch_size, input_size):\n",
    "    n_batch = int(math.ceil(float(len(data)) / (batch_size)))\n",
    "    index = 0\n",
    "    for _ in range(n_batch):\n",
    "        batch_sequence_lengths = np.array(sequence_lengths[index: index + batch_size])\n",
    "        batch_length = np.array(max(batch_sequence_lengths)) # max length in batch\n",
    "        batch_data = np.array([pad_data(x, batch_length, input_size) for x in data[index: index + batch_size]]) # pad data\n",
    "        batch_labels = np.array([pad_label(x, batch_length) for x in labels[index: index + batch_size]]) # pad labels\n",
    "        index += batch_size\n",
    "        \n",
    "        # Reshape input data to be suitable for LSTMs.\n",
    "        batch_data = batch_data.reshape(-1, batch_length, input_size)\n",
    "        \n",
    "        yield batch_data, batch_labels, batch_length, batch_sequence_lengths"
   ]
  },
  {
   "cell_type": "code",
   "execution_count": 18,
   "metadata": {},
   "outputs": [],
   "source": [
    "input_data = tf.placeholder(tf.float32, [None, None, input_size], name=\"input_data\") # shape = (batch, batch_seq_len, input_size)\n",
    "labels = tf.placeholder(tf.int32, shape=[None, None, number_of_classes], name=\"labels\") # shape = (batch, sentence)\n",
    "batch_sequence_length = tf.placeholder(tf.int32) # max sequence length in batch\n",
    "original_sequence_lengths = tf.placeholder(tf.int32, [None])\n"
   ]
  },
  {
   "cell_type": "code",
   "execution_count": 19,
   "metadata": {},
   "outputs": [],
   "source": [
    "# HERE I can insert the Bi-LSTM code as well\n",
    "with tf.name_scope(\"BiLSTM\"):\n",
    "    with tf.variable_scope('forward'):\n",
    "        lstm_fw_cell = tf.nn.rnn_cell.LSTMCell(num_units, forget_bias=1.0, state_is_tuple=True)\n",
    "    with tf.variable_scope('backward'):\n",
    "        lstm_bw_cell = tf.nn.rnn_cell.LSTMCell(num_units, forget_bias=1.0, state_is_tuple=True)\n",
    "    (output_fw, output_bw), states = tf.nn.bidirectional_dynamic_rnn(cell_fw=lstm_fw_cell, \n",
    "                                                                     cell_bw=lstm_bw_cell, \n",
    "                                                                     inputs=input_data,\n",
    "                                                                     sequence_length=original_sequence_lengths, \n",
    "                                                                     dtype=tf.float32,\n",
    "                                                                     scope=\"BiLSTM\")\n",
    "\n",
    "# As we have a Bi-LSTM, we have two outputs which are not connected, so we need to merge them.\n",
    "outputs = tf.concat([output_fw, output_bw], axis=2)\n",
    "\n",
    "# Fully connected layer.\n",
    "W = tf.get_variable(name=\"W\", shape=[2 * num_units, number_of_classes],\n",
    "                dtype=tf.float32)\n",
    "\n",
    "b = tf.get_variable(name=\"b\", shape=[number_of_classes], dtype=tf.float32,\n",
    "                initializer=tf.zeros_initializer())\n",
    "\n",
    "outputs_flat = tf.reshape(outputs, [-1, 2 * num_units])\n",
    "pred = tf.matmul(outputs_flat, W) + b\n",
    "logits = tf.reshape(pred, [-1, batch_sequence_length, number_of_classes])\n"
   ]
  },
  {
   "cell_type": "code",
   "execution_count": 20,
   "metadata": {},
   "outputs": [
    {
     "name": "stdout",
     "output_type": "stream",
     "text": [
      "WARNING:tensorflow:From <ipython-input-20-a8ead035691d>:5: softmax_cross_entropy_with_logits (from tensorflow.python.ops.nn_ops) is deprecated and will be removed in a future version.\n",
      "Instructions for updating:\n",
      "\n",
      "Future major versions of TensorFlow will allow gradients to flow\n",
      "into the labels input on backprop by default.\n",
      "\n",
      "See @{tf.nn.softmax_cross_entropy_with_logits_v2}.\n",
      "\n"
     ]
    }
   ],
   "source": [
    "prediction = tf.nn.softmax(logits)\n",
    "\n",
    "# Define loss and optimizer\n",
    "loss_op = tf.reduce_mean(tf.nn.softmax_cross_entropy_with_logits(\n",
    "    logits=logits, labels=labels))\n",
    "optimizer = tf.train.GradientDescentOptimizer(learning_rate=learning_rate)\n",
    "#optimizer = tf.train.AdamOptimizer(learning_rate=learning_rate)\n",
    "train_op = optimizer.minimize(loss_op)\n",
    "\n",
    "# Evaluate model (with test logits, for dropout to be disabled)\n",
    "correct_pred = tf.equal(tf.argmax(prediction, 1), tf.argmax(labels, 1))\n",
    "accuracy = tf.reduce_mean(tf.cast(correct_pred, tf.float32))\n",
    "\n",
    "# Add ops to save and restore all the variables.\n",
    "saver = tf.train.Saver()\n"
   ]
  },
  {
   "cell_type": "code",
   "execution_count": 21,
   "metadata": {},
   "outputs": [
    {
     "name": "stdout",
     "output_type": "stream",
     "text": [
      "Epoch: 0, Minibatch Loss= 1.4070, Training Accuracy= 0.090\n",
      "Epoch: 0, Minibatch Loss= 1.4204, Training Accuracy= 0.089\n",
      "Epoch: 0, Minibatch Loss= 1.4112, Training Accuracy= 0.083\n",
      "Epoch: 0, Minibatch Loss= 1.4092, Training Accuracy= 0.093\n",
      "Epoch: 0, Minibatch Loss= 1.4191, Training Accuracy= 0.089\n",
      "Epoch: 0, Minibatch Loss= 1.4191, Training Accuracy= 0.072\n",
      "Epoch: 0, Minibatch Loss= 1.4184, Training Accuracy= 0.075\n",
      "Epoch: 0, Minibatch Loss= 1.4194, Training Accuracy= 0.081\n",
      "Epoch: 0, Minibatch Loss= 1.4200, Training Accuracy= 0.075\n",
      "Epoch: 0, Minibatch Loss= 1.4146, Training Accuracy= 0.089\n",
      "Epoch: 0, Minibatch Loss= 1.4207, Training Accuracy= 0.086\n",
      "Epoch: 0, Minibatch Loss= 1.4170, Training Accuracy= 0.078\n",
      "Epoch: 0, Minibatch Loss= 1.4139, Training Accuracy= 0.091\n",
      "Epoch: 0, Minibatch Loss= 1.4078, Training Accuracy= 0.087\n",
      "Epoch: 0, Minibatch Loss= 1.4130, Training Accuracy= 0.069\n",
      "Epoch: 0, Minibatch Loss= 1.4146, Training Accuracy= 0.089\n",
      "Epoch: 0, Minibatch Loss= 1.4164, Training Accuracy= 0.086\n",
      "Epoch: 0, Minibatch Loss= 1.4189, Training Accuracy= 0.066\n",
      "Epoch: 0, Minibatch Loss= 1.4105, Training Accuracy= 0.083\n",
      "Epoch: 0, Minibatch Loss= 1.4095, Training Accuracy= 0.097\n",
      "Epoch: 0, Minibatch Loss= 1.4066, Training Accuracy= 0.066\n",
      "Epoch: 0, Minibatch Loss= 1.4095, Training Accuracy= 0.081\n",
      "Epoch: 0, Minibatch Loss= 1.4153, Training Accuracy= 0.072\n",
      "Epoch: 0, Minibatch Loss= 1.4149, Training Accuracy= 0.080\n",
      "Epoch: 0, Minibatch Loss= 1.4062, Training Accuracy= 0.097\n",
      "Epoch: 0, Minibatch Loss= 1.4058, Training Accuracy= 0.097\n",
      "Epoch: 0, Minibatch Loss= 1.4073, Training Accuracy= 0.090\n",
      "Epoch: 0, Minibatch Loss= 1.4007, Training Accuracy= 0.124\n",
      "Epoch: 0, Minibatch Loss= 1.4062, Training Accuracy= 0.104\n",
      "Epoch: 0, Minibatch Loss= 1.4084, Training Accuracy= 0.101\n",
      "Epoch: 0, Minibatch Loss= 1.4072, Training Accuracy= 0.109\n",
      "Epoch: 0, Minibatch Loss= 1.4008, Training Accuracy= 0.120\n",
      "Epoch: 0, Minibatch Loss= 1.4106, Training Accuracy= 0.094\n",
      "Epoch: 0, Minibatch Loss= 1.4011, Training Accuracy= 0.108\n"
     ]
    },
    {
     "ename": "KeyboardInterrupt",
     "evalue": "",
     "output_type": "error",
     "traceback": [
      "\u001b[0;31m---------------------------------------------------------------------------\u001b[0m",
      "\u001b[0;31mKeyboardInterrupt\u001b[0m                         Traceback (most recent call last)",
      "\u001b[0;32m<ipython-input-21-9cef7d8753d9>\u001b[0m in \u001b[0;36m<module>\u001b[0;34m()\u001b[0m\n\u001b[1;32m      5\u001b[0m \u001b[0;34m\u001b[0m\u001b[0m\n\u001b[1;32m      6\u001b[0m     \u001b[0;32mfor\u001b[0m \u001b[0mi\u001b[0m \u001b[0;32min\u001b[0m \u001b[0mrange\u001b[0m\u001b[0;34m(\u001b[0m\u001b[0mtraining_epochs\u001b[0m\u001b[0;34m)\u001b[0m\u001b[0;34m:\u001b[0m\u001b[0;34m\u001b[0m\u001b[0m\n\u001b[0;32m----> 7\u001b[0;31m         \u001b[0;32mfor\u001b[0m \u001b[0mbatch_data\u001b[0m\u001b[0;34m,\u001b[0m \u001b[0mbatch_labels\u001b[0m\u001b[0;34m,\u001b[0m \u001b[0mbatch_seq_len\u001b[0m\u001b[0;34m,\u001b[0m \u001b[0mbatch_sequence_lengths\u001b[0m \u001b[0;32min\u001b[0m \u001b[0mbatch\u001b[0m\u001b[0;34m(\u001b[0m\u001b[0mx_train\u001b[0m\u001b[0;34m,\u001b[0m \u001b[0my_train\u001b[0m\u001b[0;34m,\u001b[0m \u001b[0msequence_length_train\u001b[0m\u001b[0;34m,\u001b[0m \u001b[0mbatch_size\u001b[0m\u001b[0;34m,\u001b[0m \u001b[0minput_size\u001b[0m\u001b[0;34m)\u001b[0m\u001b[0;34m:\u001b[0m\u001b[0;34m\u001b[0m\u001b[0m\n\u001b[0m\u001b[1;32m      8\u001b[0m             loss, acc = session.run([loss_op, accuracy], \n\u001b[1;32m      9\u001b[0m                                                  feed_dict={input_data: batch_data, \n",
      "\u001b[0;32m<ipython-input-17-185d0bf061df>\u001b[0m in \u001b[0;36mbatch\u001b[0;34m(data, labels, sequence_lengths, batch_size, input_size)\u001b[0m\n\u001b[1;32m      6\u001b[0m         \u001b[0mbatch_length\u001b[0m \u001b[0;34m=\u001b[0m \u001b[0mnp\u001b[0m\u001b[0;34m.\u001b[0m\u001b[0marray\u001b[0m\u001b[0;34m(\u001b[0m\u001b[0mmax\u001b[0m\u001b[0;34m(\u001b[0m\u001b[0mbatch_sequence_lengths\u001b[0m\u001b[0;34m)\u001b[0m\u001b[0;34m)\u001b[0m \u001b[0;31m# max length in batch\u001b[0m\u001b[0;34m\u001b[0m\u001b[0m\n\u001b[1;32m      7\u001b[0m         \u001b[0mbatch_data\u001b[0m \u001b[0;34m=\u001b[0m \u001b[0mnp\u001b[0m\u001b[0;34m.\u001b[0m\u001b[0marray\u001b[0m\u001b[0;34m(\u001b[0m\u001b[0;34m[\u001b[0m\u001b[0mpad_data\u001b[0m\u001b[0;34m(\u001b[0m\u001b[0mx\u001b[0m\u001b[0;34m,\u001b[0m \u001b[0mbatch_length\u001b[0m\u001b[0;34m,\u001b[0m \u001b[0minput_size\u001b[0m\u001b[0;34m)\u001b[0m \u001b[0;32mfor\u001b[0m \u001b[0mx\u001b[0m \u001b[0;32min\u001b[0m \u001b[0mdata\u001b[0m\u001b[0;34m[\u001b[0m\u001b[0mindex\u001b[0m\u001b[0;34m:\u001b[0m \u001b[0mindex\u001b[0m \u001b[0;34m+\u001b[0m \u001b[0mbatch_size\u001b[0m\u001b[0;34m]\u001b[0m\u001b[0;34m]\u001b[0m\u001b[0;34m)\u001b[0m \u001b[0;31m# pad data\u001b[0m\u001b[0;34m\u001b[0m\u001b[0m\n\u001b[0;32m----> 8\u001b[0;31m         \u001b[0mbatch_labels\u001b[0m \u001b[0;34m=\u001b[0m \u001b[0mnp\u001b[0m\u001b[0;34m.\u001b[0m\u001b[0marray\u001b[0m\u001b[0;34m(\u001b[0m\u001b[0;34m[\u001b[0m\u001b[0mpad_label\u001b[0m\u001b[0;34m(\u001b[0m\u001b[0mx\u001b[0m\u001b[0;34m,\u001b[0m \u001b[0mbatch_length\u001b[0m\u001b[0;34m)\u001b[0m \u001b[0;32mfor\u001b[0m \u001b[0mx\u001b[0m \u001b[0;32min\u001b[0m \u001b[0mlabels\u001b[0m\u001b[0;34m[\u001b[0m\u001b[0mindex\u001b[0m\u001b[0;34m:\u001b[0m \u001b[0mindex\u001b[0m \u001b[0;34m+\u001b[0m \u001b[0mbatch_size\u001b[0m\u001b[0;34m]\u001b[0m\u001b[0;34m]\u001b[0m\u001b[0;34m)\u001b[0m \u001b[0;31m# pad labels\u001b[0m\u001b[0;34m\u001b[0m\u001b[0m\n\u001b[0m\u001b[1;32m      9\u001b[0m         \u001b[0mindex\u001b[0m \u001b[0;34m+=\u001b[0m \u001b[0mbatch_size\u001b[0m\u001b[0;34m\u001b[0m\u001b[0m\n\u001b[1;32m     10\u001b[0m \u001b[0;34m\u001b[0m\u001b[0m\n",
      "\u001b[0;32m<ipython-input-16-248ab3d037fa>\u001b[0m in \u001b[0;36mpad_label\u001b[0;34m(sentence, max_length)\u001b[0m\n\u001b[1;32m      7\u001b[0m     \u001b[0mbatch_labels_one_hot\u001b[0m \u001b[0;34m=\u001b[0m \u001b[0mtf\u001b[0m\u001b[0;34m.\u001b[0m\u001b[0mone_hot\u001b[0m\u001b[0;34m(\u001b[0m\u001b[0mtemp_labels\u001b[0m\u001b[0;34m,\u001b[0m \u001b[0mnumber_of_classes\u001b[0m\u001b[0;34m)\u001b[0m\u001b[0;34m\u001b[0m\u001b[0m\n\u001b[1;32m      8\u001b[0m     \u001b[0;32mwith\u001b[0m \u001b[0mtf\u001b[0m\u001b[0;34m.\u001b[0m\u001b[0mSession\u001b[0m\u001b[0;34m(\u001b[0m\u001b[0;34m)\u001b[0m \u001b[0;32mas\u001b[0m \u001b[0msess1\u001b[0m\u001b[0;34m:\u001b[0m\u001b[0;34m\u001b[0m\u001b[0m\n\u001b[0;32m----> 9\u001b[0;31m         \u001b[0mbatch_labels_one_hot_final\u001b[0m \u001b[0;34m=\u001b[0m \u001b[0msess1\u001b[0m\u001b[0;34m.\u001b[0m\u001b[0mrun\u001b[0m\u001b[0;34m(\u001b[0m\u001b[0mbatch_labels_one_hot\u001b[0m\u001b[0;34m)\u001b[0m\u001b[0;34m\u001b[0m\u001b[0m\n\u001b[0m\u001b[1;32m     10\u001b[0m     \u001b[0;31m#print(batch_labels_one_hot)\u001b[0m\u001b[0;34m\u001b[0m\u001b[0;34m\u001b[0m\u001b[0m\n\u001b[1;32m     11\u001b[0m     \u001b[0;32mreturn\u001b[0m \u001b[0mbatch_labels_one_hot_final\u001b[0m\u001b[0;34m\u001b[0m\u001b[0m\n",
      "\u001b[0;32m/Users/abhishekjindal/anaconda3/envs/Python27/lib/python2.7/site-packages/tensorflow/python/client/session.pyc\u001b[0m in \u001b[0;36mrun\u001b[0;34m(self, fetches, feed_dict, options, run_metadata)\u001b[0m\n\u001b[1;32m    898\u001b[0m     \u001b[0;32mtry\u001b[0m\u001b[0;34m:\u001b[0m\u001b[0;34m\u001b[0m\u001b[0m\n\u001b[1;32m    899\u001b[0m       result = self._run(None, fetches, feed_dict, options_ptr,\n\u001b[0;32m--> 900\u001b[0;31m                          run_metadata_ptr)\n\u001b[0m\u001b[1;32m    901\u001b[0m       \u001b[0;32mif\u001b[0m \u001b[0mrun_metadata\u001b[0m\u001b[0;34m:\u001b[0m\u001b[0;34m\u001b[0m\u001b[0m\n\u001b[1;32m    902\u001b[0m         \u001b[0mproto_data\u001b[0m \u001b[0;34m=\u001b[0m \u001b[0mtf_session\u001b[0m\u001b[0;34m.\u001b[0m\u001b[0mTF_GetBuffer\u001b[0m\u001b[0;34m(\u001b[0m\u001b[0mrun_metadata_ptr\u001b[0m\u001b[0;34m)\u001b[0m\u001b[0;34m\u001b[0m\u001b[0m\n",
      "\u001b[0;32m/Users/abhishekjindal/anaconda3/envs/Python27/lib/python2.7/site-packages/tensorflow/python/client/session.pyc\u001b[0m in \u001b[0;36m_run\u001b[0;34m(self, handle, fetches, feed_dict, options, run_metadata)\u001b[0m\n\u001b[1;32m   1133\u001b[0m     \u001b[0;32mif\u001b[0m \u001b[0mfinal_fetches\u001b[0m \u001b[0;32mor\u001b[0m \u001b[0mfinal_targets\u001b[0m \u001b[0;32mor\u001b[0m \u001b[0;34m(\u001b[0m\u001b[0mhandle\u001b[0m \u001b[0;32mand\u001b[0m \u001b[0mfeed_dict_tensor\u001b[0m\u001b[0;34m)\u001b[0m\u001b[0;34m:\u001b[0m\u001b[0;34m\u001b[0m\u001b[0m\n\u001b[1;32m   1134\u001b[0m       results = self._do_run(handle, final_targets, final_fetches,\n\u001b[0;32m-> 1135\u001b[0;31m                              feed_dict_tensor, options, run_metadata)\n\u001b[0m\u001b[1;32m   1136\u001b[0m     \u001b[0;32melse\u001b[0m\u001b[0;34m:\u001b[0m\u001b[0;34m\u001b[0m\u001b[0m\n\u001b[1;32m   1137\u001b[0m       \u001b[0mresults\u001b[0m \u001b[0;34m=\u001b[0m \u001b[0;34m[\u001b[0m\u001b[0;34m]\u001b[0m\u001b[0;34m\u001b[0m\u001b[0m\n",
      "\u001b[0;32m/Users/abhishekjindal/anaconda3/envs/Python27/lib/python2.7/site-packages/tensorflow/python/client/session.pyc\u001b[0m in \u001b[0;36m_do_run\u001b[0;34m(self, handle, target_list, fetch_list, feed_dict, options, run_metadata)\u001b[0m\n\u001b[1;32m   1314\u001b[0m     \u001b[0;32mif\u001b[0m \u001b[0mhandle\u001b[0m \u001b[0;32mis\u001b[0m \u001b[0mNone\u001b[0m\u001b[0;34m:\u001b[0m\u001b[0;34m\u001b[0m\u001b[0m\n\u001b[1;32m   1315\u001b[0m       return self._do_call(_run_fn, feeds, fetches, targets, options,\n\u001b[0;32m-> 1316\u001b[0;31m                            run_metadata)\n\u001b[0m\u001b[1;32m   1317\u001b[0m     \u001b[0;32melse\u001b[0m\u001b[0;34m:\u001b[0m\u001b[0;34m\u001b[0m\u001b[0m\n\u001b[1;32m   1318\u001b[0m       \u001b[0;32mreturn\u001b[0m \u001b[0mself\u001b[0m\u001b[0;34m.\u001b[0m\u001b[0m_do_call\u001b[0m\u001b[0;34m(\u001b[0m\u001b[0m_prun_fn\u001b[0m\u001b[0;34m,\u001b[0m \u001b[0mhandle\u001b[0m\u001b[0;34m,\u001b[0m \u001b[0mfeeds\u001b[0m\u001b[0;34m,\u001b[0m \u001b[0mfetches\u001b[0m\u001b[0;34m)\u001b[0m\u001b[0;34m\u001b[0m\u001b[0m\n",
      "\u001b[0;32m/Users/abhishekjindal/anaconda3/envs/Python27/lib/python2.7/site-packages/tensorflow/python/client/session.pyc\u001b[0m in \u001b[0;36m_do_call\u001b[0;34m(self, fn, *args)\u001b[0m\n\u001b[1;32m   1320\u001b[0m   \u001b[0;32mdef\u001b[0m \u001b[0m_do_call\u001b[0m\u001b[0;34m(\u001b[0m\u001b[0mself\u001b[0m\u001b[0;34m,\u001b[0m \u001b[0mfn\u001b[0m\u001b[0;34m,\u001b[0m \u001b[0;34m*\u001b[0m\u001b[0margs\u001b[0m\u001b[0;34m)\u001b[0m\u001b[0;34m:\u001b[0m\u001b[0;34m\u001b[0m\u001b[0m\n\u001b[1;32m   1321\u001b[0m     \u001b[0;32mtry\u001b[0m\u001b[0;34m:\u001b[0m\u001b[0;34m\u001b[0m\u001b[0m\n\u001b[0;32m-> 1322\u001b[0;31m       \u001b[0;32mreturn\u001b[0m \u001b[0mfn\u001b[0m\u001b[0;34m(\u001b[0m\u001b[0;34m*\u001b[0m\u001b[0margs\u001b[0m\u001b[0;34m)\u001b[0m\u001b[0;34m\u001b[0m\u001b[0m\n\u001b[0m\u001b[1;32m   1323\u001b[0m     \u001b[0;32mexcept\u001b[0m \u001b[0merrors\u001b[0m\u001b[0;34m.\u001b[0m\u001b[0mOpError\u001b[0m \u001b[0;32mas\u001b[0m \u001b[0me\u001b[0m\u001b[0;34m:\u001b[0m\u001b[0;34m\u001b[0m\u001b[0m\n\u001b[1;32m   1324\u001b[0m       \u001b[0mmessage\u001b[0m \u001b[0;34m=\u001b[0m \u001b[0mcompat\u001b[0m\u001b[0;34m.\u001b[0m\u001b[0mas_text\u001b[0m\u001b[0;34m(\u001b[0m\u001b[0me\u001b[0m\u001b[0;34m.\u001b[0m\u001b[0mmessage\u001b[0m\u001b[0;34m)\u001b[0m\u001b[0;34m\u001b[0m\u001b[0m\n",
      "\u001b[0;32m/Users/abhishekjindal/anaconda3/envs/Python27/lib/python2.7/site-packages/tensorflow/python/client/session.pyc\u001b[0m in \u001b[0;36m_run_fn\u001b[0;34m(feed_dict, fetch_list, target_list, options, run_metadata)\u001b[0m\n\u001b[1;32m   1303\u001b[0m     \u001b[0;32mdef\u001b[0m \u001b[0m_run_fn\u001b[0m\u001b[0;34m(\u001b[0m\u001b[0mfeed_dict\u001b[0m\u001b[0;34m,\u001b[0m \u001b[0mfetch_list\u001b[0m\u001b[0;34m,\u001b[0m \u001b[0mtarget_list\u001b[0m\u001b[0;34m,\u001b[0m \u001b[0moptions\u001b[0m\u001b[0;34m,\u001b[0m \u001b[0mrun_metadata\u001b[0m\u001b[0;34m)\u001b[0m\u001b[0;34m:\u001b[0m\u001b[0;34m\u001b[0m\u001b[0m\n\u001b[1;32m   1304\u001b[0m       \u001b[0;31m# Ensure any changes to the graph are reflected in the runtime.\u001b[0m\u001b[0;34m\u001b[0m\u001b[0;34m\u001b[0m\u001b[0m\n\u001b[0;32m-> 1305\u001b[0;31m       \u001b[0mself\u001b[0m\u001b[0;34m.\u001b[0m\u001b[0m_extend_graph\u001b[0m\u001b[0;34m(\u001b[0m\u001b[0;34m)\u001b[0m\u001b[0;34m\u001b[0m\u001b[0m\n\u001b[0m\u001b[1;32m   1306\u001b[0m       return self._call_tf_sessionrun(\n\u001b[1;32m   1307\u001b[0m           options, feed_dict, fetch_list, target_list, run_metadata)\n",
      "\u001b[0;32m/Users/abhishekjindal/anaconda3/envs/Python27/lib/python2.7/site-packages/tensorflow/python/client/session.pyc\u001b[0m in \u001b[0;36m_extend_graph\u001b[0;34m(self)\u001b[0m\n\u001b[1;32m   1338\u001b[0m     \u001b[0;32mif\u001b[0m \u001b[0mself\u001b[0m\u001b[0;34m.\u001b[0m\u001b[0m_created_with_new_api\u001b[0m\u001b[0;34m:\u001b[0m\u001b[0;34m\u001b[0m\u001b[0m\n\u001b[1;32m   1339\u001b[0m       \u001b[0;32mwith\u001b[0m \u001b[0mself\u001b[0m\u001b[0;34m.\u001b[0m\u001b[0m_graph\u001b[0m\u001b[0;34m.\u001b[0m\u001b[0m_lock\u001b[0m\u001b[0;34m:\u001b[0m  \u001b[0;31m# pylint: disable=protected-access\u001b[0m\u001b[0;34m\u001b[0m\u001b[0m\n\u001b[0;32m-> 1340\u001b[0;31m         \u001b[0mtf_session\u001b[0m\u001b[0;34m.\u001b[0m\u001b[0mExtendSession\u001b[0m\u001b[0;34m(\u001b[0m\u001b[0mself\u001b[0m\u001b[0;34m.\u001b[0m\u001b[0m_session\u001b[0m\u001b[0;34m)\u001b[0m\u001b[0;34m\u001b[0m\u001b[0m\n\u001b[0m\u001b[1;32m   1341\u001b[0m     \u001b[0;32melse\u001b[0m\u001b[0;34m:\u001b[0m\u001b[0;34m\u001b[0m\u001b[0m\n\u001b[1;32m   1342\u001b[0m       \u001b[0;31m# Ensure any changes to the graph are reflected in the runtime.\u001b[0m\u001b[0;34m\u001b[0m\u001b[0;34m\u001b[0m\u001b[0m\n",
      "\u001b[0;31mKeyboardInterrupt\u001b[0m: "
     ]
    }
   ],
   "source": [
    "training_epochs = 2;\n",
    "batch_size = 200\n",
    "with tf.Session() as session:\n",
    "    session.run(tf.global_variables_initializer())\n",
    "    \n",
    "    for i in range(training_epochs):\n",
    "        for batch_data, batch_labels, batch_seq_len, batch_sequence_lengths in batch(x_train, y_train, sequence_length_train, batch_size, input_size):\n",
    "            loss, acc = session.run([loss_op, accuracy], \n",
    "                                                 feed_dict={input_data: batch_data, \n",
    "                                                            labels: batch_labels, \n",
    "                                                            batch_sequence_length: batch_seq_len,\n",
    "                                                            original_sequence_lengths: batch_sequence_lengths })\n",
    "            # Show train accuracy.\n",
    "            print(\"Epoch: \" + str(i) + \", Minibatch Loss= \" + \\\n",
    "                  \"{:.4f}\".format(loss) + \", Training Accuracy= \" + \\\n",
    "                  \"{:.3f}\".format(acc))\n",
    "            '''\n",
    "            if i % 1 == 0:\n",
    "                # Create a mask to fix input lengths.\n",
    "                mask = (np.expand_dims(np.arange(batch_seq_len), axis=0) <\n",
    "                    np.expand_dims(batch_sequence_lengths, axis=1))\n",
    "                total_labels = np.sum(batch_sequence_lengths)\n",
    "                correct_labels = np.sum((batch_labels == tf_viterbi_sequence) * mask)\n",
    "                accuracy = 100.0 * correct_labels / float(total_labels)\n",
    "                print(\"Epoch: %d\" % i, \"Accuracy: %.2f%%\" % accuracy)\n",
    "            '''\n",
    "    \n",
    "    # Save the variables to disk.\n",
    "    saver.save(session, MODEL_PATH)"
   ]
  },
  {
   "cell_type": "code",
   "execution_count": 31,
   "metadata": {},
   "outputs": [
    {
     "data": {
      "text/plain": [
       "array(<tf.Tensor 'one_hot_8:0' shape=(1, 4) dtype=float32>, dtype=object)"
      ]
     },
     "execution_count": 31,
     "metadata": {},
     "output_type": "execute_result"
    }
   ],
   "source": [
    "temp_labels = np.array([2, 3, 1, 1, 1, 2,3])\n",
    "type(temp_labels)\n",
    "np.array(tf.one_hot([1], number_of_classes))"
   ]
  },
  {
   "cell_type": "code",
   "execution_count": 34,
   "metadata": {},
   "outputs": [
    {
     "name": "stdout",
     "output_type": "stream",
     "text": [
      "Tensor(\"one_hot_11:0\", shape=(3, 5), dtype=float32)\n",
      "Tensor(\"one_hot_11:0\", shape=(3, 5), dtype=float32)\n"
     ]
    }
   ],
   "source": [
    "indices = [1,2,3]\n",
    "depth = 5\n",
    "v = tf.one_hot(indices, depth) \n",
    "print(v)\n",
    "w = np.array(v)\n",
    "print(w)"
   ]
  },
  {
   "cell_type": "code",
   "execution_count": 36,
   "metadata": {},
   "outputs": [
    {
     "name": "stdout",
     "output_type": "stream",
     "text": [
      "[[1. 0. 0. 0.]\n",
      " [0. 0. 0. 1.]]\n"
     ]
    }
   ],
   "source": [
    "import tensorflow as tf\n",
    "res = tf.one_hot(indices=[0, 3], depth=4)\n",
    "with tf.Session() as sess1:\n",
    "    v = sess.run(res)\n",
    "print(v)"
   ]
  },
  {
   "cell_type": "code",
   "execution_count": 24,
   "metadata": {},
   "outputs": [
    {
     "name": "stdout",
     "output_type": "stream",
     "text": [
      "[[[-0.03742751  0.08843612 -0.2889686  ...  0.21442835  0.0423119\n",
      "    0.38850205]\n",
      "  [-0.11156981  0.03708063 -0.18554644 ...  0.159186    0.19838511\n",
      "    0.32196123]\n",
      "  [-0.20954855  0.13918527 -0.24967363 ...  0.22816665  0.22856815\n",
      "    0.10295513]\n",
      "  ...\n",
      "  [-0.06404824 -0.0133092  -0.03249123 ...  0.21614315  0.28294958\n",
      "   -0.003953  ]\n",
      "  [-0.50251888  0.63503142  0.00186714 ...  0.58018776 -0.08973361\n",
      "    0.14774834]\n",
      "  [-0.16938575 -0.02126129  0.0271724  ... -0.44830713  0.18214843\n",
      "    0.11159546]]\n",
      "\n",
      " [[-0.17717319  0.00963533 -0.15805094 ...  0.26262639  0.41883558\n",
      "    0.35514662]\n",
      "  [-0.05157197 -0.36259094  0.00621779 ... -0.0035587   0.31381123\n",
      "   -0.00151241]\n",
      "  [ 0.34755909  0.07648227  0.03608265 ... -0.15158747  0.23826095\n",
      "    0.37394529]\n",
      "  ...\n",
      "  [ 0.          0.          0.         ...  0.          0.\n",
      "    0.        ]\n",
      "  [ 0.          0.          0.         ...  0.          0.\n",
      "    0.        ]\n",
      "  [ 0.          0.          0.         ...  0.          0.\n",
      "    0.        ]]]\n",
      "[[2 3 1 1 1 2 3 0 2 3]\n",
      " [1 0 1 1 0 0 0 0 0 0]]\n",
      "10\n",
      "[10  6]\n"
     ]
    }
   ],
   "source": [
    "training_epochs = 2;\n",
    "batch_size = 2\n",
    "for batch_data, batch_labels, batch_seq_len, batch_sequence_lengths in batch(x_train, y_train, sequence_length_train, batch_size, input_size):\n",
    "    print(batch_data)\n",
    "    print(batch_labels)\n",
    "    print(batch_seq_len)\n",
    "    print(batch_sequence_lengths)\n",
    "    break;"
   ]
  },
  {
   "cell_type": "code",
   "execution_count": 26,
   "metadata": {},
   "outputs": [
    {
     "name": "stdout",
     "output_type": "stream",
     "text": [
      "(2, 10, 300)\n",
      "(2, 10)\n"
     ]
    }
   ],
   "source": [
    "print(batch_data.shape)\n",
    "print(batch_labels.shape)"
   ]
  },
  {
   "cell_type": "code",
   "execution_count": 49,
   "metadata": {},
   "outputs": [
    {
     "name": "stdout",
     "output_type": "stream",
     "text": [
      "INFO:tensorflow:Restoring parameters from ./model_crf_v2.ckpt\n",
      "Test accuracy: 72.19%\n",
      "('Label:', array([1, 0, 2, 1, 0, 1, 0, 0, 0, 0, 0, 0, 0, 0, 0, 0, 0, 0, 0, 0, 0, 0,\n",
      "       0, 0, 0, 0, 0, 0, 0, 0, 0]))\n",
      "('Pred.:', array([1, 0, 2, 1, 0, 1, 0, 0, 0, 0, 0, 0, 0, 0, 0, 0, 0, 0, 0, 0, 0, 0,\n",
      "       0, 0, 0, 0, 0, 0, 0, 0, 0], dtype=int32))\n"
     ]
    }
   ],
   "source": [
    "# Testing the model.\n",
    "with tf.Session() as session:\n",
    "    # Restore variables from disk.\n",
    "    saver.restore(session, MODEL_PATH)\n",
    "    \n",
    "    for batch_data, batch_labels, batch_seq_len, batch_sequence_lengths in batch(x_test, y_test, sequence_length_test, len(x_test), input_size):\n",
    "        tf_viterbi_sequence = session.run(viterbi_sequence, feed_dict={input_data: batch_data, \n",
    "                                                                       labels: batch_labels, \n",
    "                                                                       batch_sequence_length: batch_seq_len,\n",
    "                                                                       original_sequence_lengths: batch_sequence_lengths })\n",
    "    # mask to correct input sizes\n",
    "    mask = (np.expand_dims(np.arange(batch_seq_len), axis=0) <\n",
    "        np.expand_dims(batch_sequence_lengths, axis=1))\n",
    "    total_labels = np.sum(batch_sequence_lengths)\n",
    "    correct_labels = np.sum((batch_labels == tf_viterbi_sequence) * mask)\n",
    "    accuracy = 100.0 * correct_labels / float(total_labels)\n",
    "    print(\"Test accuracy: %.2f%%\" % accuracy)\n",
    "\n",
    "    print(\"Label:\", batch_labels[0].astype(int))    \n",
    "    print(\"Pred.:\", tf_viterbi_sequence[0])"
   ]
  },
  {
   "cell_type": "markdown",
   "metadata": {},
   "source": [
    "# Evaluation"
   ]
  },
  {
   "cell_type": "code",
   "execution_count": 29,
   "metadata": {},
   "outputs": [],
   "source": [
    "from sklearn import metrics"
   ]
  },
  {
   "cell_type": "code",
   "execution_count": 30,
   "metadata": {},
   "outputs": [],
   "source": [
    "preds = []\n",
    "for i in range(len(sequence_length_test)):\n",
    "    preds.extend(tf_viterbi_sequence[i][:sequence_length_test[i]])"
   ]
  },
  {
   "cell_type": "code",
   "execution_count": 31,
   "metadata": {},
   "outputs": [
    {
     "data": {
      "text/plain": [
       "0.6985995786342794"
      ]
     },
     "execution_count": 31,
     "metadata": {},
     "output_type": "execute_result"
    }
   ],
   "source": [
    "metrics.accuracy_score(valY_all, preds)"
   ]
  },
  {
   "cell_type": "code",
   "execution_count": 32,
   "metadata": {},
   "outputs": [
    {
     "name": "stdout",
     "output_type": "stream",
     "text": [
      "             precision    recall  f1-score   support\n",
      "\n",
      "          0       0.72      0.76      0.74      3125\n",
      "          1       0.75      0.81      0.78      2244\n",
      "          2       0.68      0.55      0.60      1775\n",
      "          3       0.53      0.50      0.51       925\n",
      "\n",
      "avg / total       0.69      0.70      0.69      8069\n",
      "\n"
     ]
    }
   ],
   "source": [
    "print(metrics.classification_report(valY_all, preds))"
   ]
  },
  {
   "cell_type": "code",
   "execution_count": 33,
   "metadata": {},
   "outputs": [],
   "source": [
    "cmat = metrics.confusion_matrix(valY_all, preds)"
   ]
  },
  {
   "cell_type": "code",
   "execution_count": 34,
   "metadata": {},
   "outputs": [
    {
     "data": {
      "text/plain": [
       "array([0, 0, 0, 0])"
      ]
     },
     "execution_count": 34,
     "metadata": {},
     "output_type": "execute_result"
    }
   ],
   "source": [
    "cmat.diagonal()/cmat.sum(axis=1)"
   ]
  },
  {
   "cell_type": "code",
   "execution_count": 35,
   "metadata": {},
   "outputs": [
    {
     "data": {
      "text/plain": [
       "array([[2390,  269,  230,  236],\n",
       "       [ 208, 1819,  159,   58],\n",
       "       [ 425,  265,  970,  115],\n",
       "       [ 318,   73,   76,  458]])"
      ]
     },
     "execution_count": 35,
     "metadata": {},
     "output_type": "execute_result"
    }
   ],
   "source": [
    "cmat"
   ]
  },
  {
   "cell_type": "code",
   "execution_count": 36,
   "metadata": {},
   "outputs": [],
   "source": [
    "import matplotlib.pyplot as plt\n",
    "%matplotlib inline"
   ]
  },
  {
   "cell_type": "code",
   "execution_count": 37,
   "metadata": {},
   "outputs": [],
   "source": [
    "import itertools"
   ]
  },
  {
   "cell_type": "code",
   "execution_count": 38,
   "metadata": {},
   "outputs": [],
   "source": [
    "def plot_confusion_matrix(cm, classes,\n",
    "                          normalize=False,\n",
    "                          title='Confusion matrix',\n",
    "                          cmap=plt.cm.Blues):\n",
    "    \"\"\"\n",
    "    This function prints and plots the confusion matrix.\n",
    "    Normalization can be applied by setting `normalize=True`.\n",
    "    \"\"\"\n",
    "    if normalize:\n",
    "        cm = cm.astype('float') / cm.sum(axis=1)[:, np.newaxis]\n",
    "        print(\"Normalized confusion matrix\")\n",
    "    else:\n",
    "        print('Confusion matrix, without normalization')\n",
    "\n",
    "    print(cm)\n",
    "\n",
    "    plt.imshow(cm, interpolation='nearest', cmap=cmap)\n",
    "    plt.title(title)\n",
    "    plt.colorbar()\n",
    "    tick_marks = np.arange(len(classes))\n",
    "    plt.xticks(tick_marks, classes, rotation=45)\n",
    "    plt.yticks(tick_marks, classes)\n",
    "\n",
    "    fmt = '.2f' if normalize else 'd'\n",
    "    thresh = cm.max() / 2.\n",
    "    for i, j in itertools.product(range(cm.shape[0]), range(cm.shape[1])):\n",
    "        plt.text(j, i, format(cm[i, j], fmt),\n",
    "                 horizontalalignment=\"center\",\n",
    "                 color=\"white\" if cm[i, j] > thresh else \"black\")\n",
    "\n",
    "    plt.tight_layout()\n",
    "    plt.ylabel('True label')\n",
    "    plt.xlabel('Predicted label')"
   ]
  },
  {
   "cell_type": "code",
   "execution_count": 39,
   "metadata": {},
   "outputs": [],
   "source": [
    "classes = ['inform', 'question', 'directive', 'commisive']"
   ]
  },
  {
   "cell_type": "code",
   "execution_count": 40,
   "metadata": {},
   "outputs": [
    {
     "name": "stdout",
     "output_type": "stream",
     "text": [
      "Confusion matrix, without normalization\n",
      "[[2390  269  230  236]\n",
      " [ 208 1819  159   58]\n",
      " [ 425  265  970  115]\n",
      " [ 318   73   76  458]]\n"
     ]
    },
    {
     "data": {
      "image/png": "[encoded data removed]",
      "text/plain": [
       "<Figure size 432x288 with 2 Axes>"
      ]
     },
     "metadata": {},
     "output_type": "display_data"
    }
   ],
   "source": [
    "plot_confusion_matrix(cmat, classes)"
   ]
  },
  {
   "cell_type": "code",
   "execution_count": 41,
   "metadata": {},
   "outputs": [
    {
     "name": "stdout",
     "output_type": "stream",
     "text": [
      "Normalized confusion matrix\n",
      "[[0.7648     0.08608    0.0736     0.07552   ]\n",
      " [0.09269162 0.81060606 0.07085561 0.0258467 ]\n",
      " [0.23943662 0.14929577 0.54647887 0.06478873]\n",
      " [0.34378378 0.07891892 0.08216216 0.49513514]]\n"
     ]
    },
    {
     "data": {
      "image/png": "[encoded data removed]",
      "text/plain": [
       "<Figure size 432x288 with 2 Axes>"
      ]
     },
     "metadata": {},
     "output_type": "display_data"
    }
   ],
   "source": [
    "plot_confusion_matrix(cmat, classes, normalize=True)"
   ]
  },
  {
   "cell_type": "code",
   "execution_count": 42,
   "metadata": {},
   "outputs": [],
   "source": [
    "correctPerClass = {}\n",
    "totalPerClass   = {}\n",
    "for cls in [0, 1, 2, 3]:\n",
    "    correctPerClass[cls] = 0\n",
    "    totalPerClass[cls]   = 0\n",
    "for yt, yp in zip(valY_all, preds):\n",
    "    totalPerClass[yt] += 1\n",
    "    correctPerClass[yt] += int(yt==yp)\n",
    "\n"
   ]
  },
  {
   "cell_type": "code",
   "execution_count": 43,
   "metadata": {},
   "outputs": [
    {
     "data": {
      "text/plain": [
       "{0: 3125, 1: 2244, 2: 1775, 3: 925}"
      ]
     },
     "execution_count": 43,
     "metadata": {},
     "output_type": "execute_result"
    }
   ],
   "source": [
    "totalPerClass"
   ]
  },
  {
   "cell_type": "code",
   "execution_count": 44,
   "metadata": {},
   "outputs": [
    {
     "data": {
      "text/plain": [
       "{0: 2390, 1: 1819, 2: 970, 3: 458}"
      ]
     },
     "execution_count": 44,
     "metadata": {},
     "output_type": "execute_result"
    }
   ],
   "source": [
    "correctPerClass"
   ]
  },
  {
   "cell_type": "code",
   "execution_count": 45,
   "metadata": {},
   "outputs": [
    {
     "name": "stdout",
     "output_type": "stream",
     "text": [
      "('Accuracy for class ', 0, ' :', 0.7648)\n",
      "('Accuracy for class ', 1, ' :', 0.8106060606060606)\n",
      "('Accuracy for class ', 2, ' :', 0.5464788732394367)\n",
      "('Accuracy for class ', 3, ' :', 0.49513513513513513)\n"
     ]
    }
   ],
   "source": [
    "for cls in [0, 1, 2, 3]:\n",
    "    acc = float(correctPerClass[cls])/totalPerClass[cls]\n",
    "    print(\"Accuracy for class \", cls, \" :\", acc)"
   ]
  },
  {
   "cell_type": "markdown",
   "metadata": {
    "collapsed": true
   },
   "source": [
    "# Saving the transition params"
   ]
  },
  {
   "cell_type": "code",
   "execution_count": 46,
   "metadata": {},
   "outputs": [],
   "source": [
    "x = tf.Variable([[1.0, 2.0], [3, 1]])\n",
    "\n",
    "init = tf.global_variables_initializer()\n",
    "\n",
    "sess = tf.Session()\n",
    "sess.run(init)\n",
    "v = sess.run(transition_params)    "
   ]
  },
  {
   "cell_type": "code",
   "execution_count": 47,
   "metadata": {},
   "outputs": [],
   "source": [
    "np.savetxt('transition_params_crf_v3.csv', v, delimiter=',')"
   ]
  },
  {
   "cell_type": "code",
   "execution_count": null,
   "metadata": {},
   "outputs": [],
   "source": []
  }
 ],
 "metadata": {
  "kernelspec": {
   "display_name": "Python 2",
   "language": "python",
   "name": "python2"
  },
  "language_info": {
   "codemirror_mode": {
    "name": "ipython",
    "version": 2
   },
   "file_extension": ".py",
   "mimetype": "text/x-python",
   "name": "python",
   "nbconvert_exporter": "python",
   "pygments_lexer": "ipython2",
   "version": "2.7.15"
  }
 },
 "nbformat": 4,
 "nbformat_minor": 2
}
