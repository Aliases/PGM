{
 "cells": [
  {
   "cell_type": "code",
   "execution_count": 1,
   "metadata": {},
   "outputs": [
    {
     "name": "stderr",
     "output_type": "stream",
     "text": [
      "/usr/local/lib/python3.5/dist-packages/h5py/__init__.py:36: FutureWarning: Conversion of the second argument of issubdtype from `float` to `np.floating` is deprecated. In future, it will be treated as `np.float64 == np.dtype(float).type`.\n",
      "  from ._conv import register_converters as _register_converters\n"
     ]
    }
   ],
   "source": [
    "import pandas\n",
    "import numpy as np\n",
    "import tensorflow as tf\n",
    "import os\n",
    "import math\n",
    "import random as rand\n",
    "from random import random"
   ]
  },
  {
   "cell_type": "markdown",
   "metadata": {},
   "source": [
    "# Data Preparation"
   ]
  },
  {
   "cell_type": "code",
   "execution_count": 2,
   "metadata": {},
   "outputs": [],
   "source": [
    "trainDataFile = 'ijcnlp_dailydialog/train/dialogues_train.txt'\n",
    "trainLabelsFile = 'ijcnlp_dailydialog/train/dialogues_act_train.txt' "
   ]
  },
  {
   "cell_type": "code",
   "execution_count": 3,
   "metadata": {},
   "outputs": [],
   "source": [
    "valDataFile = 'ijcnlp_dailydialog/validation/dialogues_validation.txt'\n",
    "valLablesFile = 'ijcnlp_dailydialog/validation/dialogues_act_validation.txt'"
   ]
  },
  {
   "cell_type": "code",
   "execution_count": 4,
   "metadata": {},
   "outputs": [],
   "source": [
    "testDataFile = 'ijcnlp_dailydialog/test/dialogues_test.txt'\n",
    "testLablesFile = 'ijcnlp_dailydialog/test/dialogues_act_test.txt'"
   ]
  },
  {
   "cell_type": "code",
   "execution_count": 5,
   "metadata": {},
   "outputs": [],
   "source": [
    "lineSeparator = '__eou__'"
   ]
  },
  {
   "cell_type": "code",
   "execution_count": 6,
   "metadata": {},
   "outputs": [],
   "source": [
    "def getData(dialogueFile, labelFile):\n",
    "    with open(dialogueFile) as f:\n",
    "        lines = f.readlines() \n",
    "    with open(labelFile) as f:\n",
    "        labels = f.readlines()    \n",
    "    \n",
    "    inputs = []\n",
    "    inputs_all = []\n",
    "    for line in lines:\n",
    "        line = line.rstrip()\n",
    "        line = line.split(lineSeparator)\n",
    "        inputs.append(line[:-1])\n",
    "        inputs_all.extend(line[:-1])\n",
    "    \n",
    "    acts = []\n",
    "    acts_all = []\n",
    "    for label in labels:\n",
    "        label = label.rstrip()\n",
    "        label = label.split()\n",
    "        \n",
    "        label = np.array(list(map(int, label))) - 1\n",
    "        acts.append(label)\n",
    "        acts_all.extend(label)\n",
    "        \n",
    "    return (inputs_all, inputs, acts_all, acts)"
   ]
  },
  {
   "cell_type": "code",
   "execution_count": 7,
   "metadata": {},
   "outputs": [],
   "source": [
    "trainX_all, trainX_data, trainY_all, trainY = getData(trainDataFile, trainLabelsFile)\n",
    "valX_all, valX_data, valY_all, valY = getData(valDataFile, valLablesFile)\n",
    "testX_all, testX_data, testY_all, testY = getData(testDataFile, testLablesFile)"
   ]
  },
  {
   "cell_type": "code",
   "execution_count": 8,
   "metadata": {},
   "outputs": [],
   "source": [
    "train_dialogues = len(trainX_all)\n",
    "val_dialogues = len(valX_all)\n",
    "test_dialogues = len(testX_all)\n",
    "fullData_temp = trainX_all + valX_all + testX_all"
   ]
  },
  {
   "cell_type": "code",
   "execution_count": 9,
   "metadata": {},
   "outputs": [],
   "source": [
    "embed_size = 300;\n",
    "pad_token = '<pad>'\n",
    "unknown_token = '<unk>'\n",
    "embed_path = '/home/abhishekjindal/nlp/data/glove.840B.300d.txt'"
   ]
  },
  {
   "cell_type": "code",
   "execution_count": 10,
   "metadata": {},
   "outputs": [],
   "source": [
    "%matplotlib inline\n",
    "\n",
    "from random import randint\n",
    "import matplotlib\n",
    "\n",
    "import numpy as np\n",
    "import torch\n",
    "\n",
    "torch.nn.Module.dump_patches = True"
   ]
  },
  {
   "cell_type": "code",
   "execution_count": 11,
   "metadata": {},
   "outputs": [
    {
     "name": "stderr",
     "output_type": "stream",
     "text": [
      "/usr/local/lib/python3.5/dist-packages/torch/serialization.py:316: SourceChangeWarning: source code of class 'models.BLSTMEncoder' has changed. Saved a reverse patch to BLSTMEncoder.patch. Run `patch -p0 < BLSTMEncoder.patch` to revert your changes.\n",
      "  warnings.warn(msg, SourceChangeWarning)\n",
      "/usr/local/lib/python3.5/dist-packages/torch/serialization.py:316: SourceChangeWarning: source code of class 'torch.nn.modules.rnn.LSTM' has changed. Saved a reverse patch to LSTM.patch. Run `patch -p0 < LSTM.patch` to revert your changes.\n",
      "  warnings.warn(msg, SourceChangeWarning)\n"
     ]
    }
   ],
   "source": [
    "# sentEmbedModel = torch.load('encoder/infersent.allnli.pickle', map_location=lambda storage, loc: storage)\n",
    "\n",
    "sentEmbedModel = torch.load('encoder/infersent.allnli.pickle')\n",
    "sentEmbedModel = sentEmbedModel.cuda()"
   ]
  },
  {
   "cell_type": "code",
   "execution_count": 12,
   "metadata": {},
   "outputs": [
    {
     "data": {
      "text/plain": [
       "True"
      ]
     },
     "execution_count": 12,
     "metadata": {},
     "output_type": "execute_result"
    }
   ],
   "source": [
    "sentEmbedModel.is_cuda()"
   ]
  },
  {
   "cell_type": "code",
   "execution_count": 13,
   "metadata": {},
   "outputs": [],
   "source": [
    "sentEmbedModel.set_glove_path(embed_path)"
   ]
  },
  {
   "cell_type": "code",
   "execution_count": 17,
   "metadata": {},
   "outputs": [
    {
     "name": "stdout",
     "output_type": "stream",
     "text": [
      "Found 23332(/26376) words with glove vectors\n",
      "Vocab size : 23332\n",
      "CPU times: user 28.4 s, sys: 1.59 s, total: 30 s\n",
      "Wall time: 30 s\n"
     ]
    }
   ],
   "source": [
    "%%time\n",
    "sentEmbedModel.build_vocab(fullData_temp, tokenize=True)\n",
    "#sentEmbedModel.build_vocab_k_words(K=100000)"
   ]
  },
  {
   "cell_type": "code",
   "execution_count": 18,
   "metadata": {},
   "outputs": [
    {
     "name": "stdout",
     "output_type": "stream",
     "text": [
      "CPU times: user 42.9 s, sys: 22.5 s, total: 1min 5s\n",
      "Wall time: 1min 5s\n"
     ]
    }
   ],
   "source": [
    "%%time\n",
    "final_emb = sentEmbedModel.encode(fullData_temp, bsize=128, tokenize=False, verbose=False)"
   ]
  },
  {
   "cell_type": "code",
   "execution_count": 19,
   "metadata": {},
   "outputs": [
    {
     "data": {
      "text/plain": [
       "(102979, 4096)"
      ]
     },
     "execution_count": 19,
     "metadata": {},
     "output_type": "execute_result"
    }
   ],
   "source": [
    "final_emb.shape"
   ]
  },
  {
   "cell_type": "code",
   "execution_count": 20,
   "metadata": {},
   "outputs": [
    {
     "name": "stdout",
     "output_type": "stream",
     "text": [
      "102979\n"
     ]
    }
   ],
   "source": [
    "curr_count = 0\n",
    "train_emb_data = final_emb[curr_count:(curr_count+train_dialogues)]\n",
    "curr_count += train_dialogues\n",
    "val_emb_data = final_emb[curr_count:(curr_count+val_dialogues)]\n",
    "curr_count += val_dialogues\n",
    "test_emb_data = final_emb[curr_count:(curr_count+test_dialogues)]\n",
    "print(curr_count+test_dialogues)"
   ]
  },
  {
   "cell_type": "markdown",
   "metadata": {},
   "source": [
    "# Train a classifier"
   ]
  },
  {
   "cell_type": "code",
   "execution_count": 21,
   "metadata": {},
   "outputs": [],
   "source": [
    "# Parameters used.\n",
    "MODEL_PATH = './model_crf_v6.ckpt'"
   ]
  },
  {
   "cell_type": "code",
   "execution_count": 22,
   "metadata": {},
   "outputs": [],
   "source": [
    "def get_sequence_length(x_data):\n",
    "    seq = [];\n",
    "    for i in range(len(x_data)):\n",
    "        seq.append(len(x_data[i]))\n",
    "    return seq"
   ]
  },
  {
   "cell_type": "code",
   "execution_count": 23,
   "metadata": {},
   "outputs": [],
   "source": [
    "def create_embedding_conversation_data(complete_emb, seq_len):\n",
    "    curr_count = 0;\n",
    "    final_data = [];\n",
    "    #print(complete_emb[0:2])\n",
    "    for i in range(len(seq_len)):\n",
    "        \n",
    "        emb_temp = complete_emb[curr_count:(curr_count+seq_len[i])]\n",
    "        final_data.append(emb_temp)\n",
    "        curr_count += seq_len[i]\n",
    "    return final_data"
   ]
  },
  {
   "cell_type": "code",
   "execution_count": 24,
   "metadata": {},
   "outputs": [],
   "source": [
    "\n",
    "sequence_length_train = get_sequence_length(trainX_data)\n",
    "sequence_length_val = get_sequence_length(valX_data)\n",
    "sequence_length_test = get_sequence_length(testX_data)\n",
    "\n",
    "x_train = create_embedding_conversation_data(train_emb_data, sequence_length_train)\n",
    "x_val = create_embedding_conversation_data(val_emb_data, sequence_length_val)\n",
    "x_test = create_embedding_conversation_data(test_emb_data, sequence_length_test)\n",
    "\n",
    "y_train = trainY\n",
    "y_val = valY\n",
    "y_test = testY\n"
   ]
  },
  {
   "cell_type": "code",
   "execution_count": 25,
   "metadata": {},
   "outputs": [],
   "source": [
    "learning_rate = 0.05\n",
    "#training_epochs = 7\n",
    "input_size = 4096 #sent_embed_size\n",
    "#batch_size = 25\n",
    "#num_units = 128 # the number of units in the LSTM cell\n",
    "number_of_classes = len(set(trainY_all))"
   ]
  },
  {
   "cell_type": "code",
   "execution_count": 26,
   "metadata": {},
   "outputs": [],
   "source": [
    "def pad_label(sentence, max_length):\n",
    "    pad_len = max_length - len(sentence)\n",
    "    padding = np.zeros(pad_len, dtype=int)\n",
    "    return np.concatenate((sentence, padding))"
   ]
  },
  {
   "cell_type": "code",
   "execution_count": 27,
   "metadata": {},
   "outputs": [],
   "source": [
    "input_data = tf.placeholder(tf.float32, [None, None, input_size], name=\"input_data\") # shape = (batch, batch_seq_len, input_size)\n",
    "labels = tf.placeholder(tf.int32, shape=[None, None], name=\"labels\") # shape = (batch, sentence)\n",
    "batch_sequence_length = tf.placeholder(tf.int32) # max sequence length in batch\n",
    "original_sequence_lengths = tf.placeholder(tf.int32, [None])\n"
   ]
  },
  {
   "cell_type": "code",
   "execution_count": 28,
   "metadata": {},
   "outputs": [],
   "source": [
    "weights = tf.get_variable(\"weights\", [input_size, number_of_classes])\n",
    "matricized_x_train = tf.reshape(input_data, [-1, input_size])\n",
    "matricized_unary_scores = tf.matmul(matricized_x_train, weights)\n",
    "#matricized_unary_scores = tf.sigmoid(matricized_unary_scores_temp)\n",
    "scores = tf.reshape(matricized_unary_scores, [-1, batch_sequence_length, number_of_classes])\n",
    "#scores = tf.reshape(matricized_unary_scores, [num_examples, num_words, num_tags])\n"
   ]
  },
  {
   "cell_type": "code",
   "execution_count": 29,
   "metadata": {},
   "outputs": [
    {
     "name": "stderr",
     "output_type": "stream",
     "text": [
      "/usr/local/lib/python3.5/dist-packages/tensorflow/python/ops/gradients_impl.py:97: UserWarning: Converting sparse IndexedSlices to a dense Tensor of unknown shape. This may consume a large amount of memory.\n",
      "  \"Converting sparse IndexedSlices to a dense Tensor of unknown shape. \"\n"
     ]
    }
   ],
   "source": [
    "# Linear-CRF.\n",
    "log_likelihood, transition_params = tf.contrib.crf.crf_log_likelihood(scores, labels, original_sequence_lengths)\n",
    "\n",
    "loss = tf.reduce_mean(-log_likelihood)\n",
    "\n",
    "# Compute the viterbi sequence and score (used for prediction and test time).\n",
    "viterbi_sequence, viterbi_score = tf.contrib.crf.crf_decode(scores, transition_params, original_sequence_lengths)\n",
    "\n",
    "# Training ops.\n",
    "optimizer = tf.train.AdamOptimizer(learning_rate)\n",
    "train_op = optimizer.minimize(loss)\n",
    "\n",
    "# Add ops to save and restore all the variables.\n",
    "saver = tf.train.Saver()"
   ]
  },
  {
   "cell_type": "code",
   "execution_count": 30,
   "metadata": {},
   "outputs": [],
   "source": [
    "def pad_data(sentence, max_length, input_size):\n",
    "#     sent_emb = np.array([create_sentence_embed(x, word_emb, embed_size, unknown_token, pad_token, calc_mean = True) for x in sentence])\n",
    "    #sent_emb = np.array([create_sentence_embed_facebook(x) for x in sentence])\n",
    "    pad_len = max_length - len(sentence)\n",
    "    temp = sentence\n",
    "    if pad_len > 0:\n",
    "        single_pad = np.zeros(input_size)\n",
    "        padding = [single_pad] * pad_len\n",
    "#         print(pad_len)\n",
    "#         print(len(sent_emb), len(padding))\n",
    "#         print(type(sent_emb), type(padding))\n",
    "#         print(sent_emb.shape)\n",
    "        #sent_emb = sent_emb.squeeze()\n",
    "        temp = np.concatenate((temp, padding))\n",
    "    return temp"
   ]
  },
  {
   "cell_type": "code",
   "execution_count": 31,
   "metadata": {},
   "outputs": [],
   "source": [
    "def batch(data, labels, sequence_lengths, batch_size, input_size):\n",
    "    n_batch = int(math.ceil(float(len(data)) / (batch_size)))\n",
    "    index = 0\n",
    "    for _ in range(n_batch):\n",
    "#         print(_)\n",
    "        batch_sequence_lengths = np.array(sequence_lengths[index: index + batch_size])\n",
    "#         print(batch_sequence_lengths)\n",
    "        batch_length = np.array(max(batch_sequence_lengths)) # max length in batch\n",
    "#         print(batch_length)\n",
    "#         for x in data[index: index + batch_size]:\n",
    "#             xx = pad_data(x, batch_length, input_size)\n",
    "#             print(xx.shape)\n",
    "        batch_data = np.array([pad_data(x, batch_length, input_size).squeeze() for x in data[index: index + batch_size]]) # pad data\n",
    "        batch_labels = np.array([pad_label(x, batch_length) for x in labels[index: index + batch_size]]) # pad labels\n",
    "        index += batch_size\n",
    "        \n",
    "        # Reshape input data to be suitable for LSTMs.\n",
    "        batch_data = batch_data.reshape(-1, batch_length, input_size)\n",
    "        \n",
    "        yield batch_data, batch_labels, batch_length, batch_sequence_lengths"
   ]
  },
  {
   "cell_type": "code",
   "execution_count": 53,
   "metadata": {},
   "outputs": [
    {
     "name": "stdout",
     "output_type": "stream",
     "text": [
      "Epoch: 0 Accuracy: 9.21%\n",
      "Epoch: 0 Accuracy: 59.23%\n",
      "Epoch: 0 Accuracy: 64.89%\n",
      "Epoch: 0 Accuracy: 62.60%\n",
      "Epoch: 0 Accuracy: 76.07%\n",
      "Epoch: 0 Accuracy: 70.40%\n",
      "Epoch: 0 Accuracy: 37.67%\n",
      "Epoch: 0 Accuracy: 50.02%\n",
      "Epoch: 0 Accuracy: 60.86%\n",
      "Epoch: 0 Accuracy: 60.96%\n",
      "Epoch: 0 Accuracy: 59.71%\n",
      "Epoch: 0 Accuracy: 46.19%\n",
      "Epoch: 0 Accuracy: 45.28%\n",
      "Epoch: 0 Accuracy: 60.33%\n",
      "Saving model\n",
      "Epoch: 1 Accuracy: 67.91%\n",
      "Epoch: 1 Accuracy: 75.72%\n",
      "Epoch: 1 Accuracy: 80.51%\n",
      "Epoch: 1 Accuracy: 78.95%\n",
      "Epoch: 1 Accuracy: 79.96%\n",
      "Epoch: 1 Accuracy: 76.19%\n",
      "Epoch: 1 Accuracy: 64.99%\n",
      "Epoch: 1 Accuracy: 66.57%\n",
      "Epoch: 1 Accuracy: 61.69%\n",
      "Epoch: 1 Accuracy: 62.90%\n",
      "Epoch: 1 Accuracy: 66.66%\n",
      "Epoch: 1 Accuracy: 64.10%\n",
      "Epoch: 1 Accuracy: 63.70%\n",
      "Epoch: 1 Accuracy: 66.40%\n",
      "Saving model\n",
      "Epoch: 2 Accuracy: 76.22%\n",
      "Epoch: 2 Accuracy: 75.49%\n",
      "Epoch: 2 Accuracy: 76.69%\n",
      "Epoch: 2 Accuracy: 78.24%\n",
      "Epoch: 2 Accuracy: 80.64%\n",
      "Epoch: 2 Accuracy: 79.69%\n",
      "Epoch: 2 Accuracy: 69.81%\n",
      "Epoch: 2 Accuracy: 68.60%\n",
      "Epoch: 2 Accuracy: 67.62%\n",
      "Epoch: 2 Accuracy: 70.13%\n",
      "Epoch: 2 Accuracy: 72.57%\n",
      "Epoch: 2 Accuracy: 71.14%\n",
      "Epoch: 2 Accuracy: 66.68%\n",
      "Epoch: 2 Accuracy: 67.12%\n",
      "Saving model\n",
      "Epoch: 3 Accuracy: 83.77%\n",
      "Epoch: 3 Accuracy: 84.03%\n",
      "Epoch: 3 Accuracy: 83.80%\n",
      "Epoch: 3 Accuracy: 81.41%\n",
      "Epoch: 3 Accuracy: 81.40%\n",
      "Epoch: 3 Accuracy: 78.34%\n",
      "Epoch: 3 Accuracy: 71.10%\n",
      "Epoch: 3 Accuracy: 73.15%\n",
      "Epoch: 3 Accuracy: 71.19%\n",
      "Epoch: 3 Accuracy: 71.40%\n",
      "Epoch: 3 Accuracy: 74.35%\n",
      "Epoch: 3 Accuracy: 73.61%\n",
      "Epoch: 3 Accuracy: 73.10%\n",
      "Epoch: 3 Accuracy: 73.77%\n",
      "Saving model\n",
      "Epoch: 4 Accuracy: 81.85%\n",
      "Epoch: 4 Accuracy: 85.06%\n",
      "Epoch: 4 Accuracy: 83.52%\n",
      "Epoch: 4 Accuracy: 81.13%\n",
      "Epoch: 4 Accuracy: 83.84%\n",
      "Epoch: 4 Accuracy: 78.59%\n",
      "Epoch: 4 Accuracy: 72.37%\n",
      "Epoch: 4 Accuracy: 74.34%\n",
      "Epoch: 4 Accuracy: 74.87%\n",
      "Epoch: 4 Accuracy: 73.69%\n",
      "Epoch: 4 Accuracy: 75.65%\n",
      "Epoch: 4 Accuracy: 74.92%\n",
      "Epoch: 4 Accuracy: 74.87%\n",
      "Epoch: 4 Accuracy: 76.07%\n",
      "Saving model\n",
      "Epoch: 5 Accuracy: 82.91%\n",
      "Epoch: 5 Accuracy: 85.39%\n",
      "Epoch: 5 Accuracy: 83.77%\n",
      "Epoch: 5 Accuracy: 81.89%\n",
      "Epoch: 5 Accuracy: 84.23%\n",
      "Epoch: 5 Accuracy: 79.11%\n",
      "Epoch: 5 Accuracy: 74.22%\n",
      "Epoch: 5 Accuracy: 74.69%\n",
      "Epoch: 5 Accuracy: 74.79%\n",
      "Epoch: 5 Accuracy: 75.67%\n",
      "Epoch: 5 Accuracy: 76.49%\n",
      "Epoch: 5 Accuracy: 75.80%\n",
      "Epoch: 5 Accuracy: 75.91%\n",
      "Epoch: 5 Accuracy: 77.10%\n",
      "Saving model\n",
      "Epoch: 6 Accuracy: 85.87%\n",
      "Epoch: 6 Accuracy: 85.91%\n",
      "Epoch: 6 Accuracy: 84.73%\n",
      "Epoch: 6 Accuracy: 83.92%\n",
      "Epoch: 6 Accuracy: 84.50%\n",
      "Epoch: 6 Accuracy: 82.43%\n",
      "Epoch: 6 Accuracy: 73.22%\n",
      "Epoch: 6 Accuracy: 75.73%\n",
      "Epoch: 6 Accuracy: 73.74%\n",
      "Epoch: 6 Accuracy: 76.26%\n",
      "Epoch: 6 Accuracy: 75.93%\n",
      "Epoch: 6 Accuracy: 76.81%\n",
      "Epoch: 6 Accuracy: 75.06%\n",
      "Epoch: 6 Accuracy: 78.00%\n",
      "Saving model\n",
      "Epoch: 7 Accuracy: 86.29%\n",
      "Epoch: 7 Accuracy: 86.27%\n",
      "Epoch: 7 Accuracy: 85.40%\n",
      "Epoch: 7 Accuracy: 84.18%\n",
      "Epoch: 7 Accuracy: 84.82%\n",
      "Epoch: 7 Accuracy: 83.75%\n",
      "Epoch: 7 Accuracy: 73.75%\n",
      "Epoch: 7 Accuracy: 75.19%\n",
      "Epoch: 7 Accuracy: 75.38%\n",
      "Epoch: 7 Accuracy: 75.66%\n",
      "Epoch: 7 Accuracy: 77.13%\n",
      "Epoch: 7 Accuracy: 75.85%\n",
      "Epoch: 7 Accuracy: 75.99%\n",
      "Epoch: 7 Accuracy: 76.97%\n",
      "Saving model\n",
      "Epoch: 8 Accuracy: 86.06%\n",
      "Epoch: 8 Accuracy: 86.28%\n",
      "Epoch: 8 Accuracy: 85.61%\n",
      "Epoch: 8 Accuracy: 83.30%\n",
      "Epoch: 8 Accuracy: 85.42%\n",
      "Epoch: 8 Accuracy: 83.82%\n",
      "Epoch: 8 Accuracy: 74.94%\n",
      "Epoch: 8 Accuracy: 76.27%\n",
      "Epoch: 8 Accuracy: 76.45%\n",
      "Epoch: 8 Accuracy: 76.67%\n",
      "Epoch: 8 Accuracy: 77.69%\n",
      "Epoch: 8 Accuracy: 77.55%\n",
      "Epoch: 8 Accuracy: 77.00%\n",
      "Epoch: 8 Accuracy: 77.90%\n",
      "Saving model\n",
      "Epoch: 9 Accuracy: 86.15%\n",
      "Epoch: 9 Accuracy: 86.54%\n",
      "Epoch: 9 Accuracy: 85.72%\n",
      "Epoch: 9 Accuracy: 83.98%\n",
      "Epoch: 9 Accuracy: 85.52%\n",
      "Epoch: 9 Accuracy: 84.11%\n",
      "Epoch: 9 Accuracy: 74.48%\n",
      "Epoch: 9 Accuracy: 75.92%\n",
      "Epoch: 9 Accuracy: 76.48%\n",
      "Epoch: 9 Accuracy: 76.56%\n",
      "Epoch: 9 Accuracy: 77.94%\n",
      "Epoch: 9 Accuracy: 76.44%\n",
      "Epoch: 9 Accuracy: 77.59%\n",
      "Epoch: 9 Accuracy: 77.58%\n",
      "Saving model\n",
      "Epoch: 10 Accuracy: 85.68%\n",
      "Epoch: 10 Accuracy: 86.76%\n",
      "Epoch: 10 Accuracy: 85.77%\n",
      "Epoch: 10 Accuracy: 83.21%\n",
      "Epoch: 10 Accuracy: 85.52%\n",
      "Epoch: 10 Accuracy: 83.89%\n",
      "Epoch: 10 Accuracy: 74.77%\n",
      "Epoch: 10 Accuracy: 76.94%\n",
      "Epoch: 10 Accuracy: 76.51%\n",
      "Epoch: 10 Accuracy: 77.00%\n",
      "Epoch: 10 Accuracy: 77.94%\n",
      "Epoch: 10 Accuracy: 77.15%\n",
      "Epoch: 10 Accuracy: 77.71%\n",
      "Epoch: 10 Accuracy: 78.18%\n",
      "Saving model\n",
      "Epoch: 11 Accuracy: 86.22%\n",
      "Epoch: 11 Accuracy: 87.17%\n",
      "Epoch: 11 Accuracy: 85.85%\n",
      "Epoch: 11 Accuracy: 83.66%\n",
      "Epoch: 11 Accuracy: 85.57%\n",
      "Epoch: 11 Accuracy: 84.07%\n",
      "Epoch: 11 Accuracy: 74.72%\n",
      "Epoch: 11 Accuracy: 76.75%\n",
      "Epoch: 11 Accuracy: 76.93%\n",
      "Epoch: 11 Accuracy: 77.12%\n",
      "Epoch: 11 Accuracy: 78.50%\n",
      "Epoch: 11 Accuracy: 76.79%\n",
      "Epoch: 11 Accuracy: 78.14%\n",
      "Epoch: 11 Accuracy: 78.58%\n",
      "Saving model\n",
      "Epoch: 12 Accuracy: 85.72%\n",
      "Epoch: 12 Accuracy: 87.26%\n",
      "Epoch: 12 Accuracy: 85.62%\n",
      "Epoch: 12 Accuracy: 83.73%\n",
      "Epoch: 12 Accuracy: 85.24%\n",
      "Epoch: 12 Accuracy: 84.28%\n",
      "Epoch: 12 Accuracy: 74.48%\n",
      "Epoch: 12 Accuracy: 76.89%\n",
      "Epoch: 12 Accuracy: 76.87%\n",
      "Epoch: 12 Accuracy: 77.01%\n",
      "Epoch: 12 Accuracy: 78.72%\n",
      "Epoch: 12 Accuracy: 76.50%\n",
      "Epoch: 12 Accuracy: 78.19%\n",
      "Epoch: 12 Accuracy: 78.85%\n",
      "Saving model\n",
      "Epoch: 13 Accuracy: 85.81%\n",
      "Epoch: 13 Accuracy: 87.43%\n",
      "Epoch: 13 Accuracy: 85.62%\n",
      "Epoch: 13 Accuracy: 83.70%\n",
      "Epoch: 13 Accuracy: 85.15%\n",
      "Epoch: 13 Accuracy: 84.26%\n",
      "Epoch: 13 Accuracy: 74.66%\n",
      "Epoch: 13 Accuracy: 77.45%\n",
      "Epoch: 13 Accuracy: 76.99%\n",
      "Epoch: 13 Accuracy: 77.38%\n",
      "Epoch: 13 Accuracy: 78.84%\n",
      "Epoch: 13 Accuracy: 76.70%\n",
      "Epoch: 13 Accuracy: 78.38%\n",
      "Epoch: 13 Accuracy: 78.93%\n",
      "Saving model\n",
      "Epoch: 14 Accuracy: 85.99%\n",
      "Epoch: 14 Accuracy: 87.39%\n",
      "Epoch: 14 Accuracy: 85.80%\n",
      "Epoch: 14 Accuracy: 83.93%\n",
      "Epoch: 14 Accuracy: 85.19%\n",
      "Epoch: 14 Accuracy: 84.50%\n",
      "Epoch: 14 Accuracy: 74.90%\n",
      "Epoch: 14 Accuracy: 77.46%\n",
      "Epoch: 14 Accuracy: 77.22%\n",
      "Epoch: 14 Accuracy: 77.47%\n",
      "Epoch: 14 Accuracy: 79.04%\n",
      "Epoch: 14 Accuracy: 77.02%\n",
      "Epoch: 14 Accuracy: 78.58%\n",
      "Epoch: 14 Accuracy: 79.21%\n",
      "Saving model\n",
      "CPU times: user 2min 17s, sys: 3min 10s, total: 5min 27s\n",
      "Wall time: 4min 38s\n"
     ]
    }
   ],
   "source": [
    "%%time \n",
    "training_epochs = 15;\n",
    "batch_size = 800;\n",
    "cnt = 0;\n",
    "with tf.Session() as session:\n",
    "    session.run(tf.global_variables_initializer())\n",
    "    \n",
    "    for i in range(training_epochs):\n",
    "        for batch_data, batch_labels, batch_seq_len, batch_sequence_lengths in batch(x_train, y_train, sequence_length_train, batch_size, input_size):\n",
    "            cnt += 1\n",
    "            tf_viterbi_sequence, _ = session.run([viterbi_sequence, train_op], \n",
    "                                                 feed_dict={input_data: batch_data, \n",
    "                                                            labels: batch_labels, \n",
    "                                                            batch_sequence_length: batch_seq_len,\n",
    "                                                            original_sequence_lengths: batch_sequence_lengths })\n",
    "            # Show train accuracy.\n",
    "            if i % 1 == 0:\n",
    "                # Create a mask to fix input lengths.\n",
    "                mask = (np.expand_dims(np.arange(batch_seq_len), axis=0) <\n",
    "                    np.expand_dims(batch_sequence_lengths, axis=1))\n",
    "                total_labels = np.sum(batch_sequence_lengths)\n",
    "                correct_labels = np.sum((batch_labels == tf_viterbi_sequence) * mask)\n",
    "                accuracy = 100.0 * correct_labels / float(total_labels)\n",
    "                print(\"Epoch: %d\" % i, \"Accuracy: %.2f%%\" % accuracy)\n",
    "#             if (cnt*batch_size) % 10000 ==0:\n",
    "    # Save the variables to disk.\n",
    "        \n",
    "        print(\"Saving model\")\n",
    "        saver.save(session, MODEL_PATH)"
   ]
  },
  {
   "cell_type": "code",
   "execution_count": 54,
   "metadata": {},
   "outputs": [
    {
     "name": "stdout",
     "output_type": "stream",
     "text": [
      "INFO:tensorflow:Restoring parameters from ./model_crf_v6.ckpt\n",
      "Test accuracy: 76.03%\n",
      "Label: [1 0 2 1 0 1 0 0 0 0 0 0 0 0 0 0 0 0 0 0 0 0 0 0 0 0 0 0 0 0 0]\n",
      "Pred.: [1 1 2 1 0 1 0 0 0 0 0 0 0 0 0 0 0 0 0 0 0 0 0 0 0 0 0 0 0 0 0]\n",
      "CPU times: user 839 ms, sys: 1.21 s, total: 2.05 s\n",
      "Wall time: 1.91 s\n"
     ]
    }
   ],
   "source": [
    "%%time\n",
    "# Testing the model.\n",
    "with tf.Session() as session:\n",
    "    # Restore variables from disk.\n",
    "    saver.restore(session, MODEL_PATH)\n",
    "    \n",
    "    for batch_data, batch_labels, batch_seq_len, batch_sequence_lengths in batch(x_val, y_val, sequence_length_val, len(x_val), input_size):\n",
    "        tf_viterbi_sequence = session.run(viterbi_sequence, feed_dict={input_data: batch_data, \n",
    "                                                                       labels: batch_labels, \n",
    "                                                                       batch_sequence_length: batch_seq_len,\n",
    "                                                                       original_sequence_lengths: batch_sequence_lengths })\n",
    "    # mask to correct input sizes\n",
    "    mask = (np.expand_dims(np.arange(batch_seq_len), axis=0) <\n",
    "        np.expand_dims(batch_sequence_lengths, axis=1))\n",
    "    total_labels = np.sum(batch_sequence_lengths)\n",
    "    correct_labels = np.sum((batch_labels == tf_viterbi_sequence) * mask)\n",
    "    accuracy = 100.0 * correct_labels / float(total_labels)\n",
    "    print(\"Test accuracy: %.2f%%\" % accuracy)\n",
    "\n",
    "    print(\"Label:\", batch_labels[0].astype(int))    \n",
    "    print(\"Pred.:\", tf_viterbi_sequence[0])"
   ]
  },
  {
   "cell_type": "markdown",
   "metadata": {},
   "source": [
    "# Evaluation"
   ]
  },
  {
   "cell_type": "code",
   "execution_count": 55,
   "metadata": {},
   "outputs": [],
   "source": [
    "from sklearn import metrics"
   ]
  },
  {
   "cell_type": "code",
   "execution_count": 56,
   "metadata": {},
   "outputs": [],
   "source": [
    "preds = []\n",
    "for i in range(len(sequence_length_test)):\n",
    "    preds.extend(tf_viterbi_sequence[i][:sequence_length_val[i]])"
   ]
  },
  {
   "cell_type": "code",
   "execution_count": 57,
   "metadata": {},
   "outputs": [
    {
     "data": {
      "text/plain": [
       "0.7603172636014376"
      ]
     },
     "execution_count": 57,
     "metadata": {},
     "output_type": "execute_result"
    }
   ],
   "source": [
    "metrics.accuracy_score(valY_all, preds)"
   ]
  },
  {
   "cell_type": "code",
   "execution_count": 58,
   "metadata": {},
   "outputs": [
    {
     "name": "stdout",
     "output_type": "stream",
     "text": [
      "             precision    recall  f1-score   support\n",
      "\n",
      "          0       0.79      0.77      0.78      3125\n",
      "          1       0.90      0.91      0.90      2244\n",
      "          2       0.66      0.62      0.64      1775\n",
      "          3       0.53      0.64      0.58       925\n",
      "\n",
      "avg / total       0.76      0.76      0.76      8069\n",
      "\n"
     ]
    }
   ],
   "source": [
    "print(metrics.classification_report(valY_all, preds))"
   ]
  },
  {
   "cell_type": "code",
   "execution_count": 59,
   "metadata": {},
   "outputs": [],
   "source": [
    "cmat = metrics.confusion_matrix(valY_all, preds)"
   ]
  },
  {
   "cell_type": "code",
   "execution_count": 60,
   "metadata": {},
   "outputs": [
    {
     "data": {
      "text/plain": [
       "array([0.77056   , 0.90508021, 0.62422535, 0.63567568])"
      ]
     },
     "execution_count": 60,
     "metadata": {},
     "output_type": "execute_result"
    }
   ],
   "source": [
    "cmat.diagonal()/cmat.sum(axis=1)"
   ]
  },
  {
   "cell_type": "code",
   "execution_count": 61,
   "metadata": {},
   "outputs": [
    {
     "data": {
      "text/plain": [
       "array([[2408,   40,  314,  363],\n",
       "       [  21, 2031,  171,   21],\n",
       "       [ 366,  173, 1108,  128],\n",
       "       [ 241,   15,   81,  588]])"
      ]
     },
     "execution_count": 61,
     "metadata": {},
     "output_type": "execute_result"
    }
   ],
   "source": [
    "cmat"
   ]
  },
  {
   "cell_type": "code",
   "execution_count": 62,
   "metadata": {},
   "outputs": [],
   "source": [
    "import matplotlib.pyplot as plt\n",
    "%matplotlib inline"
   ]
  },
  {
   "cell_type": "code",
   "execution_count": 63,
   "metadata": {},
   "outputs": [],
   "source": [
    "import itertools"
   ]
  },
  {
   "cell_type": "code",
   "execution_count": 64,
   "metadata": {},
   "outputs": [],
   "source": [
    "def plot_confusion_matrix(cm, classes,\n",
    "                          normalize=False,\n",
    "                          title='Confusion matrix',\n",
    "                          cmap=plt.cm.Blues):\n",
    "    \"\"\"\n",
    "    This function prints and plots the confusion matrix.\n",
    "    Normalization can be applied by setting `normalize=True`.\n",
    "    \"\"\"\n",
    "    if normalize:\n",
    "        cm = cm.astype('float') / cm.sum(axis=1)[:, np.newaxis]\n",
    "        print(\"Normalized confusion matrix\")\n",
    "    else:\n",
    "        print('Confusion matrix, without normalization')\n",
    "\n",
    "    print(cm)\n",
    "\n",
    "    plt.imshow(cm, interpolation='nearest', cmap=cmap)\n",
    "    plt.title(title)\n",
    "    plt.colorbar()\n",
    "    tick_marks = np.arange(len(classes))\n",
    "    plt.xticks(tick_marks, classes, rotation=45)\n",
    "    plt.yticks(tick_marks, classes)\n",
    "\n",
    "    fmt = '.2f' if normalize else 'd'\n",
    "    thresh = cm.max() / 2.\n",
    "    for i, j in itertools.product(range(cm.shape[0]), range(cm.shape[1])):\n",
    "        plt.text(j, i, format(cm[i, j], fmt),\n",
    "                 horizontalalignment=\"center\",\n",
    "                 color=\"white\" if cm[i, j] > thresh else \"black\")\n",
    "\n",
    "    plt.tight_layout()\n",
    "    plt.ylabel('True label')\n",
    "    plt.xlabel('Predicted label')"
   ]
  },
  {
   "cell_type": "code",
   "execution_count": 65,
   "metadata": {},
   "outputs": [],
   "source": [
    "classes = ['inform', 'question', 'directive', 'commisive']"
   ]
  },
  {
   "cell_type": "code",
   "execution_count": 66,
   "metadata": {},
   "outputs": [
    {
     "name": "stdout",
     "output_type": "stream",
     "text": [
      "Confusion matrix, without normalization\n",
      "[[2408   40  314  363]\n",
      " [  21 2031  171   21]\n",
      " [ 366  173 1108  128]\n",
      " [ 241   15   81  588]]\n"
     ]
    },
    {
     "data": {
      "image/png": "[encoded data removed]",
      "text/plain": [
       "<Figure size 432x288 with 2 Axes>"
      ]
     },
     "metadata": {},
     "output_type": "display_data"
    }
   ],
   "source": [
    "plot_confusion_matrix(cmat, classes)"
   ]
  },
  {
   "cell_type": "code",
   "execution_count": 67,
   "metadata": {},
   "outputs": [
    {
     "name": "stdout",
     "output_type": "stream",
     "text": [
      "Normalized confusion matrix\n",
      "[[0.77056    0.0128     0.10048    0.11616   ]\n",
      " [0.00935829 0.90508021 0.07620321 0.00935829]\n",
      " [0.20619718 0.09746479 0.62422535 0.07211268]\n",
      " [0.26054054 0.01621622 0.08756757 0.63567568]]\n"
     ]
    },
    {
     "data": {
      "image/png": "[encoded data removed]",
      "text/plain": [
       "<Figure size 432x288 with 2 Axes>"
      ]
     },
     "metadata": {},
     "output_type": "display_data"
    }
   ],
   "source": [
    "plot_confusion_matrix(cmat, classes, normalize=True)"
   ]
  },
  {
   "cell_type": "code",
   "execution_count": 68,
   "metadata": {},
   "outputs": [],
   "source": [
    "correctPerClass = {}\n",
    "totalPerClass   = {}\n",
    "for cls in [0, 1, 2, 3]:\n",
    "    correctPerClass[cls] = 0\n",
    "    totalPerClass[cls]   = 0\n",
    "for yt, yp in zip(valY_all, preds):\n",
    "    totalPerClass[yt] += 1\n",
    "    correctPerClass[yt] += int(yt==yp)\n",
    "\n"
   ]
  },
  {
   "cell_type": "code",
   "execution_count": 69,
   "metadata": {},
   "outputs": [
    {
     "data": {
      "text/plain": [
       "{0: 3125, 1: 2244, 2: 1775, 3: 925}"
      ]
     },
     "execution_count": 69,
     "metadata": {},
     "output_type": "execute_result"
    }
   ],
   "source": [
    "totalPerClass"
   ]
  },
  {
   "cell_type": "code",
   "execution_count": 70,
   "metadata": {},
   "outputs": [
    {
     "data": {
      "text/plain": [
       "{0: 2408, 1: 2031, 2: 1108, 3: 588}"
      ]
     },
     "execution_count": 70,
     "metadata": {},
     "output_type": "execute_result"
    }
   ],
   "source": [
    "correctPerClass"
   ]
  },
  {
   "cell_type": "code",
   "execution_count": 71,
   "metadata": {},
   "outputs": [
    {
     "name": "stdout",
     "output_type": "stream",
     "text": [
      "Accuracy for class  0  : 0.77056\n",
      "Accuracy for class  1  : 0.9050802139037433\n",
      "Accuracy for class  2  : 0.624225352112676\n",
      "Accuracy for class  3  : 0.6356756756756756\n"
     ]
    }
   ],
   "source": [
    "for cls in [0, 1, 2, 3]:\n",
    "    acc = float(correctPerClass[cls])/totalPerClass[cls]\n",
    "    print(\"Accuracy for class \", cls, \" :\", acc)"
   ]
  },
  {
   "cell_type": "markdown",
   "metadata": {
    "collapsed": true
   },
   "source": [
    "# Saving the transition params"
   ]
  },
  {
   "cell_type": "code",
   "execution_count": 72,
   "metadata": {},
   "outputs": [],
   "source": [
    "x = tf.Variable([[1.0, 2.0], [3, 1]])\n",
    "\n",
    "init = tf.global_variables_initializer()\n",
    "\n",
    "sess = tf.Session()\n",
    "sess.run(init)\n",
    "v = sess.run(transition_params)    "
   ]
  },
  {
   "cell_type": "code",
   "execution_count": 73,
   "metadata": {},
   "outputs": [],
   "source": [
    "np.savetxt('transition_params_crf_v6.csv', v, delimiter=',')"
   ]
  },
  {
   "cell_type": "code",
   "execution_count": null,
   "metadata": {
    "collapsed": true
   },
   "outputs": [],
   "source": []
  }
 ],
 "metadata": {
  "kernelspec": {
   "display_name": "Python 2",
   "language": "python",
   "name": "python2"
  },
  "language_info": {
   "codemirror_mode": {
    "name": "ipython",
    "version": 3
   },
   "file_extension": ".py",
   "mimetype": "text/x-python",
   "name": "python",
   "nbconvert_exporter": "python",
   "pygments_lexer": "ipython3",
   "version": "3.5.2"
  }
 },
 "nbformat": 4,
 "nbformat_minor": 2
}
