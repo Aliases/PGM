{
 "cells": [
  {
   "cell_type": "code",
   "execution_count": 2,
   "metadata": {},
   "outputs": [],
   "source": [
    "import pandas\n",
    "import numpy as np"
   ]
  },
  {
   "cell_type": "markdown",
   "metadata": {},
   "source": [
    "# Data Preparation"
   ]
  },
  {
   "cell_type": "code",
   "execution_count": 3,
   "metadata": {},
   "outputs": [],
   "source": [
    "trainDataFile = 'ijcnlp_dailydialog/train/dialogues_train.txt'\n",
    "trainLabelsFile = 'ijcnlp_dailydialog/train/dialogues_act_train.txt' "
   ]
  },
  {
   "cell_type": "code",
   "execution_count": 4,
   "metadata": {},
   "outputs": [],
   "source": [
    "testDataFile = 'ijcnlp_dailydialog/validation/dialogues_validation.txt'\n",
    "testLablesFile = 'ijcnlp_dailydialog/validation/dialogues_act_validation.txt'"
   ]
  },
  {
   "cell_type": "code",
   "execution_count": 5,
   "metadata": {},
   "outputs": [],
   "source": [
    "lineSeparator = '__eou__'"
   ]
  },
  {
   "cell_type": "code",
   "execution_count": 6,
   "metadata": {},
   "outputs": [],
   "source": [
    "def getData(dialogueFile, labelFile):\n",
    "    with open(dialogueFile) as f:\n",
    "        lines = f.readlines() \n",
    "    with open(labelFile) as f:\n",
    "        labels = f.readlines()    \n",
    "    \n",
    "    inputs = []\n",
    "    for line in lines:\n",
    "        line = line.rstrip()\n",
    "        line = line.split(lineSeparator)\n",
    "        inputs.extend(line[:-1])\n",
    "    \n",
    "    acts = []\n",
    "    for label in labels:\n",
    "        label = label.rstrip()\n",
    "        label = label.split()\n",
    "        acts.extend(label)\n",
    "        \n",
    "    return (inputs, acts)"
   ]
  },
  {
   "cell_type": "code",
   "execution_count": 7,
   "metadata": {},
   "outputs": [],
   "source": [
    "with open(trainDataFile) as f:\n",
    "    lines = f.readlines()"
   ]
  },
  {
   "cell_type": "code",
   "execution_count": 8,
   "metadata": {},
   "outputs": [],
   "source": [
    "with open(trainLabelsFile) as f:\n",
    "    labels = f.readlines()"
   ]
  },
  {
   "cell_type": "code",
   "execution_count": 9,
   "metadata": {},
   "outputs": [
    {
     "data": {
      "text/plain": [
       "11118"
      ]
     },
     "execution_count": 9,
     "metadata": {},
     "output_type": "execute_result"
    }
   ],
   "source": [
    "len(labels)"
   ]
  },
  {
   "cell_type": "code",
   "execution_count": 10,
   "metadata": {},
   "outputs": [
    {
     "data": {
      "text/plain": [
       "11118"
      ]
     },
     "execution_count": 10,
     "metadata": {},
     "output_type": "execute_result"
    }
   ],
   "source": [
    "len(lines)"
   ]
  },
  {
   "cell_type": "code",
   "execution_count": 11,
   "metadata": {},
   "outputs": [
    {
     "data": {
      "text/plain": [
       "\"Say , Jim , how about going for a few beers after dinner ? __eou__ You know that is tempting but is really not good for our fitness . __eou__ What do you mean ? It will help us to relax . __eou__ Do you really think so ? I don't . It will just make us fat and act silly . Remember last time ? __eou__ I guess you are right.But what shall we do ? I don't feel like sitting at home . __eou__ I suggest a walk over to the gym where we can play singsong and meet some of our friends . __eou__ That's a good idea . I hear Mary and Sally often go there to play pingpong.Perhaps we can make a foursome with them . __eou__ Sounds great to me ! If they are willing , we could ask them to go dancing with us.That is excellent exercise and fun , too . __eou__ Good.Let ' s go now . __eou__ All right . __eou__\\n\""
      ]
     },
     "execution_count": 11,
     "metadata": {},
     "output_type": "execute_result"
    }
   ],
   "source": [
    "lines[0]"
   ]
  },
  {
   "cell_type": "code",
   "execution_count": 56,
   "metadata": {},
   "outputs": [
    {
     "data": {
      "text/plain": [
       "['Say , Jim , how about going for a few beers after dinner ? ',\n",
       " ' You know that is tempting but is really not good for our fitness . ',\n",
       " ' What do you mean ? It will help us to relax . ',\n",
       " \" Do you really think so ? I don't . It will just make us fat and act silly . Remember last time ? \",\n",
       " \" I guess you are right.But what shall we do ? I don't feel like sitting at home . \",\n",
       " ' I suggest a walk over to the gym where we can play singsong and meet some of our friends . ',\n",
       " \" That's a good idea . I hear Mary and Sally often go there to play pingpong.Perhaps we can make a foursome with them . \",\n",
       " ' Sounds great to me ! If they are willing , we could ask them to go dancing with us.That is excellent exercise and fun , too . ',\n",
       " \" Good.Let ' s go now . \",\n",
       " ' All right . ']"
      ]
     },
     "execution_count": 56,
     "metadata": {},
     "output_type": "execute_result"
    }
   ],
   "source": [
    "lines[0].rstrip().split('__eou__')[:-1]"
   ]
  },
  {
   "cell_type": "code",
   "execution_count": 48,
   "metadata": {},
   "outputs": [
    {
     "data": {
      "text/plain": [
       "'3 4 2 2 2 3 4 1 3 4 \\n'"
      ]
     },
     "execution_count": 48,
     "metadata": {},
     "output_type": "execute_result"
    }
   ],
   "source": [
    "labels[0]"
   ]
  },
  {
   "cell_type": "code",
   "execution_count": 20,
   "metadata": {},
   "outputs": [
    {
     "data": {
      "text/plain": [
       "10"
      ]
     },
     "execution_count": 20,
     "metadata": {},
     "output_type": "execute_result"
    }
   ],
   "source": [
    "lines[0].count('__eou__')"
   ]
  },
  {
   "cell_type": "code",
   "execution_count": 21,
   "metadata": {},
   "outputs": [
    {
     "data": {
      "text/plain": [
       "10"
      ]
     },
     "execution_count": 21,
     "metadata": {},
     "output_type": "execute_result"
    }
   ],
   "source": [
    "labels[0].count(' ')"
   ]
  },
  {
   "cell_type": "code",
   "execution_count": 12,
   "metadata": {},
   "outputs": [],
   "source": [
    "inputs = []\n",
    "for line in lines:\n",
    "    line = line.rstrip()\n",
    "    line = line.split(lineSeparator)\n",
    "    inputs.extend(line[:-1])"
   ]
  },
  {
   "cell_type": "code",
   "execution_count": 13,
   "metadata": {},
   "outputs": [
    {
     "data": {
      "text/plain": [
       "[' Take a look at the ones on display , please . ',\n",
       " ' I need size 41 . ',\n",
       " 'Could I have the check , please ? ',\n",
       " \" Okay . I'll just be a minute . \"]"
      ]
     },
     "execution_count": 13,
     "metadata": {},
     "output_type": "execute_result"
    }
   ],
   "source": [
    "inputs[-4:]"
   ]
  },
  {
   "cell_type": "code",
   "execution_count": 14,
   "metadata": {},
   "outputs": [],
   "source": [
    "acts = []\n",
    "for label in labels:\n",
    "    label = label.rstrip()\n",
    "    label = label.split()\n",
    "    acts.extend(label)"
   ]
  },
  {
   "cell_type": "code",
   "execution_count": 31,
   "metadata": {},
   "outputs": [
    {
     "data": {
      "text/plain": [
       "87170"
      ]
     },
     "execution_count": 31,
     "metadata": {},
     "output_type": "execute_result"
    }
   ],
   "source": [
    "len(inputs)"
   ]
  },
  {
   "cell_type": "code",
   "execution_count": 32,
   "metadata": {},
   "outputs": [
    {
     "data": {
      "text/plain": [
       "87170"
      ]
     },
     "execution_count": 32,
     "metadata": {},
     "output_type": "execute_result"
    }
   ],
   "source": [
    "len(acts)"
   ]
  },
  {
   "cell_type": "code",
   "execution_count": 15,
   "metadata": {},
   "outputs": [],
   "source": [
    "class Data: pass"
   ]
  },
  {
   "cell_type": "code",
   "execution_count": 16,
   "metadata": {},
   "outputs": [],
   "source": [
    "dialogues = Data()"
   ]
  },
  {
   "cell_type": "code",
   "execution_count": 17,
   "metadata": {},
   "outputs": [],
   "source": [
    "from sklearn.feature_extraction.text import CountVectorizer, TfidfVectorizer"
   ]
  },
  {
   "cell_type": "code",
   "execution_count": 18,
   "metadata": {},
   "outputs": [],
   "source": [
    "count_vect = CountVectorizer()"
   ]
  },
  {
   "cell_type": "code",
   "execution_count": 19,
   "metadata": {},
   "outputs": [],
   "source": [
    "trainX, trainY = getData(trainDataFile, trainLabelsFile)"
   ]
  },
  {
   "cell_type": "code",
   "execution_count": 33,
   "metadata": {},
   "outputs": [
    {
     "data": {
      "text/plain": [
       "'Say , Jim , how about going for a few beers after dinner ? '"
      ]
     },
     "execution_count": 33,
     "metadata": {},
     "output_type": "execute_result"
    }
   ],
   "source": [
    "trainX[0]"
   ]
  },
  {
   "cell_type": "code",
   "execution_count": 20,
   "metadata": {},
   "outputs": [],
   "source": [
    "trainX = count_vect.fit_transform(trainX)"
   ]
  },
  {
   "cell_type": "code",
   "execution_count": 59,
   "metadata": {},
   "outputs": [],
   "source": [
    "valX, valY = getData(testDataFile, testLablesFile)"
   ]
  },
  {
   "cell_type": "code",
   "execution_count": 134,
   "metadata": {},
   "outputs": [],
   "source": [
    "valX = count_vect.transform(valX)"
   ]
  },
  {
   "cell_type": "markdown",
   "metadata": {},
   "source": [
    "# Train a classifier"
   ]
  },
  {
   "cell_type": "code",
   "execution_count": 23,
   "metadata": {},
   "outputs": [],
   "source": [
    "from sklearn.linear_model import LogisticRegression"
   ]
  },
  {
   "cell_type": "code",
   "execution_count": 130,
   "metadata": {},
   "outputs": [],
   "source": [
    "model = LogisticRegression(n_jobs=-1)"
   ]
  },
  {
   "cell_type": "code",
   "execution_count": 25,
   "metadata": {},
   "outputs": [],
   "source": [
    "from sklearn.svm import LinearSVC\n",
    "from sklearn.model_selection import GridSearchCV\n",
    "from sklearn.neural_network import MLPClassifier\n",
    "from sklearn.linear_model import RidgeClassifier\n",
    "from sklearn.linear_model import SGDClassifier\n",
    "from sklearn.linear_model import PassiveAggressiveClassifier\n",
    "from sklearn.naive_bayes import BernoulliNB, MultinomialNB\n",
    "from sklearn.neighbors import KNeighborsClassifier\n",
    "from sklearn.neighbors import NearestCentroid\n",
    "from sklearn.ensemble import RandomForestClassifier"
   ]
  },
  {
   "cell_type": "code",
   "execution_count": 26,
   "metadata": {},
   "outputs": [],
   "source": [
    "model = RandomForestClassifier(n_estimators=100)"
   ]
  },
  {
   "cell_type": "code",
   "execution_count": 131,
   "metadata": {},
   "outputs": [
    {
     "name": "stderr",
     "output_type": "stream",
     "text": [
      "/Library/Frameworks/Python.framework/Versions/3.6/lib/python3.6/site-packages/sklearn/linear_model/logistic.py:1228: UserWarning: 'n_jobs' > 1 does not have any effect when 'solver' is set to 'liblinear'. Got 'n_jobs' = -1.\n",
      "  \" = {}.\".format(self.n_jobs))\n"
     ]
    },
    {
     "data": {
      "text/plain": [
       "LogisticRegression(C=1.0, class_weight=None, dual=False, fit_intercept=True,\n",
       "          intercept_scaling=1, max_iter=100, multi_class='ovr', n_jobs=-1,\n",
       "          penalty='l2', random_state=None, solver='liblinear', tol=0.0001,\n",
       "          verbose=0, warm_start=False)"
      ]
     },
     "execution_count": 131,
     "metadata": {},
     "output_type": "execute_result"
    }
   ],
   "source": [
    "model.fit(trainX, trainY)"
   ]
  },
  {
   "cell_type": "markdown",
   "metadata": {},
   "source": [
    "# Evaluation"
   ]
  },
  {
   "cell_type": "code",
   "execution_count": 132,
   "metadata": {},
   "outputs": [],
   "source": [
    "from sklearn import metrics"
   ]
  },
  {
   "cell_type": "code",
   "execution_count": 135,
   "metadata": {},
   "outputs": [],
   "source": [
    "preds = model.predict(valX)"
   ]
  },
  {
   "cell_type": "code",
   "execution_count": 136,
   "metadata": {},
   "outputs": [
    {
     "data": {
      "text/plain": [
       "array(['1', '1', '3', ..., '2', '1', '1'], dtype='<U1')"
      ]
     },
     "execution_count": 136,
     "metadata": {},
     "output_type": "execute_result"
    }
   ],
   "source": [
    "preds"
   ]
  },
  {
   "cell_type": "code",
   "execution_count": 137,
   "metadata": {},
   "outputs": [],
   "source": [
    "probs = model.predict_proba(valX)"
   ]
  },
  {
   "cell_type": "code",
   "execution_count": 44,
   "metadata": {},
   "outputs": [
    {
     "data": {
      "text/plain": [
       "(8069, 17635)"
      ]
     },
     "execution_count": 44,
     "metadata": {},
     "output_type": "execute_result"
    }
   ],
   "source": [
    "# len(probs)\n",
    "valX.shape"
   ]
  },
  {
   "cell_type": "code",
   "execution_count": 138,
   "metadata": {},
   "outputs": [
    {
     "data": {
      "text/plain": [
       "array([0.53760054, 0.04204305, 0.0549108 , 0.36544561])"
      ]
     },
     "execution_count": 138,
     "metadata": {},
     "output_type": "execute_result"
    }
   ],
   "source": [
    "probs[1]"
   ]
  },
  {
   "cell_type": "code",
   "execution_count": 139,
   "metadata": {},
   "outputs": [
    {
     "data": {
      "text/plain": [
       "0.6740612219605899"
      ]
     },
     "execution_count": 139,
     "metadata": {},
     "output_type": "execute_result"
    }
   ],
   "source": [
    "metrics.accuracy_score(valY, model.predict(valX))"
   ]
  },
  {
   "cell_type": "code",
   "execution_count": 140,
   "metadata": {},
   "outputs": [
    {
     "data": {
      "text/plain": [
       "0.7616267064357004"
      ]
     },
     "execution_count": 140,
     "metadata": {},
     "output_type": "execute_result"
    }
   ],
   "source": [
    "metrics.accuracy_score(trainY, model.predict(trainX))"
   ]
  },
  {
   "cell_type": "code",
   "execution_count": 33,
   "metadata": {},
   "outputs": [
    {
     "name": "stdout",
     "output_type": "stream",
     "text": [
      "             precision    recall  f1-score   support\n",
      "\n",
      "          1       0.67      0.87      0.76      3125\n",
      "          2       0.83      0.85      0.84      2244\n",
      "          3       0.78      0.54      0.64      1775\n",
      "          4       0.66      0.34      0.45       925\n",
      "\n",
      "avg / total       0.74      0.73      0.72      8069\n",
      "\n"
     ]
    }
   ],
   "source": [
    "print(metrics.classification_report(valY, model.predict(valX)))"
   ]
  },
  {
   "cell_type": "code",
   "execution_count": 34,
   "metadata": {},
   "outputs": [],
   "source": [
    "cmat = metrics.confusion_matrix(valY, model.predict(valX))"
   ]
  },
  {
   "cell_type": "code",
   "execution_count": 35,
   "metadata": {},
   "outputs": [
    {
     "data": {
      "text/plain": [
       "array([0.87136   , 0.84803922, 0.54366197, 0.33945946])"
      ]
     },
     "execution_count": 35,
     "metadata": {},
     "output_type": "execute_result"
    }
   ],
   "source": [
    "cmat.diagonal()/cmat.sum(axis=1)"
   ]
  },
  {
   "cell_type": "code",
   "execution_count": 36,
   "metadata": {},
   "outputs": [
    {
     "data": {
      "text/plain": [
       "array([[2723,  163,  129,  110],\n",
       "       [ 242, 1903,   85,   14],\n",
       "       [ 593,  178,  965,   39],\n",
       "       [ 501,   46,   64,  314]])"
      ]
     },
     "execution_count": 36,
     "metadata": {},
     "output_type": "execute_result"
    }
   ],
   "source": [
    "cmat"
   ]
  },
  {
   "cell_type": "code",
   "execution_count": 50,
   "metadata": {
    "collapsed": true
   },
   "outputs": [],
   "source": [
    "import matplotlib.pyplot as plt\n",
    "%matplotlib inline"
   ]
  },
  {
   "cell_type": "code",
   "execution_count": 54,
   "metadata": {
    "collapsed": true
   },
   "outputs": [],
   "source": [
    "import itertools"
   ]
  },
  {
   "cell_type": "code",
   "execution_count": 55,
   "metadata": {},
   "outputs": [],
   "source": [
    "def plot_confusion_matrix(cm, classes,\n",
    "                          normalize=False,\n",
    "                          title='Confusion matrix',\n",
    "                          cmap=plt.cm.Blues):\n",
    "    \"\"\"\n",
    "    This function prints and plots the confusion matrix.\n",
    "    Normalization can be applied by setting `normalize=True`.\n",
    "    \"\"\"\n",
    "    if normalize:\n",
    "        cm = cm.astype('float') / cm.sum(axis=1)[:, np.newaxis]\n",
    "        print(\"Normalized confusion matrix\")\n",
    "    else:\n",
    "        print('Confusion matrix, without normalization')\n",
    "\n",
    "    print(cm)\n",
    "\n",
    "    plt.imshow(cm, interpolation='nearest', cmap=cmap)\n",
    "    plt.title(title)\n",
    "    plt.colorbar()\n",
    "    tick_marks = np.arange(len(classes))\n",
    "    plt.xticks(tick_marks, classes, rotation=45)\n",
    "    plt.yticks(tick_marks, classes)\n",
    "\n",
    "    fmt = '.2f' if normalize else 'd'\n",
    "    thresh = cm.max() / 2.\n",
    "    for i, j in itertools.product(range(cm.shape[0]), range(cm.shape[1])):\n",
    "        plt.text(j, i, format(cm[i, j], fmt),\n",
    "                 horizontalalignment=\"center\",\n",
    "                 color=\"white\" if cm[i, j] > thresh else \"black\")\n",
    "\n",
    "    plt.tight_layout()\n",
    "    plt.ylabel('True label')\n",
    "    plt.xlabel('Predicted label')"
   ]
  },
  {
   "cell_type": "code",
   "execution_count": 58,
   "metadata": {
    "collapsed": true
   },
   "outputs": [],
   "source": [
    "classes = ['inform', 'question', 'directive', 'commisive']"
   ]
  },
  {
   "cell_type": "code",
   "execution_count": 59,
   "metadata": {},
   "outputs": [
    {
     "name": "stdout",
     "output_type": "stream",
     "text": [
      "Confusion matrix, without normalization\n",
      "[[2723  158  136  108]\n",
      " [ 248 1908   76   12]\n",
      " [ 585  186  960   44]\n",
      " [ 516   46   52  311]]\n"
     ]
    },
    {
     "data": {
      "image/png": "[encoded data removed]",
      "text/plain": [
       "<Figure size 432x288 with 2 Axes>"
      ]
     },
     "metadata": {},
     "output_type": "display_data"
    }
   ],
   "source": [
    "plot_confusion_matrix(cmat, classes)"
   ]
  },
  {
   "cell_type": "code",
   "execution_count": 60,
   "metadata": {},
   "outputs": [
    {
     "name": "stdout",
     "output_type": "stream",
     "text": [
      "Normalized confusion matrix\n",
      "[[0.87136    0.05056    0.04352    0.03456   ]\n",
      " [0.11051693 0.85026738 0.03386809 0.00534759]\n",
      " [0.32957746 0.10478873 0.54084507 0.02478873]\n",
      " [0.55783784 0.04972973 0.05621622 0.33621622]]\n"
     ]
    },
    {
     "data": {
      "image/png": "[encoded data removed]",
      "text/plain": [
       "<Figure size 432x288 with 2 Axes>"
      ]
     },
     "metadata": {},
     "output_type": "display_data"
    }
   ],
   "source": [
    "plot_confusion_matrix(cmat, classes, normalize=True)"
   ]
  },
  {
   "cell_type": "code",
   "execution_count": 66,
   "metadata": {},
   "outputs": [],
   "source": [
    "correctPerClass = {}\n",
    "totalPerClass   = {}\n",
    "for cls in ['1','2','3','4']:\n",
    "    correctPerClass[cls] = 0\n",
    "    totalPerClass[cls]   = 0\n",
    "for yt, yp in zip(valY, preds):\n",
    "    totalPerClass[yt] += 1\n",
    "    correctPerClass[yt] += int(yt==yp)\n",
    "\n"
   ]
  },
  {
   "cell_type": "code",
   "execution_count": 67,
   "metadata": {},
   "outputs": [
    {
     "data": {
      "text/plain": [
       "{'1': 3125, '2': 2244, '3': 1775, '4': 925}"
      ]
     },
     "execution_count": 67,
     "metadata": {},
     "output_type": "execute_result"
    }
   ],
   "source": [
    "totalPerClass"
   ]
  },
  {
   "cell_type": "code",
   "execution_count": 68,
   "metadata": {},
   "outputs": [
    {
     "data": {
      "text/plain": [
       "{'1': 2723, '2': 1908, '3': 960, '4': 311}"
      ]
     },
     "execution_count": 68,
     "metadata": {},
     "output_type": "execute_result"
    }
   ],
   "source": [
    "correctPerClass"
   ]
  },
  {
   "cell_type": "code",
   "execution_count": 69,
   "metadata": {},
   "outputs": [
    {
     "name": "stdout",
     "output_type": "stream",
     "text": [
      "Accuracy for class  1  : 0.87136\n",
      "Accuracy for class  2  : 0.8502673796791443\n",
      "Accuracy for class  3  : 0.5408450704225352\n",
      "Accuracy for class  4  : 0.3362162162162162\n"
     ]
    }
   ],
   "source": [
    "for cls in ['1','2','3','4']:\n",
    "    acc = correctPerClass[cls]/totalPerClass[cls]\n",
    "    print(\"Accuracy for class \", cls, \" :\", acc)"
   ]
  },
  {
   "cell_type": "code",
   "execution_count": null,
   "metadata": {
    "collapsed": true
   },
   "outputs": [],
   "source": []
  },
  {
   "cell_type": "code",
   "execution_count": null,
   "metadata": {
    "collapsed": true
   },
   "outputs": [],
   "source": []
  },
  {
   "cell_type": "code",
   "execution_count": null,
   "metadata": {
    "collapsed": true
   },
   "outputs": [],
   "source": []
  },
  {
   "cell_type": "code",
   "execution_count": 27,
   "metadata": {},
   "outputs": [
    {
     "data": {
      "text/plain": [
       "['3', '4']"
      ]
     },
     "execution_count": 27,
     "metadata": {},
     "output_type": "execute_result"
    }
   ],
   "source": [
    "label"
   ]
  },
  {
   "cell_type": "code",
   "execution_count": 24,
   "metadata": {},
   "outputs": [
    {
     "data": {
      "text/plain": [
       "['Could I have the check , please ? ', \" Okay . I'll just be a minute . \", '']"
      ]
     },
     "execution_count": 24,
     "metadata": {},
     "output_type": "execute_result"
    }
   ],
   "source": [
    "line"
   ]
  },
  {
   "cell_type": "code",
   "execution_count": 21,
   "metadata": {},
   "outputs": [
    {
     "data": {
      "text/plain": [
       "['Could I have the check , please ? ', \" Okay . I'll just be a minute . \", '']"
      ]
     },
     "execution_count": 21,
     "metadata": {},
     "output_type": "execute_result"
    }
   ],
   "source": [
    "line.split(lineSeparator)"
   ]
  },
  {
   "cell_type": "code",
   "execution_count": 22,
   "metadata": {},
   "outputs": [
    {
     "data": {
      "text/plain": [
       "\"Could I have the check , please ? __eou__ Okay . I'll just be a minute . __eou__\\n\""
      ]
     },
     "execution_count": 22,
     "metadata": {},
     "output_type": "execute_result"
    }
   ],
   "source": [
    "lines[-1]"
   ]
  },
  {
   "cell_type": "code",
   "execution_count": 74,
   "metadata": {},
   "outputs": [],
   "source": [
    "def run_viterbi(emission_scores, trans_scores, start_scores, end_scores):\n",
    "    \"\"\"Run the Viterbi algorithm.\n",
    "\n",
    "    N - number of tokens (length of sentence)\n",
    "    L - number of labels\n",
    "\n",
    "    As an input, you are given:\n",
    "    - Emission scores, as an NxL array\n",
    "    - Transition scores (Yp -> Yc), as an LxL array\n",
    "    - Start transition scores (S -> Y), as an Lx1 array\n",
    "    - End transition scores (Y -> E), as an Lx1 array\n",
    "\n",
    "    You have to return a tuple (s,y), where:\n",
    "    - s is the score of the best sequence\n",
    "    - y is the size N array/seq of integers representing the best sequence.\n",
    "    \"\"\"\n",
    "    L = start_scores.shape[0]\n",
    "    assert end_scores.shape[0] == L\n",
    "    assert trans_scores.shape[0] == L\n",
    "    assert trans_scores.shape[1] == L\n",
    "    assert emission_scores.shape[1] == L\n",
    "    N = emission_scores.shape[0]\n",
    "\n",
    "    y = []\n",
    "    T = np.zeros((N,L))\n",
    "    best_Ys = np.zeros((N,L))\n",
    "\n",
    "    for i in range(L):\n",
    "        T[0][i] = emission_scores[0][i] + start_scores[i]\n",
    "        if N <= 1:\n",
    "                T[0][i] += end_scores[i]\n",
    "\n",
    "\n",
    "    for i in range(1,N):\n",
    "        for j in range(0,L):\n",
    "            maxSoFar = -np.inf\n",
    "            maxLabel = 0\n",
    "            for k in range(L):\n",
    "                if(trans_scores[k][j] + T[i-1][k] > maxSoFar):\n",
    "                    maxSoFar = trans_scores[k][j] + T[i-1][k]\n",
    "                    maxLabel = k\n",
    "            best_Ys[i][j] = maxLabel\n",
    "            T[i][j] = maxSoFar + emission_scores[i][j]\n",
    "            if i == N-1:\n",
    "                T[i][j] += end_scores[j]\n",
    "\n",
    "    best_Ys = np.int_(best_Ys)\n",
    "    maxY = 0\n",
    "    maxScore = -np.inf\n",
    "    for i in range(L):\n",
    "        if T[N-1][i] > maxScore:\n",
    "            maxScore = T[N-1][i]\n",
    "            maxY = i\n",
    "    y.append(maxY) \n",
    "    # print(\"best_Ys: \", best_Ys)\n",
    "    # print(\"T: \", T)\n",
    "\n",
    "    for i in reversed(range(N)):\n",
    "        y.append(best_Ys[i, int(y[-1])])\n",
    "\n",
    "    y = y[:-1]\n",
    "    # print \"y values is:\", y[::-1], maxScore\n",
    "    return (maxScore, y[::-1])"
   ]
  },
  {
   "cell_type": "code",
   "execution_count": 141,
   "metadata": {},
   "outputs": [
    {
     "data": {
      "text/plain": [
       "[[0.37, 0.44, 0.17, 0.02],\n",
       " [0.77, 0.1, 0.13, 0.01],\n",
       " [0.06, 0.24, 0.11, 0.58],\n",
       " [0.35, 0.25, 0.38, 0.02]]"
      ]
     },
     "execution_count": 141,
     "metadata": {},
     "output_type": "execute_result"
    }
   ],
   "source": [
    "transition_matrix = [[0.37, 0.44, 0.17, 0.02], [0.77, 0.10, 0.13, 0.01], [0.06, 0.24, 0.11, 0.58], [0.35, 0.25, 0.38, 0.02]]\n",
    "transition_matrix"
   ]
  },
  {
   "cell_type": "code",
   "execution_count": 51,
   "metadata": {},
   "outputs": [
    {
     "data": {
      "text/plain": [
       "<8069x17635 sparse matrix of type '<class 'numpy.int64'>'\n",
       "\twith 78340 stored elements in Compressed Sparse Row format>"
      ]
     },
     "execution_count": 51,
     "metadata": {},
     "output_type": "execute_result"
    }
   ],
   "source": [
    "valX"
   ]
  },
  {
   "cell_type": "code",
   "execution_count": 142,
   "metadata": {},
   "outputs": [],
   "source": [
    "def data_sentence_lengths(dialogueFile, labelFile):\n",
    "    with open(dialogueFile) as f:\n",
    "        lines = f.readlines() \n",
    "    with open(labelFile) as f:\n",
    "        labels = f.readlines()\n",
    "    inputs = []        \n",
    "    for line in lines:\n",
    "        line = line.rstrip()\n",
    "        line = line.split(lineSeparator)\n",
    "        inputs.append(len(line[:-1])) \n",
    "    return inputs\n",
    "        \n",
    "    \n",
    "def getData(dialogueFile, labelFile):\n",
    "    with open(dialogueFile) as f:\n",
    "        lines = f.readlines() \n",
    "    with open(labelFile) as f:\n",
    "        labels = f.readlines()    \n",
    "    \n",
    "    inputs = []\n",
    "    for line in lines:\n",
    "        line = line.rstrip()\n",
    "        line = line.split(lineSeparator)\n",
    "        inputs.extend(line[:-1])\n",
    "    \n",
    "    acts = []\n",
    "    for label in labels:\n",
    "        label = label.rstrip()\n",
    "        label = label.split()\n",
    "        acts.extend(label)\n",
    "        \n",
    "    return (inputs, acts)"
   ]
  },
  {
   "cell_type": "code",
   "execution_count": 143,
   "metadata": {},
   "outputs": [
    {
     "data": {
      "text/plain": [
       "array([[0.5       , 0.33333333, 0.25      ],\n",
       "       [0.5       , 0.33333333, 0.25      ]])"
      ]
     },
     "execution_count": 143,
     "metadata": {},
     "output_type": "execute_result"
    }
   ],
   "source": [
    "probs[0:3]\n",
    "a = [[1,1,1],[1,1,1]]\n",
    "b = [2,3,4]\n",
    "a = np.asarray(a)\n",
    "b = np.asarray(b)\n",
    "(a.T / b.reshape(3,1)).T"
   ]
  },
  {
   "cell_type": "code",
   "execution_count": 144,
   "metadata": {},
   "outputs": [
    {
     "name": "stdout",
     "output_type": "stream",
     "text": [
      "1000\n",
      "8069\n",
      "8069\n"
     ]
    }
   ],
   "source": [
    "emission_matrix = []\n",
    "sentence_lengths = data_sentence_lengths(testDataFile, testLablesFile)\n",
    "ind = 0\n",
    "# i = sentence_lengths[0]\n",
    "# emission_matrix = probs[ind:i+1]\n",
    "# start_scores = [0,0,0,0]\n",
    "# end_scores = [0,0,0,0]\n",
    "# emission_matrix = np.asarray(emission_matrix)\n",
    "# transition_matrix = np.asarray(transition_matrix)\n",
    "# start_scores = np.asarray(start_scores)\n",
    "# end_scores = np.asarray(end_scores)\n",
    "temp = np.ones((4,4))\n",
    "probs_np = np.asarray(probs)\n",
    "probs_each = np.array([0.452, 0.286, 0.168, 0.094])\n",
    "probs_normalised = (probs_np.T/probs_each.reshape(4,1)).T\n",
    "# # run_viterbi(emission_matrix, temp, start_scores, end_scores)\n",
    "# run_viterbi(emission_matrix, transition_matrix, start_scores, end_scores)\n",
    "results = []\n",
    "print(len(sentence_lengths))\n",
    "print(len(probs))\n",
    "print(sum(sentence_lengths))\n",
    "for i in sentence_lengths:\n",
    "#     print(i)\n",
    "    emission_matrix = probs_normalised[ind:ind+i]\n",
    "    start_scores = [0,0,0,0]\n",
    "    end_scores = [0,0,0,0]\n",
    "    emission_matrix = np.asarray(emission_matrix)\n",
    "    transition_matrix = np.asarray(transition_matrix)\n",
    "#     print(emission_matrix)\n",
    "    start_scores = np.asarray(start_scores)\n",
    "    end_scores = np.asarray(end_scores)\n",
    "    (score, seq) = run_viterbi(emission_matrix, transition_matrix, start_scores, end_scores)\n",
    "#     (score, seq) = run_viterbi(emission_matrix, temp, start_scores, end_scores)\n",
    "    if len(seq) != i:\n",
    "        print(\"Mismatch\", ind)\n",
    "        print(seq)\n",
    "    results.extend(seq)\n",
    "    ind += i"
   ]
  },
  {
   "cell_type": "code",
   "execution_count": 148,
   "metadata": {},
   "outputs": [
    {
     "data": {
      "text/plain": [
       "array([[0.93735648, 1.28056853, 0.45906154, 1.41436099],\n",
       "       [1.18938173, 0.14700367, 0.32684997, 3.88771929],\n",
       "       [0.4051075 , 0.19086249, 4.25270093, 0.509053  ],\n",
       "       ...,\n",
       "       [0.2149652 , 3.04117905, 0.1137825 , 0.14833044],\n",
       "       [1.45858176, 0.4799067 , 0.68748109, 0.93586067],\n",
       "       [1.03171936, 1.43460712, 0.21853837, 0.9218167 ]])"
      ]
     },
     "execution_count": 148,
     "metadata": {},
     "output_type": "execute_result"
    }
   ],
   "source": [
    "probs_normalised"
   ]
  },
  {
   "cell_type": "code",
   "execution_count": 145,
   "metadata": {},
   "outputs": [
    {
     "data": {
      "text/plain": [
       "8069"
      ]
     },
     "execution_count": 145,
     "metadata": {},
     "output_type": "execute_result"
    }
   ],
   "source": [
    "len(results)"
   ]
  },
  {
   "cell_type": "code",
   "execution_count": 146,
   "metadata": {},
   "outputs": [],
   "source": [
    "results\n",
    "results = list(map(lambda x: str(x+1), results))\n",
    "# results.map(x -> str(x+1))"
   ]
  },
  {
   "cell_type": "code",
   "execution_count": 147,
   "metadata": {},
   "outputs": [
    {
     "data": {
      "text/plain": [
       "0.6750526707150825"
      ]
     },
     "execution_count": 147,
     "metadata": {},
     "output_type": "execute_result"
    }
   ],
   "source": [
    "metrics.accuracy_score(valY, results)"
   ]
  },
  {
   "cell_type": "code",
   "execution_count": 80,
   "metadata": {},
   "outputs": [
    {
     "data": {
      "text/plain": [
       "array([[0.4       , 0.4175    , 0.12916667, 0.05333333],\n",
       "       [0.53      , 0.34      , 0.03      , 0.1       ],\n",
       "       [0.30625   , 0.1       , 0.54375   , 0.05      ],\n",
       "       [0.11      , 0.74      , 0.05      , 0.1       ],\n",
       "       [0.72611317, 0.02905492, 0.11      , 0.1348319 ],\n",
       "       [0.        , 1.        , 0.        , 0.        ],\n",
       "       [0.22480371, 0.        , 0.14518594, 0.63001035],\n",
       "       [0.45314286, 0.24      , 0.18685714, 0.12      ]])"
      ]
     },
     "execution_count": 80,
     "metadata": {},
     "output_type": "execute_result"
    }
   ],
   "source": [
    "emission_matrix"
   ]
  },
  {
   "cell_type": "code",
   "execution_count": 79,
   "metadata": {},
   "outputs": [
    {
     "data": {
      "text/plain": [
       "['2', '1', '3', '2', '1', '2', '1', '2', '1']"
      ]
     },
     "execution_count": 79,
     "metadata": {},
     "output_type": "execute_result"
    }
   ],
   "source": [
    "valY[0:9]"
   ]
  },
  {
   "cell_type": "code",
   "execution_count": 68,
   "metadata": {},
   "outputs": [
    {
     "data": {
      "text/plain": [
       "array([0., 0., 0.])"
      ]
     },
     "execution_count": 68,
     "metadata": {},
     "output_type": "execute_result"
    }
   ],
   "source": [
    "np.zeros(3)"
   ]
  },
  {
   "cell_type": "code",
   "execution_count": 78,
   "metadata": {},
   "outputs": [
    {
     "data": {
      "text/plain": [
       "array([[0.37, 0.44, 0.17, 0.02],\n",
       "       [0.77, 0.1 , 0.13, 0.01],\n",
       "       [0.06, 0.24, 0.11, 0.58],\n",
       "       [0.35, 0.25, 0.38, 0.02]])"
      ]
     },
     "execution_count": 78,
     "metadata": {},
     "output_type": "execute_result"
    }
   ],
   "source": [
    "transition_matrix"
   ]
  },
  {
   "cell_type": "code",
   "execution_count": 77,
   "metadata": {},
   "outputs": [
    {
     "data": {
      "text/plain": [
       "['Good morning , sir . Is there a bank near here ? ',\n",
       " ' There is one . 5 blocks away from here ? ',\n",
       " \" Well , that's too far.Can you change some money for me ? \",\n",
       " ' Surely , of course . What kind of currency have you got ? ',\n",
       " ' RIB . ',\n",
       " ' How much would you like to change ? ',\n",
       " ' 1000 Yuan.Here you are . ',\n",
       " 'Good afternoon . This is Michelle Li speaking , calling on behalf of IBA . Is Mr Meng available at all ? ',\n",
       " ' This is Mr Meng speaking , Michelle . ']"
      ]
     },
     "execution_count": 77,
     "metadata": {},
     "output_type": "execute_result"
    }
   ],
   "source": [
    "valX[0:9]"
   ]
  },
  {
   "cell_type": "code",
   "execution_count": 63,
   "metadata": {},
   "outputs": [
    {
     "data": {
      "text/plain": [
       "['Good morning , sir . Is there a bank near here ? ',\n",
       " ' There is one . 5 blocks away from here ? ',\n",
       " \" Well , that's too far.Can you change some money for me ? \",\n",
       " ' Surely , of course . What kind of currency have you got ? ',\n",
       " ' RIB . ',\n",
       " ' How much would you like to change ? ',\n",
       " ' 1000 Yuan.Here you are . ',\n",
       " 'Good afternoon . This is Michelle Li speaking , calling on behalf of IBA . Is Mr Meng available at all ? ',\n",
       " ' This is Mr Meng speaking , Michelle . ',\n",
       " \" Oh , hello ! Sorry about that . I'm just calling to say that we've received your new Corporate Credit Card from HQ . \",\n",
       " \" That was quick ! I wasn't expecting it until later this week . \",\n",
       " ' Yes , our application procedures have speeded up since we started using the new fast-track system . ',\n",
       " ' Shall I come in and collect it ? ',\n",
       " \" Or we can send it to you . But if you would like to use it at the ATM , you'll need to wait for your PIN number . \",\n",
       " ' Mmmm ... if I come in and collect it this afternoon , is there any way I could use it today ? Petty cash is getting low , so I need to draw some money . ',\n",
       " \" As long as you bring your ID , etc , we can serve you over the counter . But you won't be able to use the ATM until your new PIN number arrives . \",\n",
       " \" I see . Yes , that's fine . I'll be there at around 2:30 pm . See you later , and thanks . \",\n",
       " 'What qualifications should a reporter have ? ',\n",
       " ' As a reporter , he must have acute insight and language skills . At the same time , he must have good judgment , the respect for his job and tactical cooperation with others . ',\n",
       " \" Can you work under pressure ? You know , people working here are all busy everyday since we're daily newspaper . \",\n",
       " \" I think I've got used to work under pressure . I will adjust myself to the step of your newspaper quickly . \",\n",
       " 'Hi , good morning , Miss ? what can I help you with ? ',\n",
       " \" Good morning I'd like to mail this box of books to Taiwan . \",\n",
       " ' OK , please put it on this scale.Airmail or by sea ? ',\n",
       " ' How long does it take to reach Taiwan by sea ? ',\n",
       " ' Usually about two month . ',\n",
       " \" That's too long.How long does it take to reach Taiwan by airmail ? \",\n",
       " ' About ten days . ',\n",
       " ' Then how much is that by airmail ? ',\n",
       " \" Let me see.It ' s 57 dollars , 20 cents , including tax . \",\n",
       " \" That's a little bit expensive . \",\n",
       " \" Although it's expensive to send it by airmail , it's quicker and safer than by sea . \",\n",
       " ' I guess I have to send it by airmail . ',\n",
       " ' Do you want to ensure the contents , Miss ? ',\n",
       " ' Yes , please . ',\n",
       " ' Please fill out this form , also please write the value of the items in this space . ',\n",
       " ' OK . ',\n",
       " \"Excuse me , ma'am . Can you tell me where the nearest postoffice is ? \",\n",
       " \" Of course . Go straight ahead . Turn right at the next street . You'll see a tall , yellow building.The post office is on the first floor . \",\n",
       " ' Do you mean that I go that way for one block , then turn right ? ',\n",
       " ' Yes , you are right . ',\n",
       " ' Is it far ? ',\n",
       " \" No , It's only about five minutes ' walk . \",\n",
       " ' Thank you very much . ',\n",
       " \" It's my pleasure . \",\n",
       " 'Could you give me some advice on how to bring up my son properly ? ',\n",
       " \" He's a bright boy , isn't he ? \",\n",
       " ' But he always wimps out of difficulty . ',\n",
       " \" Don't worry , he'll make good progress step by step . \",\n",
       " \"I'm in 507 . I have a few problems with my room . \",\n",
       " ' What is that problem , sir ? ',\n",
       " ' There are cockroaches in my room . ',\n",
       " ' Are you sure , sir ? Flies I could believe , but cockroaches ? ',\n",
       " \" I've counted nine different cockroaches , and I accidentally stepped on another one . \",\n",
       " ' Sir , we run a spotless and cockroach-less hotel . ',\n",
       " ' You dare to doubt me ? ',\n",
       " \" I'm sorry , sir . Let me transfer you to my supervisor . \",\n",
       " \"Excuse me , sir , I'm afraid you can't park your car here . \",\n",
       " \" Why not ? It's my parking space . \",\n",
       " \" I'm afraid not , sir . \",\n",
       " \" Oh ? That's a surprise . Let me see ... D 0411 Our dog's birthday . Yes , I'm sure this my parking space ! \",\n",
       " ' But I saw a red car always parking here before . ',\n",
       " \" Oh , we've just repainted our car . It was red . \",\n",
       " ' Maybe . But the car of this space has a broken rearview mirror on the left . ',\n",
       " ' Yeah . It used to . We got that fixed yesterday too . ',\n",
       " \" Could you wait for a minute , sir ? I'd like to have a check . \",\n",
       " ' Sure , go ahead . ',\n",
       " ' Sorry , sir , my mistake . This is your parking space . ',\n",
       " \" That's all right . It's not your fault . \",\n",
       " 'What can I do for you today ? ',\n",
       " ' I need to buy a new refrigerator today . ',\n",
       " ' Were you looking at a particular refrigerator ? ',\n",
       " ' I like that Kenmore refrigerator . ',\n",
       " ' This particular refrigerator is a very good choice . ',\n",
       " ' Tell me about it . ',\n",
       " ' Not only is it affordable , but it comes with all the appliances . ',\n",
       " ' What are the appliances . ',\n",
       " ' It has an ice maker , water dispenser , and plenty of room on the inside . ',\n",
       " \" I'd like to see it for myself . \",\n",
       " ' Go right ahead . ',\n",
       " ' I like what I see . ',\n",
       " \"Oh , well . It was fun to be the winner . But ... it's too big . I must be an extra small in the States . \",\n",
       " ' So what about the tennis racket ? ',\n",
       " \" Look ! It's amazing . I can't wait to try it out ! \",\n",
       " ' How much did that end up costing you ? ',\n",
       " ' Oh ... around twenty bucks . A bargain if you ask me . Look at the picture of her playing with it ! ',\n",
       " \" Hey , two for one . That's a super deal . \",\n",
       " \" And here's her signature ! \",\n",
       " 'Can I help you ? ',\n",
       " \" I'm looking for someone who works here , but I lost his business card . His name's Long or Sang or something like that . \",\n",
       " ' Chang ? ',\n",
       " ' Yeah , that sounds right . ',\n",
       " ' There are about twenty people named Chang who work here . What department ? ',\n",
       " ' Let me think ... accounting , finance , something like that . ',\n",
       " ' Eric Chang in accounting ? ',\n",
       " \" That's him ! \",\n",
       " \" I'll call him and tell him you're here . \",\n",
       " ' I appreciate your help . ',\n",
       " \" Would you like to have a seat over there ? It'll just be a minute . And can I have your name ? \",\n",
       " \" Here's my card . \",\n",
       " \" OK . I'll have him come up to get you . \",\n",
       " \"Hello , Sir . You're here to discuss the Network Settlement Service , right ? \",\n",
       " \" Yes , that's right . We want as much info as possible before we agree to anything . \",\n",
       " \" Yes , it's important to be all clued up before you enter into any agreement . To make full use of the Network Settlement Service and take advantage of the whole banking system , we provide internal fund transfers , account inquiry , agency clearing to name but a few . \",\n",
       " ' So , do you think our corporation will be eligible for this ? ',\n",
       " \" Yes , and it's extremely simple . All you need to do is make a Network Settlement Agreement with us . \",\n",
       " 'Dear , time is up , let ’ s go there now . ',\n",
       " ' Just a minute . I ’ m putting on my clothes . ',\n",
       " ' Have you taken the key to the door ? ',\n",
       " ' Yes . Oh , dear , I can ’ t find my hairbrushes . Can you help me ? ',\n",
       " ' Where have you put it ? ',\n",
       " ' I put it in the dressing room . ',\n",
       " ' Are you sure ? ',\n",
       " ' Yes , quite sure . ',\n",
       " ' Then , have you looked downstairs ? ',\n",
       " ' Yes , I ’ Ve looked everywhere downstairs . ',\n",
       " ' Look , dear . It ’ s over there . ',\n",
       " ' Where ? ',\n",
       " ' On the floor . ',\n",
       " \"Excuse me , sir . You can't park here . \",\n",
       " \" I am just waiting for my friends . It won't be long . \",\n",
       " ' Sir , the curb here is not for parking . ',\n",
       " \" But I didn't see the sign , Ma ’ am . \",\n",
       " ' There is a sign at the corner of the street . When you turned in here , you should have seen it . ',\n",
       " \" I didn't see it . \",\n",
       " ' I am sorry , sir . I have to give you a ticket . You can appeal to the court within 14 days . You will avoid paying the fine if you can prove that you are not at fault . ',\n",
       " 'Are you a goal-oriented person ? ',\n",
       " ' Yes , I am . I always make a plan before I do anything . ',\n",
       " ' Where do you want to be in 5 years ? ',\n",
       " \" I don't want to have a specific title . I just want to enjoy what I am doing . \",\n",
       " ' That sounds very reasonable . ',\n",
       " \" It's the most important thing to me . \",\n",
       " ' If you are hired , how long do you plan to stay with us ? ',\n",
       " \" That obviously depends on how things go - - whether I'm suited to the firm and the firm to me . \",\n",
       " ' Tell me about some of your recent goals and what you do to achieve them . ',\n",
       " ' I want to put my knowledge and experience to use in a challenging position . In order to achieve this goal , I just want to work step by step . ',\n",
       " ' What is your long-range objective ? ',\n",
       " \" I haven't thought it over at all . \",\n",
       " ' What do you think is the most important thing when looking for a job ? ',\n",
       " ' I think the most important thing is the interest in the job . ',\n",
       " \"I'd like to open a current account . \",\n",
       " ' Certainly . May I see your social security and your ID , please . ',\n",
       " ' Here you are . I wonder how much interest can I earn from a current account . ',\n",
       " \" Oh , current accounts don't pay out interest . \",\n",
       " ' Why is that ? ',\n",
       " \" It's primarily designed for business transactions . That is , writing checks to pay for bills , buying things and sending money . We won't expect a large amount of deposit in a current account . \",\n",
       " ' I see . How do I draw money for my own use then ? ',\n",
       " 'Good morning , Helen . ',\n",
       " ' Good morning , Steven . ',\n",
       " \" So , what's the status of our advertising campaign ? \",\n",
       " \" It'll be a national campaign starting next week . \",\n",
       " ' What style will the ads be ? ',\n",
       " ' I suggest that we focus on slice of life , showing how you can beat the summer heat by biting into a cool ice-cream sandwich . ',\n",
       " ' Sounds like a good idea . Will we have a new slogan ? ',\n",
       " ' Definitely . ',\n",
       " \"I'd like to taste some local dishes . What would you recommend ? \",\n",
       " \" That's fine . You must try this dish . \",\n",
       " ' Could you tell me how this thing is cooked ? ',\n",
       " \" It's fish steamed and served with our special sauce . \",\n",
       " ' Is it good ? ',\n",
       " \" Sure . It's a most popular dish . \",\n",
       " \" I think I'll try it , and give me some green salad together . \",\n",
       " ' We have two dressings for salad . Which one would you like ? ',\n",
       " ' What kind do you have ? ',\n",
       " ' We have French and Thousand Island . ',\n",
       " ' Make it Thousand Island . ',\n",
       " 'Taxi ! ',\n",
       " ' Where will you go , sir ? ',\n",
       " ' Friendship Hotel . ',\n",
       " \" OK , it's not far from here . \",\n",
       " ' I have something important to do , can you fast the speed ? ',\n",
       " \" Sure , I'll try my best . Here we are . \",\n",
       " ' How much should I pay you ? ',\n",
       " ' The reading on the meter is 15 yuan . ',\n",
       " \" Here's 20 yuan , keep the change . \",\n",
       " ' Thank you very much . ',\n",
       " 'Mr . Johnson ’ s office . Cindy speaking . ',\n",
       " ' Hi , Cindy . It ’ s Michael Kurt . Is Mr . Johnson in ? ',\n",
       " ' No , I ’ m sorry , Mr . Kurt . He ’ s stepped out for a bit . Would you like me to have him call you ? ',\n",
       " ' Yeah , that ’ ll be great . I ’ m on extension 4283 . ',\n",
       " 'Hi , Mark . ',\n",
       " ' Hi , Bill . I ’ d like to take the apartment I looked at yesterday . ',\n",
       " ' All right . ',\n",
       " ' So , what do we do now ? ',\n",
       " ' This is the lease . You should read the lease very carefully before you sign it because it describes your legal rights and responsibilities as a tenant . The lease also describes our rights and responsibilities as landlords . ',\n",
       " ' Okay . ( Reads the lease ) So , according to the lease , I ’ ll deposit one month ’ s rent as a security deposit , and I have to pay the first month ’ s rent in advance . I understand that I ’ ll get the security deposit back when I move out if the apartment does not need any costly repairs . ',\n",
       " ' Yes . If you do not damage the apartment , you will get your security deposit back when you move out . ',\n",
       " ' Can I pay you by check ? ',\n",
       " ' Sure . A check will be fine . ',\n",
       " ' Is there a laundry room in the basement ? ',\n",
       " ' Yes . ',\n",
       " ' Can I sign the lease right now ? ',\n",
       " 'Good morning ! What can I do for you ? ',\n",
       " \" I'm thinking of travelling to Suzhou in July . Could you recommend some tourist programs for that ? \",\n",
       " ' With pleasure . We arrange two kinds of tourist programs for Suzhou , a six-day tour by train and a five-day flying journey . ',\n",
       " ' How much does a six-day tour by train cost ? ',\n",
       " ' Five hundred yuan . ',\n",
       " ' Does that include hotels and meals ? ',\n",
       " ' Oh , yes , and admission tickets for places of interest as well . ',\n",
       " ' That sounds reasonable . What about the five-day flying journey ? How much is that ? ',\n",
       " ' Eight hundred and fifty yuan . ',\n",
       " ' Covering all expenses ? ',\n",
       " ' Yes . But there is no half fare for children . They must pay full fare . ',\n",
       " \"I can't believe you wear jeans to the office ! Are you trying to lose your job ? \",\n",
       " \" Of course not . I'm just observing casual day . On Fridays , the company doesn't require us to wear formal business attire . \",\n",
       " \" Wow ! Nobody told me about that . Won't the relaxed dress code damage the company image ? \",\n",
       " \" We don't think so . Casual days are becoming more common , and we believe employees can maintain a professional image without wearing uncomfortable clothes . \",\n",
       " \" I guess it lets people express their individual tastes . But won't some people abuse it ? \",\n",
       " \" Not really . Besides , there is a separate dress code for casual day . People can't just wear whatever they want . \",\n",
       " ' It seems that a relaxed atmosphere could hinder productivity . ',\n",
       " ' Believe it or not , it has the opposite effect . Employees are actually more productive on casual days . ',\n",
       " 'ABC Company , my name is Lucy . How can I help you ? ',\n",
       " ' Hello , Lucy , this is Monica . I ’ m calling for the accountant position . I saw the information about the vacancy on your company ’ s website . Is it still available ? ',\n",
       " ' Thank you for your interest . The position is still available . Have you already sent your CV to us ? ',\n",
       " ' No , not yet . First , I want to check about the availability and see if you could give more information . ',\n",
       " ' It is urgent for us to fill this position now and I would like to stress that English is a must because of the international contacts and most likely traveling abroad very soon . If all these is not problem for you , I recommend you to mention these in your cover letter and send it to me directly . ',\n",
       " ' The notification period of my current job is not that long and I ’ m quite profession to English and I am happy with the traveling abroad as I ’ m good dealing with the people from other cultures . It makes the whole job even more interesting . I will send my resume to you still this week . ',\n",
       " 'Can I help you ? ',\n",
       " ' Yes , do you have any rooms available ? ',\n",
       " ' A single ? ',\n",
       " ' No . I need a double and three triples . My family is waiting for me in the car . ',\n",
       " ' Please fill out this form , sir . ',\n",
       " ' Ok ... Here you are . ',\n",
       " ' Here are your keys . Check out time is noon . ',\n",
       " ' Is breakfast included ? ',\n",
       " ' No . ',\n",
       " \"Why didn't you go to school yesterday ? \",\n",
       " \" I stayed home because I wasn't feeling well . \",\n",
       " ' What was your problem ? ',\n",
       " ' My stomach was bothering me . ',\n",
       " ' Are you feeling any better ? ',\n",
       " \" I'm still feeling a little sick . \",\n",
       " \" I'm going to the store , would you like any Pesto Pistol ? \",\n",
       " \" I'd appreciate that . \",\n",
       " 'Excuse me , but please empty your pockets of all the metal things and put them in this tray . ',\n",
       " ' Including my keys ? ',\n",
       " ' Yes , and please step over there . ',\n",
       " ' All right . What shall I do now ? ',\n",
       " ' Just open your bags so we can check them . After that you can pick them up right behind that X-ray machine . ',\n",
       " \" I've got film in my bag . \",\n",
       " \" That's all right . This machine will not damage the film . \",\n",
       " \" That's fine . \",\n",
       " ' Can I have your boarding pass ? We need to stamp it . ',\n",
       " ' Sure . Here you are . ',\n",
       " ' Thank you . ',\n",
       " ' Am I through now ? ',\n",
       " ' Yes . Here is your boarding pass . ',\n",
       " ' Thank you and goodbye . ',\n",
       " 'Welcome to Flash Foot , sir.How can I help you ? ',\n",
       " ' I ’ d like extra prints made of these photos . ',\n",
       " ' Do you have your negatives ? ',\n",
       " ' Yes.Here they are . I ’ Ve marked how many prints I want on each shot . ',\n",
       " ' What size do you want the prints ? ',\n",
       " ' Four by six , except this one . I want a ten by thirteen print of this one . ',\n",
       " ' Okay , they ’ ll be ready for you in an hour . ',\n",
       " 'Is there anything I can do for you ? ',\n",
       " \" I'm interested in taking a tour to Sydney . \",\n",
       " ' Well , we have a package tour there . ',\n",
       " ' How much does it cost ? ',\n",
       " ' $ 600 . ',\n",
       " ' Does that include the insurance ? ',\n",
       " ' Of course . ',\n",
       " 'Hello , Mr . Wang . I am glad to meet you here at the fair . ',\n",
       " ' Like wise . Take a seat , please . How about a cup of tea ? ',\n",
       " ' Sure . Thank you . It seems your business is prosperous . There are many customers here . ',\n",
       " \" Yes , it's not too bad . Our sales are going up year after year . And we still have a large potential production capacity . \",\n",
       " ' Well , what do you think of choosing a commission representative or agent abroad to promote your sales ? ',\n",
       " \" That's a good idea . So far , we have several agents abroad . \",\n",
       " ' We are willing to be your agent in Thailand for hand-held tools . What do you think ? ',\n",
       " ' That sounds good . ',\n",
       " \" Then , what's your usual commission rate for your agents ? \",\n",
       " ' Usually , we give a commission of 4 % to our agents . ',\n",
       " ' 4 % is too low , I think . You see , we have a lot of work to do in sales promotion , such as advertising on radio or TV , printing booklets , leaflets , catalogues and so on . It all costs money , 4 % is not enough . ',\n",
       " \" Don't worry . We'll allow you a higher commission rate if your sales score a substantial increase . \",\n",
       " ' You mean to saya ',\n",
       " ' It sounds OK . Then how do you pay the commission ? ',\n",
       " ' We may deduct the commission from the invoice value directly or remit it to you after payment . ',\n",
       " \" All right . If it's okay , we would like to sign an agency agreement with you immediately . \",\n",
       " ' Think it over . We hope to keep a good business relationship with you . ',\n",
       " ' Thank you for your help . ',\n",
       " \"I'm glad these batteries are on sale . \",\n",
       " \" I'm sorry . These batteries are not on sale . \",\n",
       " \" But that's what the ad said . \",\n",
       " \" I'm sorry . If you look at the ad again , you'll see that the other brand is on sale . \",\n",
       " \" Oh . You're right . I misread the ad . \",\n",
       " ' Yes , many people make that mistake . ',\n",
       " \" Well , you can't blame them . It's a confusing ad . \",\n",
       " \" You're right . Many ads are like that . \",\n",
       " \" Well , as long as I'm here . \",\n",
       " \" Just one second , and I'll give you the batteries that are on sale . \",\n",
       " 'Hi , Jack , we are having a party tonight , wanna coming enjoy us ? You can bring your girlfriend , Tina . ',\n",
       " \" I don't have a girlfriend . I'm single . \",\n",
       " \" Oh , that's right . Well , there are going to be many beautiful girls at the party tonight , anyway . \",\n",
       " \" No , I like being single . I never thought lonely , I'm focus on my career . Maybe I'll start to look for my girl when I achieve success . \",\n",
       " ' Why is that ? ',\n",
       " \" Because I'm living a real world , a man enriched have a good career and make a lot of money . Franklin speaking the girls I've met wounldn't married a man wounldn't make enough money . \",\n",
       " \" I agree , a man needs good career.But that doesn't mean he should have a little fun , too . \",\n",
       " 'So , Casey , how are things going with the photos for the press kit ? ',\n",
       " ' Yeah , I ’ Ve been meaning to talk to you about that . I might need to ask for an extension on that deadline . ',\n",
       " ' You ’ Ve had over a month to get this finalized ! Why are things delayed ? ',\n",
       " ' Well , the thing is , we ran into a lot of problems . . . ',\n",
       " ' I ’ m not looking for excuses here . I just want to get this finished on time ! ',\n",
       " ' I know , and I apologize for the delay . But some things were just beyond my control . I had trouble booking the photographer , and then Michael was sick for three weeks , so I couldn ’ t include him in the photos , and the design team lost all the files , so I had to re-do the pictures . ',\n",
       " ' I ’ m not going to put this off any longer , Casey ! I want those photos ASAP ! ',\n",
       " 'Yes , sir ? ',\n",
       " \" Can I have Mr . J . Smith paged ? He said he'd be in the main dining room . I'm Mr . J . B . White . \",\n",
       " ' Who would you like to have paged again , sir ? ',\n",
       " ' Mr . J . Smith . ',\n",
       " ' Where would you like him to come ? ',\n",
       " ' To the front desk . ',\n",
       " ' Just a moment , please . ',\n",
       " 'Can you help me find a lotion for a problem I am having ? ',\n",
       " ' That ’ s what I am here for . What questions can I answer for you ? ',\n",
       " ' I have poison oak , and I need help with the rash that won ’ t stop itching . ',\n",
       " ' The best product is Techne , and you can buy either the lotion or cream . ',\n",
       " ' Which one is best ? ',\n",
       " ' The cream form is very popular . ',\n",
       " ' Can I do anything else to help with the itching ? ',\n",
       " ' You could also take an antihistamine to help the rash go away quicker . ',\n",
       " ' I appreciate you helping me find a solution to the itching . ',\n",
       " ' Anytime you have a question , please feel free to ask . ',\n",
       " 'Excuse me . Something is wrong with my bank card . Can you help me ? ',\n",
       " \" Yes . What's the problem ? \",\n",
       " \" Just a mistake with my name . It should be issued as Steven , but the card is under the name ' Steven ' . \",\n",
       " \" Oh , I am very sorry about that . It's our fault . I will arrange someone to correct it immediately . \",\n",
       " ' OK , no problem . To err is human . ',\n",
       " ' Anyway , we apologize for the inconvenience we have brought you . Please just wait for a moment , and it will be fixed . ',\n",
       " ' Thank you very much . ',\n",
       " 'We are doing Secret Santa at the office again this year . ',\n",
       " ' Whose name did you pick ? ',\n",
       " ' I got Jacob . Any ideas what to get him ? ',\n",
       " ' Booze ! ',\n",
       " ' Yeah , you ’ re right . Can ’ t go wrong with that . ',\n",
       " 'Is everything to your satisfaction ? ',\n",
       " ' No , the steak was recommended , but it is not very fresh . ',\n",
       " ' Oh , sorry to hear that . This is quite unusual . I will look into the matter . ',\n",
       " ' This is very annoying . ',\n",
       " \" I'm sorry , sir . Do you wish to try something else ? That would be on the house , of course . \",\n",
       " \" No , I don't risk it . \",\n",
       " ' How about a delicious dessert then , with our compliment ? ',\n",
       " \" I'm not keen on dessert as a habit . They are fattening . \",\n",
       " \" I see , sir . I'm sure everything will be right next time you come . \",\n",
       " 'Excuse me , are you Jane ? ',\n",
       " \" No , I'm Mary . \",\n",
       " ' Oh , are you in Class Four ? ',\n",
       " \" No , I'm in Class There . \",\n",
       " \"Excuse me , but I'm not feeling too well . I think I'm going to throw up . \",\n",
       " \" There's an airsickness bag behind the seat that's in front of you . \",\n",
       " \" I must've missed it . \",\n",
       " ' Is this your first time flying ? ',\n",
       " \" Yes . I'm going to San Francisco . \",\n",
       " \" Oh , it's a beautiful city . I think you'll like it . \",\n",
       " \" Hey , I'm feeling much better already . \",\n",
       " \" Sometimes if you don't think about it , that sick feeling will go away on its own . \",\n",
       " ' Thanks . By the way , my name is Mary . ',\n",
       " \" I'm Frank . Nice to meet you . \",\n",
       " \"Welcome to Al's Bakery . What can I get you ? \",\n",
       " ' Hi ! Let me get a dozen croissants , four blueberry muffins and a loaf of sourdough bread . ',\n",
       " ' Sure . Would you like to have the loaf sliced ? ',\n",
       " \" No , that's OK . Do you have any whole wheat bread ? \",\n",
       " ' We are out at the moment . May I suggest some rye bread ? ',\n",
       " ' Sure that sounds good . Do you have any cakes ? ',\n",
       " ' We have various birthday cakes and also ice cream cakes . ',\n",
       " \" I'll just take a cheesecake . \",\n",
       " ' Will that be all ? ',\n",
       " ' Yes . ',\n",
       " ' Your total is forty three dollars and twenty cents . ',\n",
       " \"Good morning , ladies and gentlemen , we are happy you have all come out for our training workshop . Today we have a great line-up of speakers to talk to you . First on our program is a well-renown expert in the field of international economic development , Harvard's own Dr . James Smith . Dr . Smith has been involved in economic research for over twenty years , and has taught at Harvard since 1995 . And now , without further adieu , we'd like to welcome Mr . James Smith . \",\n",
       " \" Thank you , Mr . Jackson , ladies and gentlemen , colleagues , friends . The subject of my talk is international relations in a morgen world . I plan to say a few words about the current situation in the Middle East and how it affects world economy . I'd like to give you an overview of the way that the economies of seemingly unrelated countries are intertwined . I've divided my talk into three parts , first an overview of international relations , second a discussion of current political situations , and lastly trends for the future . My presentation will take about two hours , but there will be a twenty-minute break in the middle . We'll stop for lunch at 12 . \",\n",
       " \"You're looking rather pale , why ? \",\n",
       " \" I couldn't sleep well recently . \",\n",
       " \" You'd get plenty of sleep for you work so hard . \",\n",
       " ' I always drink too much wine in the evening . ',\n",
       " \" You shan't drink more wine in the evening . \",\n",
       " ' Yes , you are right . ',\n",
       " \" And you'd take some exercise every day . \",\n",
       " ' Many thanks for your advice . ',\n",
       " 'Hello Mrs Parker , how have you been ? ',\n",
       " ' Hello Dr Peters . Just fine thank you . Ricky and I are here for his vaccines . ',\n",
       " \" Very well . Let's see , according to his vaccination record , Ricky has received his Polio , Tetanus and Hepatitis B shots . He is 14 months old , so he is due for Hepatitis A , Chickenpox and Measles shots . \",\n",
       " ' What about Rubella and Mumps ? ',\n",
       " ' Well , I can only give him these for now , and after a couple of weeks I can administer the rest . ',\n",
       " ' OK , great . Doctor , I think I also may need a Tetanus booster . Last time I got it was maybe fifteen years ago ! ',\n",
       " \" We will check our records and I'll have the nurse administer and the booster as well . Now , please hold Ricky's arm tight , this may sting a little . \",\n",
       " 'I ’ m interested in teaching at your school . ',\n",
       " ' Great . Are you a qualified teacher ? ',\n",
       " ' Yes . ',\n",
       " ' What kind of teaching certificate do you have ? ',\n",
       " ' I have a TEFL certificate . ',\n",
       " ' How many years of experience do you have ? ',\n",
       " ' I have three years of teaching ESL and four years of teaching per-school children . ',\n",
       " ' When did you get your TEFL certificate ? ',\n",
       " ' I got my TEFL certificate three years ago . ',\n",
       " ' Why do you want to teach at our school ? ',\n",
       " ' Well , I ’ Ve heard many good things about it . I also like teaching young children . ',\n",
       " ' That ’ s great . Can you speak Chinese ? ',\n",
       " ' Yes , just a little . ',\n",
       " ' Can you come in for an interview tomorrow at 10:00 ? ',\n",
       " ' I sure can . ',\n",
       " ' Great . See you then . ',\n",
       " 'Why is the car before us stopping ? ',\n",
       " \" What's going on ? \",\n",
       " \" Look . Two cars are standing right in the middle of the road and the drivers are shouting rude words to each other . That's why that car stops . \",\n",
       " ' More and more people easily get irritated while driving . ',\n",
       " ' Yes . This is what is called road rage . ',\n",
       " 'This is today ’ s schedule . At 8 thirty AM , conference with the department managers . At 9 o ’ clock , live for the workshop where you ’ ll award prizes to the staff for preventatives . ',\n",
       " ' That ’ s great . What are the prizes ? ',\n",
       " ' 3000 RIB as bonus for each person . ',\n",
       " ' To encourage the staff increases . ',\n",
       " ' Ok . Next thing is laying the corner-stone for the new plant at 10 AM . At 12 AM , back here for lunch . ',\n",
       " ' What about the afternoon ? ',\n",
       " ' At 2 PM , give a presentation here with the press . At four o ’ clock sharp , have dinner with Mr . Smith , manager of NCC . ',\n",
       " 'This is Lincoln Bank , Consumer Credit Department . How can I help you ? ',\n",
       " \" Ah , hello . I'm calling to find out how I apply for a car loan . \",\n",
       " ' We offer a Personal Automobile Consumer Loan . The application process is pretty straight forward . I trust you have enough funds to cover the 20 % down payment ? ',\n",
       " \" Yes , I do . It's ready and waiting in my account . \",\n",
       " ' The next step is for us to recommend a dealer to you , who are already contracted to us , so ... ',\n",
       " ' Could I just stop you there ? Sorry to interrupt , but I have already been to your appointed dealer and selected the car I want . ',\n",
       " ' That will certainly cut down the processing time . We can move on to the next step . Do you have the purchase price ? ',\n",
       " \" Yes , it's 110,000 RIB . So , with the down payment done , I will need to borrow 70,000 RIB . \",\n",
       " ' What we need you to do next is to come into the branch with a correctly filled in application form , ID card , proof of residency , proof of income , the agreement from the agent and of course the 20 % down payment . ',\n",
       " \" Yes , I have everything here . OK , I'll come in and see you later today . Maybe I could have my new car as early as next week ! How exciting ! \",\n",
       " 'Hi , my name is Tom . ',\n",
       " \" Tom , the new sales representative ? Nice to meet you ! I'm Melinda . \",\n",
       " ' Nice to meet you too.Melinda . ',\n",
       " ' Now let me show you around . This is our reception area , and our conference room is right over there . Over here is the sales department . ',\n",
       " \" Really ? This is a nice office , but it's quite small . \",\n",
       " ' Yeah ... You can make photocopies and send faxes over there . ',\n",
       " ' It looks like you guys work hard . ',\n",
       " ' I tell you what just between you and me , we just mess things up so that it looks like we work hard.Just kidding . Oh , your cubicle is over the . And this way . Those are all private offices the managers offices . ',\n",
       " ' Hmm ... Tell me more details about our jobs . ',\n",
       " ' Sure thing . ',\n",
       " 'What do you think of our price ? ',\n",
       " \" Your price has gone up sharply , hasn't it ? \",\n",
       " ' Yes . We regret we cannot maintain our original price . Since the prices of the raw materials have been raised , we have to adjust the price of our products accordingly . ',\n",
       " ' I agree with you there , but your price is unreasonable . ',\n",
       " \" I don't think so . You must compare our price with that of other export houses . I'm sure our offer is in line with the prevailing market price level . \",\n",
       " \" I don't think we'll be able to pay the price . To have this business concluded , you need to lower your price at least by 3 % . \",\n",
       " ' I ’ m afraid that there is no room for any reduction in price . ',\n",
       " \" Don't you agree with me that in the long run , moderate prices will bring about large sales and more profit ? \",\n",
       " \" We've already cut down our price to cost level . \",\n",
       " ' Is that all ? ',\n",
       " ' Yes , this is the best we can do . ',\n",
       " \" I'm sorry we can't handle the price you offered . \",\n",
       " 'So , Jimmy , how does it feel to have your own money ? ',\n",
       " ' It ’ s great , dad . I don ’ t mind delivering papers , but the real fun is collecting the money . ',\n",
       " ' Even though you are only twelve , it ’ s not too early to start saving a little money . ',\n",
       " ' I ’ Ve never had a bank account before . Why don ’ t I just keep my money under the matters like grandpa does ? ',\n",
       " ' You know you would spend it . And also , money in the bank earns interest . ',\n",
       " ' But what if I need my money suddenly ? ',\n",
       " ' The bank will give you a PIN , and you can withdraw money from any ATM . ',\n",
       " ' Great ! So it ’ s almost the same as keeping it under the matters ! ',\n",
       " ' Not quite . You have to maintain a minimum balance of twenty dollars . And sometimes the bank has service charges . But you don ’ t have to worry about that yet . Let ’ s go make your first depot ',\n",
       " ' OK . Guess I have to do that before . I can make money my first withdrawal . ',\n",
       " 'Is this where I can catch a bus to the theater ? ',\n",
       " \" Yes , but you can't get there with out a change . \",\n",
       " ' Which bus do I have to change ? ',\n",
       " ' You have to get off at the hospital and change for bus 15 . ',\n",
       " ' I see . Thank you . ',\n",
       " 'Here we are , Joan . This is the Palace museum , also known as the Forbidden city . ',\n",
       " ' Oh , how splendid ! Can you take a picture of me here ? ',\n",
       " ' Sure . ',\n",
       " \"Excuse me . I'm afraid I got lost . Where am I on this map ? \",\n",
       " ' We are here , bus station , we are in the heart of the city . ',\n",
       " ' Oh ! Can I go from here to the Zhongshan Park ? ',\n",
       " ' Head straight up the street about two blocks then turn right . ',\n",
       " 'Tony , could you tell me if there are any special rules about the job ? ',\n",
       " \" Working hours are from 8: 30 a . m . to 5:00 p . m . Be sure not to be late or absent . Report to the manager by filling in the ' Monthly Report ' every month . \",\n",
       " ' Is there anything else ? How about my salary ? ',\n",
       " \" Our company has a strict and reasonable salary standard . On the 20th day of every month , you can get your salary on time . Benefits depend upon the length of service and the employee's past attendance record . \",\n",
       " ' Wow , thank you for telling me these . Do you mind telling me something else , like attendance record , holiday , and how to ask for leave ? ',\n",
       " \" All new members are likely to ask the same questions . Haha . I can understand that . Every month you have three days off , besides the weekends and some important holidays . After you've been here for a year , you qualify for a one-week vacation . The leave less than a half-day should predict for an hour , and more than a half-day should predict three days . \",\n",
       " \" Okay , that's good . I get it . \",\n",
       " \"Kate , you never believe what's happened . \",\n",
       " ' What do you mean ? ',\n",
       " ' Masha and Hero are getting divorced . ',\n",
       " ' You are kidding . What happened ? ',\n",
       " \" Well , I don't really know , but I heard that they are having a separation for 2 months , and filed for divorce . \",\n",
       " \" That's really surprising . I always thought they are well matched . What about the kids ? Who get custody ? \",\n",
       " ' Masha , it seems quiet and makable , no quarrelling about who get the house and stock and then contesting the divorce with other details worked out . ',\n",
       " \" That's the change from all the back stepping we usually hear about . Well , I still can't believe it , Masha and Hero , the perfect couple . When would they divorce be final ? \",\n",
       " ' Early in the New Year I guess . ',\n",
       " 'Overseas operator . ',\n",
       " ' I would like to make a collect call to Taipei , Taiwan , please . ',\n",
       " ' Your name , please . ',\n",
       " ' Tim Chen . ',\n",
       " \" What's the number , please . \",\n",
       " ' The area code is 2 , and the number is 2367-9960 . ',\n",
       " ' The line is connected . Please go ahead . ',\n",
       " 'Hello . Excuse me . ',\n",
       " ' Yes . Can I help you ? ',\n",
       " ' Do you remember me ? I just had lunch here a half hour ago . ',\n",
       " ' Of course I remember you . ',\n",
       " ' I think I lost my wallet here . ',\n",
       " \" Oh , no . Really ? I didn't see anything . \",\n",
       " \" Really ? You didn't find a wallet ? \",\n",
       " \" No , I didn't . Would you like to go look by the table with me ? \",\n",
       " \" Yes , I would . It's not here . And it's not on the floor.Has anyone sat at this table since we left ? \",\n",
       " \" No . It's been empty the whole time . \",\n",
       " \" Hmm . I don't know how it could have happened . \",\n",
       " \" I remember , sir , that your friend took the bill.You didn't pay for the lunch yourself , did you ? \",\n",
       " ' No . My friend did . ',\n",
       " ' Then are you sure you took your wallet out of your pocket while you were here ? ',\n",
       " \" No , I'm not sure . But I usually take out my wallet when I sit down.It ' s uncomfortable to sit on it . So I usually put it next to me on the table . \",\n",
       " ' Maybe you lost it before you came here . Or maybe you left it at home . ',\n",
       " \" I don't think it's at home . I think I had it when I left the house.But what should I do ? \",\n",
       " \" Well , the first thing you should do is make sure it's not at home.Then , if it isn't , you need to call your credit card companies and cancel your cards . Next , you need to replace whatever you lost , your driver's license , things like that . \",\n",
       " ' Should I call the police ? ',\n",
       " \" You can if you want . But the police usually don't do anything about lost wallets . \",\n",
       " \" Hmm . I'll go home and check . Maybe you're right . Maybe it's at home . \",\n",
       " \" I'm sorry we couldn't find it , sir . \",\n",
       " ' Thanks for your help . ',\n",
       " 'Good morning , young lady . You can call me Ma . Do you see anything you like ? ',\n",
       " ' Yes . Many things ! I especially love this beautiful quilt . ',\n",
       " ' That quilt was passed down to me from my ma in Holland . ',\n",
       " ' It sounds like a special quilt . Why do you want to sell it ? ',\n",
       " \" Well , this home is too big for me now , so I'm moving to an apartment that is much smaller . Therefore , I need to part with a few things . \",\n",
       " ' Oh , I see . Umm , how much do you want for the quilt ? ',\n",
       " ' Is fifteen dollars OK ? ',\n",
       " 'Have you got change for a thousand ? ',\n",
       " ' Let me see . ',\n",
       " 'May I come in , Mr Sun ? ',\n",
       " ' I ’ d rather you didn ’ t , Miss Yang . I ’ m very busy now . ',\n",
       " ' Can I try later then ? ',\n",
       " ' Yes , of course . ',\n",
       " ' Is it all right for me to come in now , Mr Sun ? ',\n",
       " ' Well , uh ... I ’ m still pretty busy , but ... all right . Come in . What can I do for you ? ',\n",
       " ' Do you mind if I sit down ? ',\n",
       " ' Not at all . Take a seat . Now what can I do for you ? ',\n",
       " ' I want to leave the department . Do you think I could put info a transfer ? ',\n",
       " ' Yes . But why should you want to do that ? ',\n",
       " ' Do you mind if I speak frankly ? ',\n",
       " ' Not at all . Go ahead . ',\n",
       " ' Well . You see , I don ’ t like the office . I don ’ t like the staff . And I ’ m afraid of you . And I don ’ t want to go one . So may I put info a transfer ? ',\n",
       " ' Yes . I ’ d be delighted if you did . ',\n",
       " 'Where is that ? ',\n",
       " ' Take me to the airport , please . ',\n",
       " ' Are you in a hurry ? ',\n",
       " \" I have to be there before 17 o'clock . \",\n",
       " \" We'll make it except a jam . You know it's rush hour . \",\n",
       " \" There's an extra ten in it for you if you can get me there on time . \",\n",
       " \" I'll do my best . \",\n",
       " \" Here's twenty dollars . \",\n",
       " ' Do you have small bills ? ',\n",
       " \" No . If you can't break it , keep the change . But can you give me a receipt ? \",\n",
       " ' Here is your receipt . Thank you . ',\n",
       " \"Recently I have been getting headache and my eyes don't seems to see focus properly . \",\n",
       " ' When did you last time have your eyes checked ? ',\n",
       " ' Two years ago . At that time I had no problems.Now I can ’ t even make out something ten meters away . ',\n",
       " ' Come over here . I will test your eyes . First cover your left eye like this , and when I point , please read the chart from the top , and go as far as you can , telling me which way the “ E ” points . ',\n",
       " ' All right . ',\n",
       " ' Good.Now the other eye . ',\n",
       " ' Well , this one is worse . ',\n",
       " ' Never mind , just read as far as you can . ',\n",
       " ' I can only read the first three lines . ',\n",
       " 'Is there a car park near the supermarket ? ',\n",
       " ' Yes , there is an underground car park near the supermarket . ',\n",
       " ' I see . Thanks . ',\n",
       " 'Oh , come on , Ultraman ! ',\n",
       " \" What's up , Bro ? What's in the bulletin ? \",\n",
       " ' It says that there will be a blackout from 5 p . m . to 7 p . m . in our neighborhood today . ',\n",
       " ' Blackout ? Even the TV has the limit . ',\n",
       " \" Don't you know you will look like a monster in the blackout ? \",\n",
       " \" Oops , no , Daddy can't watch American Idol , either ! \",\n",
       " \" That's not the point . Come on , can you imagine that there will be no electricity on such a hot day ? \",\n",
       " ' Oh , my god ! No air-conditioner ! ',\n",
       " \" OK , since you are the smart one , can you come up with a better plan ? So that we won't be baked like cookies here . \",\n",
       " ' How about playing Barbie out there in the neighborhood ? ',\n",
       " \" Barbie ? You know , I might be seven , but I'm not a girl . \",\n",
       " ' Do you have a better plan ? ',\n",
       " ' All right , all right . ',\n",
       " \"Yes , ma'am , how could I help you ? \",\n",
       " ' I am wondering if you do facial care ? ',\n",
       " ' Yes , we do . ',\n",
       " ' How much would it be ? ',\n",
       " ' From 200 to 800 . ',\n",
       " \" I'm afraid 800 is too expensive for me . Could you recommend something around 300 ? \",\n",
       " ' No problem . ',\n",
       " 'Can I help you , Miss ? ',\n",
       " ' I would like to order 2 office-style cabinets and desk calendars . We want office-style cabinets in white . The catalogue number is 90 - f - 2356 . ',\n",
       " ' How soon do you want it ? ',\n",
       " ' Could you deliver it tomorrow ? ',\n",
       " ' No problem . ',\n",
       " ' Please handle the items carefully . ',\n",
       " ' Certainly . ',\n",
       " ' We will pay by collect on delivery . ',\n",
       " 'I hate to do this to you , Alice , but I ’ m going to have to ask you to put in some more overtime . ',\n",
       " ' Does it have to be this afternoon , Mr . Fairbanks ? I ’ Ve already made plans . ',\n",
       " ' Well , I would have preferred to do it today , but if you ’ Ve already made plans , we can do it tomorrow . ',\n",
       " ' I ’ d appreciate that , sir . How long do you think you ’ ll need me to stay ? ',\n",
       " 'What ’ s your attitude when do wrong things at work ? ',\n",
       " ' The buck stops here . ',\n",
       " 'Hello ! Is your company advertising for administrative assistant on the newspapers ? ',\n",
       " ' Well , Administrative assistant with shorthand and typing skills are badly needed here . ',\n",
       " ' First I want to check about the availability and see if you could give me more information . ',\n",
       " ' The position calls for a person with some working experience . We must be able to benefit from your analytical and interpersonal skills . Can you deliver your resume to us first ? ',\n",
       " \" Of course . I will deliver my resume to you in minutes ' time . I hope you will consider my application and I shall appreciate a reply at your earliest convenience . \",\n",
       " ' OK . I will call you soon . Bye now . ',\n",
       " ' Bye . ',\n",
       " 'Just as the saying goes , every potter praises his own pot . You should pay special attention to selling yourself properly in the interview . ',\n",
       " ' It is especially important for the graduates who step into the job market for the first time . ',\n",
       " \" You'd better prepare what you are going to say in advance , in order to have a good performance in the interview . \",\n",
       " ' The contents should be mainly descriptions of your background . And the length depends on the particular situation . ',\n",
       " ' Only when you are aware of what the interviewer will be interested in , can you make a targeted preparation . ',\n",
       " ' To sell yourself successfully , you should leave the interviewer a deep impression . ',\n",
       " ' Selling yourself should go straight to the point , and the statement should be clear and brief . ',\n",
       " ' It should also be truthful and realistic . Do not blindly blow your own horn . ',\n",
       " ' You should particularly state your strong points which are closely related to the position you are applying for . ',\n",
       " ' While you should not omit your weak points , they need to be described appropriately ',\n",
       " ' Time permitted , you could add certain examples to your description . ',\n",
       " ' Besides , in the interview , it is best that you make corresponding adjustments to apply your prepared contents flexibly . ',\n",
       " 'Hello ? ',\n",
       " \" Hi , Deborah ! This is John . I'm calling from Australia . \",\n",
       " ' What are you doing in Australia ? ',\n",
       " \" I'm attending a conference in Sydney this week . Remember ? \",\n",
       " ' Oh , right . What time is it there ? ',\n",
       " \" It's 10:00 P . M . And it's four o'clock in Los Angeles , right ? \",\n",
       " \" Yes - four o'clock in the morning . \",\n",
       " \" 4:00 A . M . ? I'm really sorry . \",\n",
       " \" That's OK . I'm awake now . \",\n",
       " \"John hasn't turned up and Stefan is ill . Do we have anyone on stand-by ? \",\n",
       " \" I'm afraid not , we're very short-staffed at the moment . Can you ask the shift supervisor to ask one of his team to do some overtime ? Perhaps Tommy can stand in for an hour or two until we find a replacement . \",\n",
       " 'Jack , let ’ s go ! ',\n",
       " ' Oh , you are out of breath ! What happened ? ',\n",
       " ' Some people are wildly shooting on the next street . We must leave here as soon as possible ! ',\n",
       " ' Take it easy . They will get caught . ',\n",
       " 'Hello . May I speak to Jerry , please ? ',\n",
       " ' Sorry , but he is out for lunch right now . ',\n",
       " \" I see . Can you give me some idea how long he'll be back ? \",\n",
       " \" I think he will be back around 2:00 . If you like , please leave your name and phone number , I'll have him call you as soon as he comes back . \",\n",
       " \" That's nice . My name is Steven , my phone number is 6789777 . Okay , I'll be waiting for his call . Thank you and bye ! \",\n",
       " ' My pleasure , bye ! ',\n",
       " 'Excuse me , Miss . ',\n",
       " ' What can I do for you ? ',\n",
       " \" I've just heard an announcement that my flight has been delayed . \",\n",
       " \" What's your flight number ? \",\n",
       " ' Flight CA216 to Chengdu . ',\n",
       " \" Yes , it's true . It has been delayed . \",\n",
       " ' Could you please tell me why ? ',\n",
       " ' Yes , of course . The delay is due to heavy rain . ',\n",
       " ' How long will the delay be ? Do you have any further information about it ? ',\n",
       " \" I am sorry , we don't know the extent of the delay at present . But according to the latest weather forecast , there will be a change in weather soon . \",\n",
       " ' We have to wait . Well , is it possible for the rain to stop before noon ? ',\n",
       " \" It's hard to say . Weather is so changeable in the summer . Please listen to the latest announcement about your flight . \",\n",
       " ' Yes , I will . Thanks a lot . Bye ! ',\n",
       " ' Bye ',\n",
       " \"What are we going to do ? I can't get the car out of this ditch . I'm stuck ! \",\n",
       " \" I'm worried , Tom . I haven't seen any other cars for almost an hour . \",\n",
       " \" I know . This is terrible . What can we do ? This snow doesn't stop falling ! \",\n",
       " ' I told you we should have stayed in town today.The weather report said 100 percent chance of snow.Why did you want to come up here ? ',\n",
       " ' I wanted to show you the cabin . We only had another half-hour to go . ',\n",
       " \" Well , now we're stuck . What can we do ? \",\n",
       " \" I don't know . \",\n",
       " \" I've heard that when this happens , it's important to save energy . \",\n",
       " ' What do you mean ? ',\n",
       " \" We're stranded here , Tom . We may be here a long time.We need to conserve the gas in the car . The car's energy is what will keep us warm . \",\n",
       " ' I have plenty of gas . ',\n",
       " \" Yes , but the gas and the battery both have to stay working.We can't just let the car run and run.If we do , it will die soon . Then we'll freeze . \",\n",
       " ' So what can we do ? ',\n",
       " ' Turn the lights off.Then , run the car and the heater only about fifteen minutes every hour.That will conserve the heat as long as possible . ',\n",
       " \" Alright . That's a good idea . \",\n",
       " \" I wish we hadn't come up here . Now we'll probably be here for days . \",\n",
       " ' Days ? ',\n",
       " ' Yes , it happens.That is what happens in big snowstorms . People get stranded for days . ',\n",
       " \" Oh , my God ! It's good we have food . \",\n",
       " \" Probably we'll survive.But turn the car off for about forty-five minutes . Then we'll turn it on again . \",\n",
       " 'Hey , buddy , can ’ t you see there ’ s a line ? ',\n",
       " ' Oh , sorry . I didn ’ t know . ',\n",
       " ' What ? You haven ’ t taken the bus before ? ',\n",
       " ' No , I ’ m afraid not . ',\n",
       " ' Well , you have to wait in line like everyone else . Besides , you should let old people on first . ',\n",
       " ' Sorry . ',\n",
       " ' It ’ s all right . Where are you going ? ',\n",
       " ' I wanted to see the White House . ',\n",
       " ' Oh , well you don ’ t want this bus , anyway . It goes to Georgetown . ',\n",
       " ' Oh , no . ',\n",
       " ' It ’ s all right , though . Just get off at the next stop and catch the 79A . ',\n",
       " ' Oh , well thank you very much . ',\n",
       " ' You ’ re welcome . ',\n",
       " 'Can I help you ? ',\n",
       " \" I'd like the double cheese burger meal , please . \",\n",
       " ' What kind of drink would you like with that ? ',\n",
       " ' Just coke will be fine . ',\n",
       " \" Would you like a super size meal ? Only 2 RIB more , you'll get large coke and fries instead of medium . And today we are offering free toys all the meal boxes . \",\n",
       " \" That sounds good , thanks , I'd like that . Actually I'd like sprite instead of coke , thanks . \",\n",
       " \" That's not a problem , Miss . Will that be it ? \",\n",
       " \" Yes , that's all . \",\n",
       " ' That will be 25RMB , please ',\n",
       " ' You got it . ',\n",
       " 'Do you have any night tours ? ',\n",
       " ' Yes , we will depart in 10 minutes . ',\n",
       " ' Is that a guided tour ? ',\n",
       " ' Yes , it is . ',\n",
       " \" That's fine . Let's get on the bus . \",\n",
       " 'I am sure we will make it up as soon as possible . ',\n",
       " \" That's nice . \",\n",
       " ' We hope this matter will not affect our good relations in our future dealings . ',\n",
       " ' Of course not . We have cooperated for a long time . ',\n",
       " 'I would like to purchase some meat . ',\n",
       " ' What kind of meat would you like to get today ? ',\n",
       " \" First off , I'm going to need a pound of ground beef . \",\n",
       " ' A pound of ground beef is $ 2.48 . ',\n",
       " \" That's perfect . \",\n",
       " ' What else will you be needing ? ',\n",
       " \" I'm also going to need three pounds of chicken breasts . \",\n",
       " ' The chicken breasts cost $ 4.05 per pound . ',\n",
       " \" What's the total price for the chicken ? \",\n",
       " \" It's going to be $ 12.15 . \",\n",
       " ' Okay , I think that will be all for me today . ',\n",
       " 'I think you know already that I want to discuss the represent - ton for your alarm clocks . ',\n",
       " ' Yes , Mr . Bergeron . You mentioned that in your letter . To tell you the truth , your proposal surprised us . ',\n",
       " ' Is that so ? Anyhow I want to go over the details with you in person , so you can give my suggestion thorough consideration . Our firm specializes in this line of business . We have six sales representatives , who are on the road all the time , covering the whole of the European market . ',\n",
       " ' Do you sell direct to shops ? ',\n",
       " ' Yes , we specialize in handling clocks and watches of all sorts . We have well established channels of distribution and we canvass the retailers direct , without any middlemen . ',\n",
       " ' Do you keep a stock of these things ? ',\n",
       " ' In some cases , such as the wristwatches , which always have a steady market , we keep a stock in London and act as distributors as well as agents . Generally , however , we pass on the orders of our clients to the manufacturers for supply . We are paid for our service , of course . ',\n",
       " ' That is , your commission . ',\n",
       " ' Yes , our commission is very reasonable . We usually get a 10 % commission of the amount on every deal . ',\n",
       " ' Our agents in other areas usually get a 3-5 % commission . ',\n",
       " ' The European market is not familiar with your products . You have competitors from Japan and other continental countries . At the beginning of our campaign , there is sales resistance to overcome , we must send out salesmen to do a lot of traveling and spend a considerable amount of money on advertising in news - papers and TV programs . A 10 % commission will not leave us much . ',\n",
       " ' According to your estimate , what is the maximum annual turn - over you can fulfill , in round figures , of course ? ',\n",
       " ' We will always do our utmost to enlarge the business , as our remuneration increases with the turnover , but we will not guar - ante anything , at least not to begin with . ',\n",
       " ' We appreciate very much your intention to push the sale of our products . But our suggestion to you , Mr . Bergeron , as a preliminary step , is to do a little research into the market ... ',\n",
       " ' Do you mean to say you refuse us the agency ? ',\n",
       " ' Mr . Bergeron , you leave us no alternative . We can not give you an exclusive agency of the whole European market without having the slightest idea of your possible annual marketing turnover . Besides our price is worked out according to the costing . A 10 % commission means an increase in our price . We must have the reaction of the buyers in this respect . ',\n",
       " \" Oh , that's just too bad . I intended to make great efforts in selling your products . \",\n",
       " ' Well , we can still carry on our business relationship without the agreement . To start the ball rolling , we will provide you with price lists , catalogues and some samples . Only when you have a thorough knowledge of the marketing possibilities of our products , can we then discuss further details . ',\n",
       " ' Ah , Mrs . Miller , but in this case am I covered ? ',\n",
       " ' Oh , yes . We will give you a 5 % commission on every transaction . ',\n",
       " \" All right , but I'll be back again for the Autumn Fair . And then I hope we can see eye to eye about our commission and the terms of the agency . \",\n",
       " ' Very good . We will discuss the matter again at the next Fair . ',\n",
       " 'Excuse me , I ’ m sorry to trouble you . My name is Susan Ransom , and I have placed several orders with you company . ',\n",
       " ' Yes , Mr . Ransom ? This is Karl Miller . How may I help you ? ',\n",
       " ' Well , I wonder if you could track an order I placed with you last month . It hasn ’ t arrived yet . ',\n",
       " ' Certainly , Ms . Ransom . Do you have an order number ? ',\n",
       " 'Have you worked out the offers . Mr . Thou ? ',\n",
       " \" Yes , we have . Here's our CIF quotation sheet . Please have a careful look . \",\n",
       " ' Are the prices on the list firm offers ? ',\n",
       " ' Yes . All the quotations on the list are subject to our final confirmation . ',\n",
       " ' I wonder whether there are any changes in your prices . ',\n",
       " ' All these products are our best-selling lines . The prices of our products will change according to that of the international market demand . And we are always open to negotiate , especially on larger orders . What do you have in mind ? ',\n",
       " ' How long does your offer remain valid ? I need some time to get my supervisors on board with this plan . ',\n",
       " ' I understand . Our offer remains open for 4 days . ',\n",
       " 'Hello sir , may I help you ? ',\n",
       " ' Yeah , I accidentally dropped my phone in the toilet . ',\n",
       " ' I see . Well , you have come to the right place . We have over one hundred models of more than twenty leading mobile phone manufacturers . ',\n",
       " ' Sounds good . I don ’ t want it to be too expensive , maybe something mid-range . ',\n",
       " ' We have this new ETC smart phone.It comes with the Android OS so you can download applications . It also has a built-in camera , mp3 player and touch screen . It works on the 3G network so you have fast access to the internet wherever you are . ',\n",
       " ' What about Wi-fi ? ',\n",
       " ' Of course ! You can access the internet from any hotspot as well as from home . ',\n",
       " ' One last thing . Is it waterproof ? ',\n",
       " 'We have been over this a hundred times ! We are not getting a pet ! ',\n",
       " ' Why not ? Come on ! Just a cute little puppy or a kitty ! ',\n",
       " ' Who is going to look after a dog or a cat ? ',\n",
       " ' I will ! I ’ ll feed it , bathe it and walk it every day ! We can get a Labrador or a German Shepard ! ',\n",
       " ' What if we want to take a vacation ? Who will we leave it with ? Plus , our apartment is too small for that breed of dog . ',\n",
       " ' Ok . How about we get a cat or a ferret ? ',\n",
       " ' We ’ re planning on having children soon , I don ’ t think those animals are a good idea with a baby in the house . ',\n",
       " ' Fine ! Let ’ s get a bird then ! We can keep it in its cage and teach it to talk ! A parrot would be awesome ! ',\n",
       " ' I ’ ll tell you what , I can get you some hamsters and we ’ ll take it from there . ',\n",
       " ' Yay ! ',\n",
       " 'Good evening , Mr . Lee and thank you for choosing our airline . We have just discovered that this flight is overbooked . Would you like to volunteer to give up your seat ? ',\n",
       " ' Overbooked ? Give up my seat ? I don ’ t understand . ',\n",
       " ' From time to time we have a situation in which there are more passengers than there are seats on the aircraft . That ’ s overbooked . ',\n",
       " ' I know what overbooked is , I just don ’ t understand how that could happen ? ',\n",
       " ' Actually it ’ s a common practice to overbook , as passengers often don ’ t take their flight as scheduled . Most of the time there is no problem but today , more passengers arrived than we have seats , ',\n",
       " ' So who has to stay behind ? ',\n",
       " ' Well , first we ask for volunteers . If someone like yourself volunteers , they receive a free round trip ticket to be used within one year . If no one volunteers we just have to select someone . ',\n",
       " ' Ok . I ’ ll volunteer . I could use a free ticket ! ',\n",
       " 'I want to rent this apartment . ',\n",
       " ' I ’ m glad to hear that . ',\n",
       " ' How much are you asking ? ',\n",
       " ' You will have to pay $ 1050 every month . ',\n",
       " ' I can ’ t afford that . ',\n",
       " ' What can you afford ? ',\n",
       " ' I was thinking $ 800 a month . ',\n",
       " ' I ’ ll need you to pay more than that . ',\n",
       " ' How much more ? ',\n",
       " ' How does $ 900 every month sound to you ? ',\n",
       " ' I can live with that . ',\n",
       " ' We have a deal then . ',\n",
       " 'Good morning , Miss Monica . Nice to meet you again ! ',\n",
       " ' Good morning , Mr . Thomas , it is nice to see you too . ',\n",
       " ' After the internal discussion , we have all agreed that you are the most suitable person for this position among all the candidates . So , today let ’ s talk about your expected salary and social benefits . What is your expected salary ? ',\n",
       " ' I ’ Ve worked in the field for more than 4 years . Depend on my work qualifications and experience , I would like to have 5000 Yuan to start . ',\n",
       " ' The basic salary for your position in our company would be 4800 Yuan to start with increases giving according to your performance . ',\n",
       " ' It is a bit lower than I expected . But I can accept that . What are the working hours ? ',\n",
       " ' 40 hours a week , Monday to Friday , 9 AM to 5 PM with one hour lunch break every day .. ',\n",
       " ' Do I have to work on weekend ? If so , how do you pay for the overtime ? ',\n",
       " ' We do expect overtime work when it is necessary , but we pay twice of the work hour for working on weekends and three times for working on national holidays like Spring Festival and the Mid-Autumn Day . ',\n",
       " ' Is there probation ? ',\n",
       " ' No probation is involved . If you feel good , you can start next week . ',\n",
       " \"Welcome to the McDonald's . What will it be for you , madam ? \",\n",
       " ' One Big Mac and French Fries . ',\n",
       " ' Is there anything else ? ',\n",
       " ' Give me one coke , please . ',\n",
       " ' Is this to go or to eat here ? ',\n",
       " ' To go , please . ',\n",
       " ' That comes to four dollars and ten cents . ',\n",
       " ' And can I have some ketchup , please ? ',\n",
       " \" It's on the service counter over there . Please go to help yourself . \",\n",
       " \"What's the name of this street ? \",\n",
       " ' University Street . ',\n",
       " ' Do you know of any banks near here ? ',\n",
       " \" You'll see one at the corner on your right . \",\n",
       " 'Hey there , you look a little lost . Are you new here ? ',\n",
       " ' Yeah how ’ d you know ? ',\n",
       " ' You can always spot the newbies . I can give you a few pointers if you want . Were you trying to use this machine here ? ',\n",
       " ' Yeah ! I just started my training today and I ’ m not really sure where to begin . ',\n",
       " ' It ’ s ok , I know how it is . This machine here will work out your upper body , mainly your triceps and biceps . Are you looking to develop strength or muscle tone and definition ? ',\n",
       " ' Well , I don ’ t want to be ripped like you ! I just want a good physique with weights and Carpio . ',\n",
       " ' In that case you want to work with less weight . You can start off by working ten to fifteen reps in four sets . Five kilo weights should be enough . Now it ’ s very important that you stretch before pumping iron or you might pull a muscle . ',\n",
       " ' Got it ! Wow is that the weight you are lifting ? My goodness that ’ s a lot of weight ! ',\n",
       " ' It ’ s not that much . Just watch ... I ’ m ok ... ',\n",
       " 'Excuse me.Could you tell me how to return to the Hilton Hotel ? I am afraid I lost my way . ',\n",
       " ' Do you have a hotel card or something ? ',\n",
       " \" Let's see.Yes , I have the address and telephone number here . \",\n",
       " \" Oh , you're staying at the downtown Hilton.Then , you go down two blocks this way and turn left.You ' ll find it on the right . \",\n",
       " \" Well , I don't understand it very well.Will you draw me a map ? \",\n",
       " 'Excuse me , but could you tell me the way to the railway station ? ',\n",
       " ' The railway station ? Just go down this street and turn left at the second corner . The station is at the end of that street . ',\n",
       " ' How long will it take me to get there ? ',\n",
       " \" It's about a ten-minute walk . \",\n",
       " \" That's very clear . I think I can find my way now . Thank you . \",\n",
       " ' Not at all . ',\n",
       " 'How does the political system work in your country ? ',\n",
       " ' We have hundreds of constituencies and the voters in each one elect a member of parliament . Most people call them mp ’ s . ',\n",
       " ' Each mp belongs to a political party , right ? ',\n",
       " ' Almost all of them do . A few are independent . That means that they do not belong to a party . If one party more than half of the mp ’ s . they form a government . That means that they choose a prime Finist ',\n",
       " ' What ’ s a cabinet ? ',\n",
       " ' This is a small group of people-perhaps 25 mp ’ s who are usually ministers . They make all the big decision and discuss laws and policy . ',\n",
       " ' Can any mp make a law ? ',\n",
       " ' Any mp can present a law to parliament . The proposed law is debated and voted on . If it is accepted , it becomes law . ',\n",
       " ' I suppose a proposed a law needs the support of the big political parties . ',\n",
       " ' Yes , it does , because they have most of the mp ’ s . most mp ’ s vote the way their party wants them to . ',\n",
       " ' How do people choose which party or candidate to vote for ? ',\n",
       " ' They produce manifesto . These documents which states their policies . Some people just vote for the same party every time there is an election . Voters who often change the party they vote for are Calle ',\n",
       " 'How was your interview ? ',\n",
       " ' Pretty good . The HR manager asked me the usual questions . Then he wondered why I had decided to leave my previous job . ',\n",
       " ' What did you say ? ',\n",
       " ' I told him that I hadn ’ t got a raise for three years . I also told him that one of my best co-workers quitted her job because she had not been promoted for eight years . ',\n",
       " ' Did he want to know the reasons ? ',\n",
       " ' Yes . I told him that my boss made some excuses of the recession . But I thought he had a pattern and a record of promoting men only . ',\n",
       " ' That ’ s sex discrimination . When will you get the reply ? ',\n",
       " ' In a couple of days , I was told . ',\n",
       " ' Wish you good luck ! ',\n",
       " ' Thank you . ',\n",
       " 'What qualities do you think a senior executive should possess ? ',\n",
       " ' Generally speaking , he needs creativity , the ability to communicate , sense of personal responsibilities , the ability to solve problems and so on . ',\n",
       " ' Do you have all these qualities ? ',\n",
       " ' Yes , I have all of them . I am totally competent to be a senior executive . ',\n",
       " 'Hi . I need more amenities , please . ',\n",
       " ' Could you be a little more specific , sir ? ',\n",
       " ' Well , to be more specific , the free stuff , like soap , lotion , and shampoo . ',\n",
       " \" I understand . Now , you're saying that you've already used up all your amenities ? \",\n",
       " \" Oh , no ! I've got all I need for my stay here . \",\n",
       " \" So , what's the problem ? \",\n",
       " ' I need souvenirs ! ',\n",
       " ' You want some souvenirs ! ',\n",
       " ' Yes , yes . Souvenirs . ',\n",
       " ' But , sir , our souvenir shop carries all those items . ',\n",
       " \" That's not the same thing . If you buy hotel souvenirs , they have no sentimental value . \",\n",
       " \" I understand , sir . I'll call housekeeping . You'll have your souvenirs shortly . \",\n",
       " 'Hello , may I help you ? ',\n",
       " \" Yes.We ' re interested in seeing the rooms for rent . \",\n",
       " \" Oh , how nice.They ' re bright rooms and the house is very quiet . \",\n",
       " \" A nice quiet house is exactly what we're looking for . \",\n",
       " \" Well , gentleman.Each room is $ 40 a week if you think that's OK . \",\n",
       " ' That sounds just wonderful to us . ',\n",
       " ' When do you want to move in ? ',\n",
       " ' How about this afternoon ? ',\n",
       " \" Fine . I'll be expecting you around two . \",\n",
       " 'Are you ready to order ? May I suggest a veal ? ',\n",
       " \" No , I'll have the fish please . \",\n",
       " ' The chicken is also nice . ',\n",
       " ' No , I want the fish . ',\n",
       " ' Our special tonight is lobster . ',\n",
       " ' Thank you , but I prefer the fish . ',\n",
       " \" Perhaps you'd enjoy the lamb . \",\n",
       " ' No , I like the fish . ',\n",
       " ' What ever you say ? ',\n",
       " 'Am I ever hungry ? When will supper be ready ? ',\n",
       " \" It's almost ready . Can you set the table ? \",\n",
       " ' All right . ',\n",
       " ' Want to taste this dish ? ',\n",
       " \" Yeah . Oh , it's delicious ! \",\n",
       " ' Really ? ',\n",
       " \" Definitely . It's a wonderful meal . Thank you , Honey . \",\n",
       " \" If you like to help me do the dishes , I'll be more dreadful . \",\n",
       " \" I wish I could , but I won't . \",\n",
       " 'Good morning , Kate . Long time no see . ',\n",
       " ' Good morning , Vera , Nice to meet you . ',\n",
       " ' Kate , I know you ’ Ve been a stewardess for more than one year . And I ’ ll have an interview on stewardess tomorrow . Can you tell me some etiquette about the interview ? ',\n",
       " ' Of course . First you should do up your long hair and do make up but not too thick . ',\n",
       " ' Is there anything else I should pay attention to ? ',\n",
       " \" Yes , when you attend the interview , you should pay attention to your manner , style of conversation and expression . You should keep smiling always , being polite when you talk with the interviewer . Don't move from time to time when you sit there . And you also should know how to use eye contact . \",\n",
       " \" Thank you , I've learned so much from you . \",\n",
       " ' That ’ s all right . Hope you can do better tomorrow . ',\n",
       " 'Can you fix me a cup of tea , Johnny ? ',\n",
       " ' Well ... uh ... how about a glass of juice instead ? ',\n",
       " \" No . I'd like tea . Can you put it in my favorite cup ? You probably washed it ... \",\n",
       " ' Oh , yeah . Well , uh , about your mug ... ',\n",
       " \" I'll find it ... Where are all the floral pattern plates ? And dad's Yankee's mug ? \",\n",
       " 'Good morning , sir . May I help you ? ',\n",
       " \" Yes , I'd like to settle my bill . \",\n",
       " ' Certainly sir . May I have your room key , please ? ',\n",
       " ' Sure . Here you are . ',\n",
       " \" Just a moment , please . I'll draw up your bill for you ... Thank you for waiting , sir . Your bill totals two thousand six hundred and fifty-eight yuan , including the phone and laundry . \",\n",
       " ' That much ! Would you mind letting me have a look at it ? ',\n",
       " ' Not at all , sir . Here you are . ',\n",
       " ' Thanks . Well , It seems to be right . How much is that in dollars , please ? ',\n",
       " \" Just a moment , sir . I'll calculate that for you . It comes to 305 dollars and 52 cents at today's exchange rate . \",\n",
       " ' I see . OK . ',\n",
       " ' How would you like to make the payment ? ',\n",
       " ' In cash , please . Here you are . ',\n",
       " ' Thank you , sir ... Here is your change . Could you check it , please ? Thank you for choosing our hotel . I hope you enjoyed your stay . ',\n",
       " ' By the way , please forward my mail to this address . ',\n",
       " ' Certainly , sir . We hope you have a good trip . ',\n",
       " 'Hi , Sam . I want to buy a pet . Do you have any ideas ? ',\n",
       " \" You really should go to Rachel's pet store . \",\n",
       " ' why ? anything special there ? ',\n",
       " \" it's more than special . You can find as many kinds of animals as you can put a name to and more . \",\n",
       " ' Oh , really ? are there any snakes ? ',\n",
       " \" snakes ? there are even rodents and monkeys ! it's a world of exotic pets . \",\n",
       " \" that's terrific . I can't wait to check it out . \",\n",
       " ' Hang on . are you sure you want to keep a non-traditional pet ? ',\n",
       " \" why not ? it's so cool . \",\n",
       " ' but it will pose a risk to your health . ',\n",
       " ' pardon ? ',\n",
       " ' i mean , most reptiles carry some harmful bacteria . they are likely to cause immune system problems . ',\n",
       " \" well , I didn't realize that . \",\n",
       " \" I don't believe it's a good choice to keep those pets , especially for families with young children . \",\n",
       " \" oh , I should have thought of my brother's baby girl . Maybe I'll just have a dog instead of an exotic pet . \",\n",
       " ' yes , good luck , Maria . ',\n",
       " 'I ’ m a new student . My name ’ s Robert . ',\n",
       " ' Nice to meet you . My name ’ s Sophie . ',\n",
       " ' Are you French ? ',\n",
       " ' Yes , I ’ m . Are you French , too ? ',\n",
       " ' No , I ’ m not . ',\n",
       " ' What nationality are you ? ',\n",
       " ' I ’ m Italian . Are you a teacher ? ',\n",
       " ' No , I ’ m not . ',\n",
       " ' What ’ s your job ? ',\n",
       " ' I ’ m a keyboard operator . What ’ s your job ? ',\n",
       " ' I ’ m an engineer . ',\n",
       " 'I can ’ t believe Obama is our President . ',\n",
       " ' I am proud to know that he is our President . ',\n",
       " ' You voted for him , right ? ',\n",
       " ' Did you vote for him , because I know that I did . ',\n",
       " ' I did , too . ',\n",
       " ' I have nothing but faith in Obama . ',\n",
       " ' Really ? ',\n",
       " ' I ’ m sure he will help better America . ',\n",
       " ' We do need some change in this country . ',\n",
       " ' Our country is already changing as it is . ',\n",
       " ' You ’ re absolutely right . ',\n",
       " ' I trust that he will take good care of our country . ',\n",
       " 'Do you have a reservation , sir ? ',\n",
       " ' No , I ’ m afraid we don ’ t . ',\n",
       " ' I ’ m sorry the restaurant is full now . You have to wait for about half an hour . Would you like to have a drink at the lounge until there ’ s a table available . ',\n",
       " ' No , thanks , I ’ ll come back later . May I reserve a table for two ? ',\n",
       " ' Yes , of course . May I have your name , sir ? ',\n",
       " ' Bruce By the way , can we have a table by the window ? ',\n",
       " ' we ’ ll try to arrange it , but I can ’ t guarantee sir . ',\n",
       " ' That ’ s fine . ',\n",
       " \" your table's ready , sir ? Please step this way . \",\n",
       " 'Do you have coffee shops in China , too ? ',\n",
       " ' Yes , of course . There are many tea houses and bars in China , too . People can drink , eat and relax at these places . ',\n",
       " ' You like to go to these places , don ’ t you ? ',\n",
       " ' Yes , sometimes the music there is so beautiful . It is very romantic . I can stay there for hours . ',\n",
       " ' Do you often go there alone ? ',\n",
       " ' No , I often go there with my friends . ',\n",
       " 'Hi there ! I am looking for a new car . I have this old Ford Pinto that I would like to trade in . ',\n",
       " ' I see . You are in luck this month because all of our models are on sale ! it is a perfect time to buy a new car since it ’ s the end of the year . ',\n",
       " ' Perfect ! I like this one . ',\n",
       " ' That is the Ford Focus . A very light but powerful vehicle . It comes with dual side airbags , power steering and power windows , tinted windows and your choice of either automatic or manual transmission . ',\n",
       " ' Sounds like a good car ! How many miles to the gallon ? ',\n",
       " ' It is a very fuel efficient vehicle giving you about 34 miles in the city and 40 on the highway . ',\n",
       " ' That is really convenient . Especially now that fuel prices are so high ! What ’ s under the hood ? ',\n",
       " ' A very powerful 2.5- liter turbocharged engine , Trust me , this car is fast ! ',\n",
       " ' Now for the most difficult question . What is the price tag for this lovely vehicle ? ',\n",
       " ' Very affordable mam . You can take it out of this lot today with 0 % down payment and no interest for the first year ! You can test drive it now and we can sign the papers when we get back . ',\n",
       " ' Great ! Let ’ s do it ! ',\n",
       " \"I wonder if you could help me , I'm looking for a room . \",\n",
       " ' Well , I have got a vacancy . ',\n",
       " ' What sort of price are you asking ? ',\n",
       " ' Eight dolls fifty a week excluding laundry . ',\n",
       " ' Would it be convenient to see the room ? ',\n",
       " \" Can you call back later ? We're right in the middle of lunch . \",\n",
       " 'Could you give me an expense report ? I would like to attach the invoices for my phone bill this season . ',\n",
       " ' Here you are . Do you need glue ? ',\n",
       " ' That is very kind of you . I ’ m just running out of glue . ',\n",
       " ' You ’ re welcome . ',\n",
       " 'IBA , Jane speaking . How can I help you ? ',\n",
       " \" Hello . I'd like to speak to someone regarding my card . \",\n",
       " \" Sorry , I'm not quite sure if I understand . In what way , Sir ? Has your card been stolen ? \",\n",
       " \" No , no . Nothing at all like that . It's just that I applied for a credit card with you a while ago , my application was accepted , but I'm still waiting for my card . \",\n",
       " ' Oh , I see , Sir . Well , it does take 5 working days to issue and post the card . ',\n",
       " \" Yes , my application was accepted last Friday . Now it's Wednesday , that's more than 5 days . \",\n",
       " \" Sorry , Sir , but it's 5 working days . This does not include weekends , so your card should be with you later this week . \",\n",
       " ...]"
      ]
     },
     "execution_count": 63,
     "metadata": {},
     "output_type": "execute_result"
    }
   ],
   "source": [
    "valX"
   ]
  },
  {
   "cell_type": "code",
   "execution_count": 66,
   "metadata": {},
   "outputs": [
    {
     "data": {
      "text/plain": [
       "array([[0.4       , 0.4175    , 0.12916667, 0.05333333],\n",
       "       [0.53      , 0.34      , 0.03      , 0.1       ],\n",
       "       [0.30625   , 0.1       , 0.54375   , 0.05      ]])"
      ]
     },
     "execution_count": 66,
     "metadata": {},
     "output_type": "execute_result"
    }
   ],
   "source": [
    "probs[0:3]"
   ]
  }
 ],
 "metadata": {
  "kernelspec": {
   "display_name": "Python 3",
   "language": "python",
   "name": "python3"
  },
  "language_info": {
   "codemirror_mode": {
    "name": "ipython",
    "version": 3
   },
   "file_extension": ".py",
   "mimetype": "text/x-python",
   "name": "python",
   "nbconvert_exporter": "python",
   "pygments_lexer": "ipython3",
   "version": "3.6.2"
  }
 },
 "nbformat": 4,
 "nbformat_minor": 2
}
